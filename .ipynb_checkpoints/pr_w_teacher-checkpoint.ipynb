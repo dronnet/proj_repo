{
 "cells": [
  {
   "cell_type": "markdown",
   "id": "dce8c8b1",
   "metadata": {},
   "source": [
    "<h1>Содержание<span class=\"tocSkip\"></span></h1>\n",
    "<div class=\"toc\"><ul class=\"toc-item\"><li><span><a href=\"#Подготовка-данных\" data-toc-modified-id=\"Подготовка-данных-1\"><span class=\"toc-item-num\">1&nbsp;&nbsp;</span>Подготовка данных</a></span></li><li><span><a href=\"#Исследование-задачи\" data-toc-modified-id=\"Исследование-задачи-2\"><span class=\"toc-item-num\">2&nbsp;&nbsp;</span>Исследование задачи</a></span></li><li><span><a href=\"#Борьба-с-дисбалансом\" data-toc-modified-id=\"Борьба-с-дисбалансом-3\"><span class=\"toc-item-num\">3&nbsp;&nbsp;</span>Борьба с дисбалансом</a></span></li><li><span><a href=\"#Тестирование-модели\" data-toc-modified-id=\"Тестирование-модели-4\"><span class=\"toc-item-num\">4&nbsp;&nbsp;</span>Тестирование модели</a></span></li><li><span><a href=\"#Чек-лист-готовности-проекта\" data-toc-modified-id=\"Чек-лист-готовности-проекта-5\"><span class=\"toc-item-num\">5&nbsp;&nbsp;</span>Чек-лист готовности проекта</a></span></li></ul></div>"
   ]
  },
  {
   "cell_type": "markdown",
   "id": "4fccf8d0",
   "metadata": {},
   "source": [
    "# Отток клиентов"
   ]
  },
  {
   "cell_type": "markdown",
   "id": "2ee83b14",
   "metadata": {},
   "source": [
    "Из «Бета-Банка» стали уходить клиенты. Каждый месяц. Немного, но заметно. Банковские маркетологи посчитали: сохранять текущих клиентов дешевле, чем привлекать новых.\n",
    "\n",
    "Нужно спрогнозировать, уйдёт клиент из банка в ближайшее время или нет. Вам предоставлены исторические данные о поведении клиентов и расторжении договоров с банком. \n",
    "\n",
    "Постройте модель с предельно большим значением *F1*-меры. Чтобы сдать проект успешно, нужно довести метрику до 0.59. Проверьте *F1*-меру на тестовой выборке самостоятельно.\n",
    "\n",
    "Дополнительно измеряйте *AUC-ROC*, сравнивайте её значение с *F1*-мерой.\n",
    "\n",
    "Источник данных: [https://www.kaggle.com/barelydedicated/bank-customer-churn-modeling](https://www.kaggle.com/barelydedicated/bank-customer-churn-modeling)"
   ]
  },
  {
   "cell_type": "markdown",
   "id": "5aeec7e3",
   "metadata": {},
   "source": [
    "## Подготовка данных"
   ]
  },
  {
   "cell_type": "code",
   "execution_count": 1,
   "id": "3a6f3f2c",
   "metadata": {},
   "outputs": [],
   "source": [
    "import pandas as pd\n",
    "import numpy as np\n",
    "import matplotlib.pyplot as plt\n",
    "import os\n",
    "\n",
    "from sklearn.model_selection import train_test_split\n",
    "from sklearn.tree import DecisionTreeClassifier\n",
    "from sklearn.ensemble import RandomForestClassifier\n",
    "from sklearn.linear_model import LogisticRegression\n",
    "from sklearn.dummy import DummyClassifier\n",
    "from sklearn import svm\n",
    "\n",
    "from sklearn.preprocessing import StandardScaler\n",
    "from sklearn.utils import shuffle\n",
    "\n",
    "from sklearn.metrics import f1_score, accuracy_score, recall_score, precision_score, confusion_matrix, roc_auc_score"
   ]
  },
  {
   "cell_type": "code",
   "execution_count": 2,
   "id": "4432abce",
   "metadata": {},
   "outputs": [],
   "source": [
    "pth1 = 'Churn.csv'\n",
    "pth2 = '/datasets/Churn.csv'\n",
    "\n",
    "if os.path.exists(pth1):\n",
    "    df = pd.read_csv(pth1)#, sep='\\t')\n",
    "elif os.path.exists(pth2):\n",
    "    df = pd.read_csv(pth2)#, sep='\\t')\n",
    "else:\n",
    "    print('Something is wrong')"
   ]
  },
  {
   "cell_type": "code",
   "execution_count": 3,
   "id": "e3c0e7a8",
   "metadata": {},
   "outputs": [
    {
     "data": {
      "text/html": [
       "<div>\n",
       "<style scoped>\n",
       "    .dataframe tbody tr th:only-of-type {\n",
       "        vertical-align: middle;\n",
       "    }\n",
       "\n",
       "    .dataframe tbody tr th {\n",
       "        vertical-align: top;\n",
       "    }\n",
       "\n",
       "    .dataframe thead th {\n",
       "        text-align: right;\n",
       "    }\n",
       "</style>\n",
       "<table border=\"1\" class=\"dataframe\">\n",
       "  <thead>\n",
       "    <tr style=\"text-align: right;\">\n",
       "      <th></th>\n",
       "      <th>RowNumber</th>\n",
       "      <th>CustomerId</th>\n",
       "      <th>Surname</th>\n",
       "      <th>CreditScore</th>\n",
       "      <th>Geography</th>\n",
       "      <th>Gender</th>\n",
       "      <th>Age</th>\n",
       "      <th>Tenure</th>\n",
       "      <th>Balance</th>\n",
       "      <th>NumOfProducts</th>\n",
       "      <th>HasCrCard</th>\n",
       "      <th>IsActiveMember</th>\n",
       "      <th>EstimatedSalary</th>\n",
       "      <th>Exited</th>\n",
       "    </tr>\n",
       "  </thead>\n",
       "  <tbody>\n",
       "    <tr>\n",
       "      <th>0</th>\n",
       "      <td>1</td>\n",
       "      <td>15634602</td>\n",
       "      <td>Hargrave</td>\n",
       "      <td>619</td>\n",
       "      <td>France</td>\n",
       "      <td>Female</td>\n",
       "      <td>42</td>\n",
       "      <td>2.0</td>\n",
       "      <td>0.00</td>\n",
       "      <td>1</td>\n",
       "      <td>1</td>\n",
       "      <td>1</td>\n",
       "      <td>101348.88</td>\n",
       "      <td>1</td>\n",
       "    </tr>\n",
       "    <tr>\n",
       "      <th>1</th>\n",
       "      <td>2</td>\n",
       "      <td>15647311</td>\n",
       "      <td>Hill</td>\n",
       "      <td>608</td>\n",
       "      <td>Spain</td>\n",
       "      <td>Female</td>\n",
       "      <td>41</td>\n",
       "      <td>1.0</td>\n",
       "      <td>83807.86</td>\n",
       "      <td>1</td>\n",
       "      <td>0</td>\n",
       "      <td>1</td>\n",
       "      <td>112542.58</td>\n",
       "      <td>0</td>\n",
       "    </tr>\n",
       "    <tr>\n",
       "      <th>2</th>\n",
       "      <td>3</td>\n",
       "      <td>15619304</td>\n",
       "      <td>Onio</td>\n",
       "      <td>502</td>\n",
       "      <td>France</td>\n",
       "      <td>Female</td>\n",
       "      <td>42</td>\n",
       "      <td>8.0</td>\n",
       "      <td>159660.80</td>\n",
       "      <td>3</td>\n",
       "      <td>1</td>\n",
       "      <td>0</td>\n",
       "      <td>113931.57</td>\n",
       "      <td>1</td>\n",
       "    </tr>\n",
       "    <tr>\n",
       "      <th>3</th>\n",
       "      <td>4</td>\n",
       "      <td>15701354</td>\n",
       "      <td>Boni</td>\n",
       "      <td>699</td>\n",
       "      <td>France</td>\n",
       "      <td>Female</td>\n",
       "      <td>39</td>\n",
       "      <td>1.0</td>\n",
       "      <td>0.00</td>\n",
       "      <td>2</td>\n",
       "      <td>0</td>\n",
       "      <td>0</td>\n",
       "      <td>93826.63</td>\n",
       "      <td>0</td>\n",
       "    </tr>\n",
       "    <tr>\n",
       "      <th>4</th>\n",
       "      <td>5</td>\n",
       "      <td>15737888</td>\n",
       "      <td>Mitchell</td>\n",
       "      <td>850</td>\n",
       "      <td>Spain</td>\n",
       "      <td>Female</td>\n",
       "      <td>43</td>\n",
       "      <td>2.0</td>\n",
       "      <td>125510.82</td>\n",
       "      <td>1</td>\n",
       "      <td>1</td>\n",
       "      <td>1</td>\n",
       "      <td>79084.10</td>\n",
       "      <td>0</td>\n",
       "    </tr>\n",
       "    <tr>\n",
       "      <th>5</th>\n",
       "      <td>6</td>\n",
       "      <td>15574012</td>\n",
       "      <td>Chu</td>\n",
       "      <td>645</td>\n",
       "      <td>Spain</td>\n",
       "      <td>Male</td>\n",
       "      <td>44</td>\n",
       "      <td>8.0</td>\n",
       "      <td>113755.78</td>\n",
       "      <td>2</td>\n",
       "      <td>1</td>\n",
       "      <td>0</td>\n",
       "      <td>149756.71</td>\n",
       "      <td>1</td>\n",
       "    </tr>\n",
       "    <tr>\n",
       "      <th>6</th>\n",
       "      <td>7</td>\n",
       "      <td>15592531</td>\n",
       "      <td>Bartlett</td>\n",
       "      <td>822</td>\n",
       "      <td>France</td>\n",
       "      <td>Male</td>\n",
       "      <td>50</td>\n",
       "      <td>7.0</td>\n",
       "      <td>0.00</td>\n",
       "      <td>2</td>\n",
       "      <td>1</td>\n",
       "      <td>1</td>\n",
       "      <td>10062.80</td>\n",
       "      <td>0</td>\n",
       "    </tr>\n",
       "    <tr>\n",
       "      <th>7</th>\n",
       "      <td>8</td>\n",
       "      <td>15656148</td>\n",
       "      <td>Obinna</td>\n",
       "      <td>376</td>\n",
       "      <td>Germany</td>\n",
       "      <td>Female</td>\n",
       "      <td>29</td>\n",
       "      <td>4.0</td>\n",
       "      <td>115046.74</td>\n",
       "      <td>4</td>\n",
       "      <td>1</td>\n",
       "      <td>0</td>\n",
       "      <td>119346.88</td>\n",
       "      <td>1</td>\n",
       "    </tr>\n",
       "    <tr>\n",
       "      <th>8</th>\n",
       "      <td>9</td>\n",
       "      <td>15792365</td>\n",
       "      <td>He</td>\n",
       "      <td>501</td>\n",
       "      <td>France</td>\n",
       "      <td>Male</td>\n",
       "      <td>44</td>\n",
       "      <td>4.0</td>\n",
       "      <td>142051.07</td>\n",
       "      <td>2</td>\n",
       "      <td>0</td>\n",
       "      <td>1</td>\n",
       "      <td>74940.50</td>\n",
       "      <td>0</td>\n",
       "    </tr>\n",
       "    <tr>\n",
       "      <th>9</th>\n",
       "      <td>10</td>\n",
       "      <td>15592389</td>\n",
       "      <td>H?</td>\n",
       "      <td>684</td>\n",
       "      <td>France</td>\n",
       "      <td>Male</td>\n",
       "      <td>27</td>\n",
       "      <td>2.0</td>\n",
       "      <td>134603.88</td>\n",
       "      <td>1</td>\n",
       "      <td>1</td>\n",
       "      <td>1</td>\n",
       "      <td>71725.73</td>\n",
       "      <td>0</td>\n",
       "    </tr>\n",
       "  </tbody>\n",
       "</table>\n",
       "</div>"
      ],
      "text/plain": [
       "   RowNumber  CustomerId   Surname  CreditScore Geography  Gender  Age  \\\n",
       "0          1    15634602  Hargrave          619    France  Female   42   \n",
       "1          2    15647311      Hill          608     Spain  Female   41   \n",
       "2          3    15619304      Onio          502    France  Female   42   \n",
       "3          4    15701354      Boni          699    France  Female   39   \n",
       "4          5    15737888  Mitchell          850     Spain  Female   43   \n",
       "5          6    15574012       Chu          645     Spain    Male   44   \n",
       "6          7    15592531  Bartlett          822    France    Male   50   \n",
       "7          8    15656148    Obinna          376   Germany  Female   29   \n",
       "8          9    15792365        He          501    France    Male   44   \n",
       "9         10    15592389        H?          684    France    Male   27   \n",
       "\n",
       "   Tenure    Balance  NumOfProducts  HasCrCard  IsActiveMember  \\\n",
       "0     2.0       0.00              1          1               1   \n",
       "1     1.0   83807.86              1          0               1   \n",
       "2     8.0  159660.80              3          1               0   \n",
       "3     1.0       0.00              2          0               0   \n",
       "4     2.0  125510.82              1          1               1   \n",
       "5     8.0  113755.78              2          1               0   \n",
       "6     7.0       0.00              2          1               1   \n",
       "7     4.0  115046.74              4          1               0   \n",
       "8     4.0  142051.07              2          0               1   \n",
       "9     2.0  134603.88              1          1               1   \n",
       "\n",
       "   EstimatedSalary  Exited  \n",
       "0        101348.88       1  \n",
       "1        112542.58       0  \n",
       "2        113931.57       1  \n",
       "3         93826.63       0  \n",
       "4         79084.10       0  \n",
       "5        149756.71       1  \n",
       "6         10062.80       0  \n",
       "7        119346.88       1  \n",
       "8         74940.50       0  \n",
       "9         71725.73       0  "
      ]
     },
     "execution_count": 3,
     "metadata": {},
     "output_type": "execute_result"
    }
   ],
   "source": [
    "df.head(10)"
   ]
  },
  {
   "cell_type": "code",
   "execution_count": 4,
   "id": "33ffb9e3",
   "metadata": {},
   "outputs": [
    {
     "name": "stdout",
     "output_type": "stream",
     "text": [
      "<class 'pandas.core.frame.DataFrame'>\n",
      "RangeIndex: 10000 entries, 0 to 9999\n",
      "Data columns (total 14 columns):\n",
      " #   Column           Non-Null Count  Dtype  \n",
      "---  ------           --------------  -----  \n",
      " 0   RowNumber        10000 non-null  int64  \n",
      " 1   CustomerId       10000 non-null  int64  \n",
      " 2   Surname          10000 non-null  object \n",
      " 3   CreditScore      10000 non-null  int64  \n",
      " 4   Geography        10000 non-null  object \n",
      " 5   Gender           10000 non-null  object \n",
      " 6   Age              10000 non-null  int64  \n",
      " 7   Tenure           9091 non-null   float64\n",
      " 8   Balance          10000 non-null  float64\n",
      " 9   NumOfProducts    10000 non-null  int64  \n",
      " 10  HasCrCard        10000 non-null  int64  \n",
      " 11  IsActiveMember   10000 non-null  int64  \n",
      " 12  EstimatedSalary  10000 non-null  float64\n",
      " 13  Exited           10000 non-null  int64  \n",
      "dtypes: float64(3), int64(8), object(3)\n",
      "memory usage: 2.6 MB\n"
     ]
    }
   ],
   "source": [
    "df.info(memory_usage='deep')"
   ]
  },
  {
   "cell_type": "code",
   "execution_count": 5,
   "id": "2a97c35b",
   "metadata": {},
   "outputs": [
    {
     "data": {
      "text/plain": [
       "0"
      ]
     },
     "execution_count": 5,
     "metadata": {},
     "output_type": "execute_result"
    }
   ],
   "source": [
    "#проверка полных дубликатов строк\n",
    "df.duplicated().sum()"
   ]
  },
  {
   "cell_type": "code",
   "execution_count": 6,
   "id": "9f03929a",
   "metadata": {},
   "outputs": [
    {
     "data": {
      "text/plain": [
       "10000"
      ]
     },
     "execution_count": 6,
     "metadata": {},
     "output_type": "execute_result"
    }
   ],
   "source": [
    "#Проверка на уникальность ID клиента\n",
    "df.CustomerId.value_counts().sum()"
   ]
  },
  {
   "cell_type": "markdown",
   "id": "0d705f5a",
   "metadata": {},
   "source": [
    "все ID уникальны и повторений нет"
   ]
  },
  {
   "cell_type": "code",
   "execution_count": 7,
   "id": "ab2c7bbc",
   "metadata": {},
   "outputs": [
    {
     "data": {
      "text/plain": [
       "Index(['RowNumber', 'CustomerId', 'Surname', 'CreditScore', 'Geography',\n",
       "       'Gender', 'Age', 'Tenure', 'Balance', 'NumOfProducts', 'HasCrCard',\n",
       "       'IsActiveMember', 'EstimatedSalary', 'Exited'],\n",
       "      dtype='object')"
      ]
     },
     "execution_count": 7,
     "metadata": {},
     "output_type": "execute_result"
    }
   ],
   "source": [
    "#Наименования столбцов датафрейма\n",
    "df.columns"
   ]
  },
  {
   "cell_type": "code",
   "execution_count": 8,
   "id": "0b0fc8e6",
   "metadata": {},
   "outputs": [],
   "source": [
    "# список столбцов, исключая столбцы 'RowNumber', 'CustomerId', 'Surname' 'CreditScore' 'Balance' 'EstimatedSalary'\n",
    "list_columns = ['Geography', 'Gender', 'Age', 'Tenure', 'NumOfProducts', 'HasCrCard', 'IsActiveMember', 'Exited']"
   ]
  },
  {
   "cell_type": "code",
   "execution_count": 9,
   "id": "60423bbe",
   "metadata": {},
   "outputs": [
    {
     "name": "stdout",
     "output_type": "stream",
     "text": [
      "Geography ['France', 'Germany', 'Spain']\n",
      "\n",
      "Gender ['Female', 'Male']\n",
      "\n",
      "Age [18, 19, 20, 21, 22, 23, 24, 25, 26, 27, 28, 29, 30, 31, 32, 33, 34, 35, 36, 37, 38, 39, 40, 41, 42, 43, 44, 45, 46, 47, 48, 49, 50, 51, 52, 53, 54, 55, 56, 57, 58, 59, 60, 61, 62, 63, 64, 65, 66, 67, 68, 69, 70, 71, 72, 73, 74, 75, 76, 77, 78, 79, 80, 81, 82, 83, 84, 85, 88, 92]\n",
      "\n",
      "Tenure [0.0, 1.0, 2.0, 3.0, 4.0, 5.0, 6.0, 7.0, 8.0, 9.0, 10.0, nan]\n",
      "\n",
      "NumOfProducts [1, 2, 3, 4]\n",
      "\n",
      "HasCrCard [0, 1]\n",
      "\n",
      "IsActiveMember [0, 1]\n",
      "\n",
      "Exited [0, 1]\n",
      "\n"
     ]
    }
   ],
   "source": [
    "#просмотр уникальных значений столбцов\n",
    "for j in list_columns:\n",
    "    \n",
    "    print(j, sorted(df[j].unique()))\n",
    "    print()"
   ]
  },
  {
   "cell_type": "markdown",
   "id": "b35369f2",
   "metadata": {},
   "source": [
    "###### Дополнительное исследование столбцов"
   ]
  },
  {
   "cell_type": "code",
   "execution_count": 10,
   "id": "febf80f8",
   "metadata": {},
   "outputs": [
    {
     "data": {
      "text/plain": [
       "count    10000.000000\n",
       "mean       650.528800\n",
       "std         96.653299\n",
       "min        350.000000\n",
       "25%        584.000000\n",
       "50%        652.000000\n",
       "75%        718.000000\n",
       "max        850.000000\n",
       "Name: CreditScore, dtype: float64"
      ]
     },
     "execution_count": 10,
     "metadata": {},
     "output_type": "execute_result"
    }
   ],
   "source": [
    "df.CreditScore.describe()"
   ]
  },
  {
   "cell_type": "code",
   "execution_count": 11,
   "id": "f64aec63",
   "metadata": {},
   "outputs": [
    {
     "data": {
      "text/plain": [
       "<AxesSubplot:>"
      ]
     },
     "execution_count": 11,
     "metadata": {},
     "output_type": "execute_result"
    },
    {
     "data": {
      "image/png": "[encoded data removed]",
      "text/plain": [
       "<Figure size 432x288 with 1 Axes>"
      ]
     },
     "metadata": {
      "needs_background": "light"
     },
     "output_type": "display_data"
    }
   ],
   "source": [
    "df.CreditScore.hist(bins=20)"
   ]
  },
  {
   "cell_type": "markdown",
   "id": "35d8ea77",
   "metadata": {},
   "source": [
    "Практически нормальное распределение, есть небольшой выборос в области больших значений `CreditScore` "
   ]
  },
  {
   "cell_type": "code",
   "execution_count": 12,
   "id": "c1ae9fd3",
   "metadata": {},
   "outputs": [
    {
     "data": {
      "text/plain": [
       "count    10000.000000\n",
       "mean        38.921800\n",
       "std         10.487806\n",
       "min         18.000000\n",
       "25%         32.000000\n",
       "50%         37.000000\n",
       "75%         44.000000\n",
       "max         92.000000\n",
       "Name: Age, dtype: float64"
      ]
     },
     "execution_count": 12,
     "metadata": {},
     "output_type": "execute_result"
    }
   ],
   "source": [
    "df.Age.describe()"
   ]
  },
  {
   "cell_type": "code",
   "execution_count": 13,
   "id": "35c49c9f",
   "metadata": {},
   "outputs": [
    {
     "data": {
      "text/plain": [
       "<AxesSubplot:>"
      ]
     },
     "execution_count": 13,
     "metadata": {},
     "output_type": "execute_result"
    },
    {
     "data": {
      "image/png": "[encoded data removed]",
      "text/plain": [
       "<Figure size 1152x432 with 1 Axes>"
      ]
     },
     "metadata": {
      "needs_background": "light"
     },
     "output_type": "display_data"
    }
   ],
   "source": [
    "df.Age.value_counts(normalize=True).plot(kind='bar', figsize=(16,6))"
   ]
  },
  {
   "cell_type": "code",
   "execution_count": 14,
   "id": "9e658677",
   "metadata": {},
   "outputs": [
    {
     "data": {
      "text/plain": [
       "<AxesSubplot:>"
      ]
     },
     "execution_count": 14,
     "metadata": {},
     "output_type": "execute_result"
    },
    {
     "data": {
      "image/png": "[encoded data removed]",
      "text/plain": [
       "<Figure size 432x288 with 1 Axes>"
      ]
     },
     "metadata": {
      "needs_background": "light"
     },
     "output_type": "display_data"
    }
   ],
   "source": [
    "df.Age.hist(bins=20)"
   ]
  },
  {
   "cell_type": "markdown",
   "id": "c7ec7f91",
   "metadata": {},
   "source": [
    "Распределение возраста клиента близко к нормальному, имеется небольшой скос вправо. \n",
    "Скорее всего небольшой скос связан с тем что кредиты ниже 18 лет банк не выдает."
   ]
  },
  {
   "cell_type": "code",
   "execution_count": 15,
   "id": "60136835",
   "metadata": {},
   "outputs": [
    {
     "data": {
      "text/plain": [
       "count    9091.000000\n",
       "mean        4.997690\n",
       "std         2.894723\n",
       "min         0.000000\n",
       "25%         2.000000\n",
       "50%         5.000000\n",
       "75%         7.000000\n",
       "max        10.000000\n",
       "Name: Tenure, dtype: float64"
      ]
     },
     "execution_count": 15,
     "metadata": {},
     "output_type": "execute_result"
    }
   ],
   "source": [
    "df.Tenure.describe()"
   ]
  },
  {
   "cell_type": "code",
   "execution_count": 16,
   "id": "e627d98b",
   "metadata": {},
   "outputs": [
    {
     "data": {
      "text/plain": [
       "<AxesSubplot:>"
      ]
     },
     "execution_count": 16,
     "metadata": {},
     "output_type": "execute_result"
    },
    {
     "data": {
      "image/png": "[encoded data removed]",
      "text/plain": [
       "<Figure size 432x288 with 1 Axes>"
      ]
     },
     "metadata": {
      "needs_background": "light"
     },
     "output_type": "display_data"
    }
   ],
   "source": [
    "df.Tenure.hist(bins=10)"
   ]
  },
  {
   "cell_type": "markdown",
   "id": "f9ef6fa0",
   "metadata": {},
   "source": [
    "Практически равномерное распределение. То есть Люди являются клиентами банка примерно одинаковое количество лет."
   ]
  },
  {
   "cell_type": "code",
   "execution_count": 17,
   "id": "d7adb93d",
   "metadata": {
    "scrolled": true
   },
   "outputs": [
    {
     "data": {
      "text/plain": [
       "909"
      ]
     },
     "execution_count": 17,
     "metadata": {},
     "output_type": "execute_result"
    }
   ],
   "source": [
    "df.Tenure.isna().sum()"
   ]
  },
  {
   "cell_type": "code",
   "execution_count": 18,
   "id": "53857e68",
   "metadata": {},
   "outputs": [
    {
     "data": {
      "text/plain": [
       "9.09"
      ]
     },
     "execution_count": 18,
     "metadata": {},
     "output_type": "execute_result"
    }
   ],
   "source": [
    "909/10000*100"
   ]
  },
  {
   "cell_type": "markdown",
   "id": "b976584e",
   "metadata": {},
   "source": [
    "В этом столбце примерно 9% значений пропущено. \n",
    "\n",
    "Распределение показанное выше, равномерное (кроме нуля и 10 лет), значит с одинаковой долей вероятности эти пропущенные люди принадлежат к одной из этих групп.\n",
    "\n",
    "В нуле имеется провал, а на 10 годах некоторое увеличение, и вероятнее всего эти пропущенные значения нулевые."
   ]
  },
  {
   "cell_type": "markdown",
   "id": "c5bc0644",
   "metadata": {},
   "source": [
    "Произведу замену пропущенных значений на нулевые"
   ]
  },
  {
   "cell_type": "code",
   "execution_count": 19,
   "id": "8c9af77b",
   "metadata": {},
   "outputs": [],
   "source": [
    "df.Tenure = df.Tenure.fillna(0)"
   ]
  },
  {
   "cell_type": "code",
   "execution_count": 20,
   "id": "5f3d536b",
   "metadata": {},
   "outputs": [
    {
     "data": {
      "text/plain": [
       "0"
      ]
     },
     "execution_count": 20,
     "metadata": {},
     "output_type": "execute_result"
    }
   ],
   "source": [
    "df.Tenure.isna().sum()"
   ]
  },
  {
   "cell_type": "code",
   "execution_count": 21,
   "id": "6a1ee4d1",
   "metadata": {
    "scrolled": true
   },
   "outputs": [
    {
     "data": {
      "text/plain": [
       "<AxesSubplot:>"
      ]
     },
     "execution_count": 21,
     "metadata": {},
     "output_type": "execute_result"
    },
    {
     "data": {
      "image/png": "[encoded data removed]",
      "text/plain": [
       "<Figure size 432x288 with 1 Axes>"
      ]
     },
     "metadata": {
      "needs_background": "light"
     },
     "output_type": "display_data"
    }
   ],
   "source": [
    "#проверка распределения после замены\n",
    "df.Tenure.hist(bins=10)"
   ]
  },
  {
   "cell_type": "code",
   "execution_count": 22,
   "id": "14412574",
   "metadata": {},
   "outputs": [],
   "source": [
    "#перевод столбца в Int\n",
    "df.Tenure = df.Tenure.astype('Int64')"
   ]
  },
  {
   "cell_type": "code",
   "execution_count": null,
   "id": "2e48bce0",
   "metadata": {},
   "outputs": [],
   "source": []
  },
  {
   "cell_type": "code",
   "execution_count": 23,
   "id": "8ff4944a",
   "metadata": {},
   "outputs": [
    {
     "data": {
      "text/plain": [
       "count     10000.000000\n",
       "mean      76485.889288\n",
       "std       62397.405202\n",
       "min           0.000000\n",
       "25%           0.000000\n",
       "50%       97198.540000\n",
       "75%      127644.240000\n",
       "max      250898.090000\n",
       "Name: Balance, dtype: float64"
      ]
     },
     "execution_count": 23,
     "metadata": {},
     "output_type": "execute_result"
    }
   ],
   "source": [
    "df.Balance.describe()"
   ]
  },
  {
   "cell_type": "code",
   "execution_count": 24,
   "id": "c6834399",
   "metadata": {},
   "outputs": [
    {
     "data": {
      "text/plain": [
       "<AxesSubplot:>"
      ]
     },
     "execution_count": 24,
     "metadata": {},
     "output_type": "execute_result"
    },
    {
     "data": {
      "image/png": "[encoded data removed]",
      "text/plain": [
       "<Figure size 432x288 with 1 Axes>"
      ]
     },
     "metadata": {
      "needs_background": "light"
     },
     "output_type": "display_data"
    }
   ],
   "source": [
    "df.Balance.hist(bins=20)"
   ]
  },
  {
   "cell_type": "markdown",
   "id": "27b3aefd",
   "metadata": {},
   "source": [
    "Много клиентов имеют нулевой баланс на счёте в этом банке."
   ]
  },
  {
   "cell_type": "code",
   "execution_count": 25,
   "id": "0e4eef3a",
   "metadata": {},
   "outputs": [
    {
     "data": {
      "text/plain": [
       "<AxesSubplot:>"
      ]
     },
     "execution_count": 25,
     "metadata": {},
     "output_type": "execute_result"
    },
    {
     "data": {
      "image/png": "[encoded data removed]",
      "text/plain": [
       "<Figure size 432x288 with 1 Axes>"
      ]
     },
     "metadata": {
      "needs_background": "light"
     },
     "output_type": "display_data"
    }
   ],
   "source": [
    "#распределение для клиентов имеющих не нулевой балланс\n",
    "df.query('Balance != 0').Balance.hist(bins=20)"
   ]
  },
  {
   "cell_type": "markdown",
   "id": "f4720964",
   "metadata": {},
   "source": [
    "Распределение полностью нормальное (исключая клиентов с нулевым баллансом)"
   ]
  },
  {
   "cell_type": "code",
   "execution_count": 26,
   "id": "924ad169",
   "metadata": {},
   "outputs": [
    {
     "data": {
      "text/plain": [
       "3617"
      ]
     },
     "execution_count": 26,
     "metadata": {},
     "output_type": "execute_result"
    }
   ],
   "source": [
    "#колчество клиентов с нулевым баллансом\n",
    "df.query('Balance == 0').Balance.count()"
   ]
  },
  {
   "cell_type": "markdown",
   "id": "9221cc6a",
   "metadata": {},
   "source": [
    "Очень много клиентом (36%) имеют нулевой балланс в банке, либо это действительно так, либо данные требуют уточнения."
   ]
  },
  {
   "cell_type": "code",
   "execution_count": null,
   "id": "4b5a1b9c",
   "metadata": {},
   "outputs": [],
   "source": []
  },
  {
   "cell_type": "markdown",
   "id": "fc1e37e0",
   "metadata": {},
   "source": [
    "Проверка, что клиенты с нулевым баллансом, не составляют большую часть пользователей решивших уходить из банка."
   ]
  },
  {
   "cell_type": "code",
   "execution_count": 27,
   "id": "2fb97a33",
   "metadata": {},
   "outputs": [
    {
     "data": {
      "text/plain": [
       "0.13823610727121924"
      ]
     },
     "execution_count": 27,
     "metadata": {},
     "output_type": "execute_result"
    }
   ],
   "source": [
    "df.query('Balance == 0').Exited.mean()"
   ]
  },
  {
   "cell_type": "code",
   "execution_count": null,
   "id": "c3a16e06",
   "metadata": {},
   "outputs": [],
   "source": []
  },
  {
   "cell_type": "code",
   "execution_count": 28,
   "id": "de642cbb",
   "metadata": {},
   "outputs": [
    {
     "data": {
      "text/plain": [
       "<AxesSubplot:>"
      ]
     },
     "execution_count": 28,
     "metadata": {},
     "output_type": "execute_result"
    },
    {
     "data": {
      "image/png": "[encoded data removed]",
      "text/plain": [
       "<Figure size 432x288 with 1 Axes>"
      ]
     },
     "metadata": {
      "needs_background": "light"
     },
     "output_type": "display_data"
    }
   ],
   "source": [
    "df.NumOfProducts.hist()"
   ]
  },
  {
   "cell_type": "code",
   "execution_count": 29,
   "id": "f647f114",
   "metadata": {},
   "outputs": [
    {
     "data": {
      "text/plain": [
       "326"
      ]
     },
     "execution_count": 29,
     "metadata": {},
     "output_type": "execute_result"
    }
   ],
   "source": [
    "df.query('NumOfProducts >=3').NumOfProducts.count()"
   ]
  },
  {
   "cell_type": "markdown",
   "id": "9e5eef10",
   "metadata": {},
   "source": [
    "Большинство клиентов используют один или два продукта банка. \n",
    "\n",
    "Клиентов, использующих 3 и более продуктов, всего 326 из 10 000."
   ]
  },
  {
   "cell_type": "code",
   "execution_count": null,
   "id": "fdd8e0c6",
   "metadata": {},
   "outputs": [],
   "source": []
  },
  {
   "cell_type": "code",
   "execution_count": 30,
   "id": "2723bedc",
   "metadata": {},
   "outputs": [
    {
     "data": {
      "text/plain": [
       "1    7055\n",
       "0    2945\n",
       "Name: HasCrCard, dtype: int64"
      ]
     },
     "execution_count": 30,
     "metadata": {},
     "output_type": "execute_result"
    }
   ],
   "source": [
    "df.HasCrCard.value_counts()"
   ]
  },
  {
   "cell_type": "markdown",
   "id": "d366b4b0",
   "metadata": {},
   "source": [
    "Примерно 7000 клиентов имеют кредитную карту и около 3000 не имеет её."
   ]
  },
  {
   "cell_type": "code",
   "execution_count": null,
   "id": "7b7fd150",
   "metadata": {},
   "outputs": [],
   "source": []
  },
  {
   "cell_type": "code",
   "execution_count": 31,
   "id": "1c934a0c",
   "metadata": {},
   "outputs": [
    {
     "data": {
      "text/plain": [
       "1    5151\n",
       "0    4849\n",
       "Name: IsActiveMember, dtype: int64"
      ]
     },
     "execution_count": 31,
     "metadata": {},
     "output_type": "execute_result"
    }
   ],
   "source": [
    "df.IsActiveMember.value_counts()"
   ]
  },
  {
   "cell_type": "markdown",
   "id": "f21b327d",
   "metadata": {},
   "source": [
    "Активность клиентов раздлена примерно на равные части, пополам."
   ]
  },
  {
   "cell_type": "code",
   "execution_count": null,
   "id": "1210d95e",
   "metadata": {},
   "outputs": [],
   "source": []
  },
  {
   "cell_type": "code",
   "execution_count": 32,
   "id": "cc4007d4",
   "metadata": {},
   "outputs": [
    {
     "data": {
      "text/plain": [
       "count     10000.000000\n",
       "mean     100090.239881\n",
       "std       57510.492818\n",
       "min          11.580000\n",
       "25%       51002.110000\n",
       "50%      100193.915000\n",
       "75%      149388.247500\n",
       "max      199992.480000\n",
       "Name: EstimatedSalary, dtype: float64"
      ]
     },
     "execution_count": 32,
     "metadata": {},
     "output_type": "execute_result"
    }
   ],
   "source": [
    "df.EstimatedSalary.describe()"
   ]
  },
  {
   "cell_type": "code",
   "execution_count": 33,
   "id": "ae882f82",
   "metadata": {},
   "outputs": [
    {
     "data": {
      "text/plain": [
       "<AxesSubplot:>"
      ]
     },
     "execution_count": 33,
     "metadata": {},
     "output_type": "execute_result"
    },
    {
     "data": {
      "image/png": "[encoded data removed]",
      "text/plain": [
       "<Figure size 432x288 with 1 Axes>"
      ]
     },
     "metadata": {
      "needs_background": "light"
     },
     "output_type": "display_data"
    }
   ],
   "source": [
    "df.EstimatedSalary.hist(bins=20)"
   ]
  },
  {
   "cell_type": "markdown",
   "id": "33203abd",
   "metadata": {},
   "source": [
    "Предполагаемая зарплата `EstimatedSalary` имеет равномерное распределение. "
   ]
  },
  {
   "cell_type": "markdown",
   "id": "e92c6e82",
   "metadata": {},
   "source": [
    "Исследование целевого признака `Exited`"
   ]
  },
  {
   "cell_type": "code",
   "execution_count": 34,
   "id": "86fc4888",
   "metadata": {},
   "outputs": [
    {
     "data": {
      "text/plain": [
       "0    7963\n",
       "1    2037\n",
       "Name: Exited, dtype: int64"
      ]
     },
     "execution_count": 34,
     "metadata": {},
     "output_type": "execute_result"
    }
   ],
   "source": [
    "df.Exited.value_counts()"
   ]
  },
  {
   "cell_type": "code",
   "execution_count": 35,
   "id": "90afd548",
   "metadata": {},
   "outputs": [
    {
     "data": {
      "text/plain": [
       "0    0.7963\n",
       "1    0.2037\n",
       "Name: Exited, dtype: float64"
      ]
     },
     "execution_count": 35,
     "metadata": {},
     "output_type": "execute_result"
    }
   ],
   "source": [
    "df['Exited'].value_counts(normalize=True)"
   ]
  },
  {
   "cell_type": "markdown",
   "id": "81853292",
   "metadata": {},
   "source": [
    "Имеется сильный дисбаланс целевого признака. Ответы распределены примерно 1:4, положительных признаков мало. \n",
    "    \n",
    "То есть, модель всегда выдающая 0 на любые входные данные, будет угадывать в 80% случаях."
   ]
  },
  {
   "cell_type": "code",
   "execution_count": 36,
   "id": "8059b573",
   "metadata": {},
   "outputs": [
    {
     "name": "stdout",
     "output_type": "stream",
     "text": [
      "<class 'pandas.core.frame.DataFrame'>\n",
      "RangeIndex: 10000 entries, 0 to 9999\n",
      "Data columns (total 14 columns):\n",
      " #   Column           Non-Null Count  Dtype  \n",
      "---  ------           --------------  -----  \n",
      " 0   RowNumber        10000 non-null  int64  \n",
      " 1   CustomerId       10000 non-null  int64  \n",
      " 2   Surname          10000 non-null  object \n",
      " 3   CreditScore      10000 non-null  int64  \n",
      " 4   Geography        10000 non-null  object \n",
      " 5   Gender           10000 non-null  object \n",
      " 6   Age              10000 non-null  int64  \n",
      " 7   Tenure           10000 non-null  Int64  \n",
      " 8   Balance          10000 non-null  float64\n",
      " 9   NumOfProducts    10000 non-null  int64  \n",
      " 10  HasCrCard        10000 non-null  int64  \n",
      " 11  IsActiveMember   10000 non-null  int64  \n",
      " 12  EstimatedSalary  10000 non-null  float64\n",
      " 13  Exited           10000 non-null  int64  \n",
      "dtypes: Int64(1), float64(2), int64(8), object(3)\n",
      "memory usage: 1.1+ MB\n"
     ]
    }
   ],
   "source": [
    "#доп проверка\n",
    "df.info()"
   ]
  },
  {
   "cell_type": "code",
   "execution_count": 37,
   "id": "cd835e0e",
   "metadata": {
    "scrolled": true
   },
   "outputs": [
    {
     "data": {
      "text/html": [
       "<div>\n",
       "<style scoped>\n",
       "    .dataframe tbody tr th:only-of-type {\n",
       "        vertical-align: middle;\n",
       "    }\n",
       "\n",
       "    .dataframe tbody tr th {\n",
       "        vertical-align: top;\n",
       "    }\n",
       "\n",
       "    .dataframe thead th {\n",
       "        text-align: right;\n",
       "    }\n",
       "</style>\n",
       "<table border=\"1\" class=\"dataframe\">\n",
       "  <thead>\n",
       "    <tr style=\"text-align: right;\">\n",
       "      <th></th>\n",
       "      <th>RowNumber</th>\n",
       "      <th>CustomerId</th>\n",
       "      <th>Surname</th>\n",
       "      <th>CreditScore</th>\n",
       "      <th>Geography</th>\n",
       "      <th>Gender</th>\n",
       "      <th>Age</th>\n",
       "      <th>Tenure</th>\n",
       "      <th>Balance</th>\n",
       "      <th>NumOfProducts</th>\n",
       "      <th>HasCrCard</th>\n",
       "      <th>IsActiveMember</th>\n",
       "      <th>EstimatedSalary</th>\n",
       "      <th>Exited</th>\n",
       "    </tr>\n",
       "  </thead>\n",
       "  <tbody>\n",
       "    <tr>\n",
       "      <th>0</th>\n",
       "      <td>1</td>\n",
       "      <td>15634602</td>\n",
       "      <td>Hargrave</td>\n",
       "      <td>619</td>\n",
       "      <td>France</td>\n",
       "      <td>Female</td>\n",
       "      <td>42</td>\n",
       "      <td>2</td>\n",
       "      <td>0.00</td>\n",
       "      <td>1</td>\n",
       "      <td>1</td>\n",
       "      <td>1</td>\n",
       "      <td>101348.88</td>\n",
       "      <td>1</td>\n",
       "    </tr>\n",
       "    <tr>\n",
       "      <th>1</th>\n",
       "      <td>2</td>\n",
       "      <td>15647311</td>\n",
       "      <td>Hill</td>\n",
       "      <td>608</td>\n",
       "      <td>Spain</td>\n",
       "      <td>Female</td>\n",
       "      <td>41</td>\n",
       "      <td>1</td>\n",
       "      <td>83807.86</td>\n",
       "      <td>1</td>\n",
       "      <td>0</td>\n",
       "      <td>1</td>\n",
       "      <td>112542.58</td>\n",
       "      <td>0</td>\n",
       "    </tr>\n",
       "  </tbody>\n",
       "</table>\n",
       "</div>"
      ],
      "text/plain": [
       "   RowNumber  CustomerId   Surname  CreditScore Geography  Gender  Age  \\\n",
       "0          1    15634602  Hargrave          619    France  Female   42   \n",
       "1          2    15647311      Hill          608     Spain  Female   41   \n",
       "\n",
       "   Tenure   Balance  NumOfProducts  HasCrCard  IsActiveMember  \\\n",
       "0       2      0.00              1          1               1   \n",
       "1       1  83807.86              1          0               1   \n",
       "\n",
       "   EstimatedSalary  Exited  \n",
       "0        101348.88       1  \n",
       "1        112542.58       0  "
      ]
     },
     "execution_count": 37,
     "metadata": {},
     "output_type": "execute_result"
    }
   ],
   "source": [
    "df.head(2)"
   ]
  },
  {
   "cell_type": "code",
   "execution_count": null,
   "id": "d730c1c4",
   "metadata": {},
   "outputs": [],
   "source": []
  },
  {
   "cell_type": "markdown",
   "id": "52d3e6d0",
   "metadata": {},
   "source": [
    "## Исследование задачи"
   ]
  },
  {
   "cell_type": "code",
   "execution_count": 38,
   "id": "a0287a7f",
   "metadata": {},
   "outputs": [],
   "source": [
    "#преобразование двух столбцов техникой OHE\n",
    "data_ohe = pd.get_dummies(df, columns=['Geography', 'Gender'], drop_first=True)"
   ]
  },
  {
   "cell_type": "code",
   "execution_count": 39,
   "id": "d0de7d6b",
   "metadata": {
    "scrolled": false
   },
   "outputs": [
    {
     "data": {
      "text/html": [
       "<div>\n",
       "<style scoped>\n",
       "    .dataframe tbody tr th:only-of-type {\n",
       "        vertical-align: middle;\n",
       "    }\n",
       "\n",
       "    .dataframe tbody tr th {\n",
       "        vertical-align: top;\n",
       "    }\n",
       "\n",
       "    .dataframe thead th {\n",
       "        text-align: right;\n",
       "    }\n",
       "</style>\n",
       "<table border=\"1\" class=\"dataframe\">\n",
       "  <thead>\n",
       "    <tr style=\"text-align: right;\">\n",
       "      <th></th>\n",
       "      <th>RowNumber</th>\n",
       "      <th>CustomerId</th>\n",
       "      <th>Surname</th>\n",
       "      <th>CreditScore</th>\n",
       "      <th>Age</th>\n",
       "      <th>Tenure</th>\n",
       "      <th>Balance</th>\n",
       "      <th>NumOfProducts</th>\n",
       "      <th>HasCrCard</th>\n",
       "      <th>IsActiveMember</th>\n",
       "      <th>EstimatedSalary</th>\n",
       "      <th>Exited</th>\n",
       "      <th>Geography_Germany</th>\n",
       "      <th>Geography_Spain</th>\n",
       "      <th>Gender_Male</th>\n",
       "    </tr>\n",
       "  </thead>\n",
       "  <tbody>\n",
       "    <tr>\n",
       "      <th>6189</th>\n",
       "      <td>6190</td>\n",
       "      <td>15572408</td>\n",
       "      <td>Chambers</td>\n",
       "      <td>714</td>\n",
       "      <td>39</td>\n",
       "      <td>3</td>\n",
       "      <td>149887.49</td>\n",
       "      <td>2</td>\n",
       "      <td>1</td>\n",
       "      <td>0</td>\n",
       "      <td>63846.36</td>\n",
       "      <td>0</td>\n",
       "      <td>1</td>\n",
       "      <td>0</td>\n",
       "      <td>1</td>\n",
       "    </tr>\n",
       "    <tr>\n",
       "      <th>7435</th>\n",
       "      <td>7436</td>\n",
       "      <td>15647898</td>\n",
       "      <td>Russell</td>\n",
       "      <td>610</td>\n",
       "      <td>50</td>\n",
       "      <td>5</td>\n",
       "      <td>130554.51</td>\n",
       "      <td>3</td>\n",
       "      <td>1</td>\n",
       "      <td>0</td>\n",
       "      <td>184758.17</td>\n",
       "      <td>1</td>\n",
       "      <td>0</td>\n",
       "      <td>1</td>\n",
       "      <td>0</td>\n",
       "    </tr>\n",
       "    <tr>\n",
       "      <th>3152</th>\n",
       "      <td>3153</td>\n",
       "      <td>15724161</td>\n",
       "      <td>Sutton</td>\n",
       "      <td>644</td>\n",
       "      <td>40</td>\n",
       "      <td>9</td>\n",
       "      <td>137285.26</td>\n",
       "      <td>4</td>\n",
       "      <td>1</td>\n",
       "      <td>0</td>\n",
       "      <td>77063.63</td>\n",
       "      <td>1</td>\n",
       "      <td>0</td>\n",
       "      <td>0</td>\n",
       "      <td>0</td>\n",
       "    </tr>\n",
       "  </tbody>\n",
       "</table>\n",
       "</div>"
      ],
      "text/plain": [
       "      RowNumber  CustomerId   Surname  CreditScore  Age  Tenure    Balance  \\\n",
       "6189       6190    15572408  Chambers          714   39       3  149887.49   \n",
       "7435       7436    15647898   Russell          610   50       5  130554.51   \n",
       "3152       3153    15724161    Sutton          644   40       9  137285.26   \n",
       "\n",
       "      NumOfProducts  HasCrCard  IsActiveMember  EstimatedSalary  Exited  \\\n",
       "6189              2          1               0         63846.36       0   \n",
       "7435              3          1               0        184758.17       1   \n",
       "3152              4          1               0         77063.63       1   \n",
       "\n",
       "      Geography_Germany  Geography_Spain  Gender_Male  \n",
       "6189                  1                0            1  \n",
       "7435                  0                1            0  \n",
       "3152                  0                0            0  "
      ]
     },
     "execution_count": 39,
     "metadata": {},
     "output_type": "execute_result"
    }
   ],
   "source": [
    "data_ohe.sample(3)"
   ]
  },
  {
   "cell_type": "code",
   "execution_count": null,
   "id": "c9288574",
   "metadata": {},
   "outputs": [],
   "source": []
  },
  {
   "cell_type": "markdown",
   "id": "a93f50a1",
   "metadata": {},
   "source": [
    "###### После разделения получились выборки длиной 6000, 2000 и 2000. Это соответствует 60%, 20% и 20%"
   ]
  },
  {
   "cell_type": "code",
   "execution_count": 40,
   "id": "e08c6bf8",
   "metadata": {},
   "outputs": [],
   "source": [
    "#удаление лишних столбцов\n",
    "data_ohe_scal = data_ohe.drop(['RowNumber', 'CustomerId', 'Surname'] , axis=1)"
   ]
  },
  {
   "cell_type": "code",
   "execution_count": 41,
   "id": "aa791da2",
   "metadata": {},
   "outputs": [],
   "source": [
    "#отделение целевого признака из датасета data_ohe\n",
    "target = data_ohe['Exited']"
   ]
  },
  {
   "cell_type": "code",
   "execution_count": 42,
   "id": "e221fd24",
   "metadata": {},
   "outputs": [],
   "source": [
    "# отделение 80% на обучающую выборку и 20% на валидационную и тестовую выборки\n",
    "features = data_ohe.drop(['Exited', 'RowNumber', 'CustomerId', 'Surname'] , axis=1)\n",
    "features_train, features_valid, target_train, target_valid = train_test_split(\n",
    "    features, \n",
    "    target, \n",
    "    test_size=0.2, \n",
    "    stratify=target, \n",
    "    random_state=12345)"
   ]
  },
  {
   "cell_type": "code",
   "execution_count": 43,
   "id": "773f3030",
   "metadata": {},
   "outputs": [],
   "source": [
    "#разделение оставшихся 40% ещё на две выборки по 20%\n",
    "features_train, features_test, target_train, target_test = train_test_split(\n",
    "    features_train, \n",
    "    target_train, \n",
    "    test_size=0.25, \n",
    "    stratify=target_train,\n",
    "    random_state=12345)"
   ]
  },
  {
   "cell_type": "code",
   "execution_count": 44,
   "id": "fc19d0f5",
   "metadata": {
    "scrolled": false
   },
   "outputs": [
    {
     "data": {
      "text/html": [
       "<div>\n",
       "<style scoped>\n",
       "    .dataframe tbody tr th:only-of-type {\n",
       "        vertical-align: middle;\n",
       "    }\n",
       "\n",
       "    .dataframe tbody tr th {\n",
       "        vertical-align: top;\n",
       "    }\n",
       "\n",
       "    .dataframe thead th {\n",
       "        text-align: right;\n",
       "    }\n",
       "</style>\n",
       "<table border=\"1\" class=\"dataframe\">\n",
       "  <thead>\n",
       "    <tr style=\"text-align: right;\">\n",
       "      <th></th>\n",
       "      <th>CreditScore</th>\n",
       "      <th>Age</th>\n",
       "      <th>Tenure</th>\n",
       "      <th>Balance</th>\n",
       "      <th>NumOfProducts</th>\n",
       "      <th>HasCrCard</th>\n",
       "      <th>IsActiveMember</th>\n",
       "      <th>EstimatedSalary</th>\n",
       "      <th>Exited</th>\n",
       "      <th>Geography_Germany</th>\n",
       "      <th>Geography_Spain</th>\n",
       "      <th>Gender_Male</th>\n",
       "    </tr>\n",
       "  </thead>\n",
       "  <tbody>\n",
       "    <tr>\n",
       "      <th>2166</th>\n",
       "      <td>667</td>\n",
       "      <td>40</td>\n",
       "      <td>0</td>\n",
       "      <td>0.00</td>\n",
       "      <td>1</td>\n",
       "      <td>1</td>\n",
       "      <td>1</td>\n",
       "      <td>96670.20</td>\n",
       "      <td>0</td>\n",
       "      <td>0</td>\n",
       "      <td>0</td>\n",
       "      <td>1</td>\n",
       "    </tr>\n",
       "    <tr>\n",
       "      <th>168</th>\n",
       "      <td>667</td>\n",
       "      <td>39</td>\n",
       "      <td>2</td>\n",
       "      <td>0.00</td>\n",
       "      <td>2</td>\n",
       "      <td>1</td>\n",
       "      <td>0</td>\n",
       "      <td>40721.24</td>\n",
       "      <td>1</td>\n",
       "      <td>0</td>\n",
       "      <td>1</td>\n",
       "      <td>0</td>\n",
       "    </tr>\n",
       "    <tr>\n",
       "      <th>1261</th>\n",
       "      <td>744</td>\n",
       "      <td>38</td>\n",
       "      <td>6</td>\n",
       "      <td>73023.17</td>\n",
       "      <td>2</td>\n",
       "      <td>1</td>\n",
       "      <td>0</td>\n",
       "      <td>78770.86</td>\n",
       "      <td>0</td>\n",
       "      <td>1</td>\n",
       "      <td>0</td>\n",
       "      <td>1</td>\n",
       "    </tr>\n",
       "    <tr>\n",
       "      <th>415</th>\n",
       "      <td>626</td>\n",
       "      <td>26</td>\n",
       "      <td>8</td>\n",
       "      <td>0.00</td>\n",
       "      <td>2</td>\n",
       "      <td>0</td>\n",
       "      <td>0</td>\n",
       "      <td>191420.71</td>\n",
       "      <td>0</td>\n",
       "      <td>0</td>\n",
       "      <td>1</td>\n",
       "      <td>1</td>\n",
       "    </tr>\n",
       "    <tr>\n",
       "      <th>6688</th>\n",
       "      <td>550</td>\n",
       "      <td>22</td>\n",
       "      <td>6</td>\n",
       "      <td>154377.30</td>\n",
       "      <td>1</td>\n",
       "      <td>1</td>\n",
       "      <td>1</td>\n",
       "      <td>51721.52</td>\n",
       "      <td>0</td>\n",
       "      <td>0</td>\n",
       "      <td>0</td>\n",
       "      <td>1</td>\n",
       "    </tr>\n",
       "  </tbody>\n",
       "</table>\n",
       "</div>"
      ],
      "text/plain": [
       "      CreditScore  Age  Tenure    Balance  NumOfProducts  HasCrCard  \\\n",
       "2166          667   40       0       0.00              1          1   \n",
       "168           667   39       2       0.00              2          1   \n",
       "1261          744   38       6   73023.17              2          1   \n",
       "415           626   26       8       0.00              2          0   \n",
       "6688          550   22       6  154377.30              1          1   \n",
       "\n",
       "      IsActiveMember  EstimatedSalary  Exited  Geography_Germany  \\\n",
       "2166               1         96670.20       0                  0   \n",
       "168                0         40721.24       1                  0   \n",
       "1261               0         78770.86       0                  1   \n",
       "415                0        191420.71       0                  0   \n",
       "6688               1         51721.52       0                  0   \n",
       "\n",
       "      Geography_Spain  Gender_Male  \n",
       "2166                0            1  \n",
       "168                 1            0  \n",
       "1261                0            1  \n",
       "415                 1            1  \n",
       "6688                0            1  "
      ]
     },
     "execution_count": 44,
     "metadata": {},
     "output_type": "execute_result"
    }
   ],
   "source": [
    "data_ohe_scal.sample(5)"
   ]
  },
  {
   "cell_type": "markdown",
   "id": "e73247dc",
   "metadata": {},
   "source": [
    "Проверка размеров получившихся выборок"
   ]
  },
  {
   "cell_type": "code",
   "execution_count": 45,
   "id": "c0179356",
   "metadata": {},
   "outputs": [
    {
     "data": {
      "text/plain": [
       "(6000, 11)"
      ]
     },
     "execution_count": 45,
     "metadata": {},
     "output_type": "execute_result"
    }
   ],
   "source": [
    "features_train.shape"
   ]
  },
  {
   "cell_type": "code",
   "execution_count": 46,
   "id": "8d51ed73",
   "metadata": {},
   "outputs": [
    {
     "data": {
      "text/plain": [
       "(6000,)"
      ]
     },
     "execution_count": 46,
     "metadata": {},
     "output_type": "execute_result"
    }
   ],
   "source": [
    "target_train.shape"
   ]
  },
  {
   "cell_type": "code",
   "execution_count": 47,
   "id": "2d048f59",
   "metadata": {},
   "outputs": [
    {
     "data": {
      "text/plain": [
       "(2000, 11)"
      ]
     },
     "execution_count": 47,
     "metadata": {},
     "output_type": "execute_result"
    }
   ],
   "source": [
    "features_valid.shape"
   ]
  },
  {
   "cell_type": "code",
   "execution_count": 48,
   "id": "16a80d9f",
   "metadata": {},
   "outputs": [
    {
     "data": {
      "text/plain": [
       "(2000,)"
      ]
     },
     "execution_count": 48,
     "metadata": {},
     "output_type": "execute_result"
    }
   ],
   "source": [
    "target_valid.shape"
   ]
  },
  {
   "cell_type": "code",
   "execution_count": 49,
   "id": "cfd22a8c",
   "metadata": {},
   "outputs": [
    {
     "data": {
      "text/plain": [
       "(2000, 11)"
      ]
     },
     "execution_count": 49,
     "metadata": {},
     "output_type": "execute_result"
    }
   ],
   "source": [
    "features_test.shape"
   ]
  },
  {
   "cell_type": "code",
   "execution_count": 50,
   "id": "50fbe482",
   "metadata": {},
   "outputs": [
    {
     "data": {
      "text/plain": [
       "(2000,)"
      ]
     },
     "execution_count": 50,
     "metadata": {},
     "output_type": "execute_result"
    }
   ],
   "source": [
    "target_test.shape"
   ]
  },
  {
   "cell_type": "code",
   "execution_count": null,
   "id": "86ea3260",
   "metadata": {},
   "outputs": [],
   "source": []
  },
  {
   "cell_type": "code",
   "execution_count": 51,
   "id": "23af4595",
   "metadata": {},
   "outputs": [],
   "source": [
    "#список столбцов с числовыми признаками для масштабирования\n",
    "numeric = ['CreditScore', 'Age', 'Tenure', 'NumOfProducts', 'Balance', 'EstimatedSalary']"
   ]
  },
  {
   "cell_type": "code",
   "execution_count": 52,
   "id": "d248fc7f",
   "metadata": {},
   "outputs": [
    {
     "data": {
      "text/html": [
       "<style>#sk-container-id-1 {color: black;background-color: white;}#sk-container-id-1 pre{padding: 0;}#sk-container-id-1 div.sk-toggleable {background-color: white;}#sk-container-id-1 label.sk-toggleable__label {cursor: pointer;display: block;width: 100%;margin-bottom: 0;padding: 0.3em;box-sizing: border-box;text-align: center;}#sk-container-id-1 label.sk-toggleable__label-arrow:before {content: \"▸\";float: left;margin-right: 0.25em;color: #696969;}#sk-container-id-1 label.sk-toggleable__label-arrow:hover:before {color: black;}#sk-container-id-1 div.sk-estimator:hover label.sk-toggleable__label-arrow:before {color: black;}#sk-container-id-1 div.sk-toggleable__content {max-height: 0;max-width: 0;overflow: hidden;text-align: left;background-color: #f0f8ff;}#sk-container-id-1 div.sk-toggleable__content pre {margin: 0.2em;color: black;border-radius: 0.25em;background-color: #f0f8ff;}#sk-container-id-1 input.sk-toggleable__control:checked~div.sk-toggleable__content {max-height: 200px;max-width: 100%;overflow: auto;}#sk-container-id-1 input.sk-toggleable__control:checked~label.sk-toggleable__label-arrow:before {content: \"▾\";}#sk-container-id-1 div.sk-estimator input.sk-toggleable__control:checked~label.sk-toggleable__label {background-color: #d4ebff;}#sk-container-id-1 div.sk-label input.sk-toggleable__control:checked~label.sk-toggleable__label {background-color: #d4ebff;}#sk-container-id-1 input.sk-hidden--visually {border: 0;clip: rect(1px 1px 1px 1px);clip: rect(1px, 1px, 1px, 1px);height: 1px;margin: -1px;overflow: hidden;padding: 0;position: absolute;width: 1px;}#sk-container-id-1 div.sk-estimator {font-family: monospace;background-color: #f0f8ff;border: 1px dotted black;border-radius: 0.25em;box-sizing: border-box;margin-bottom: 0.5em;}#sk-container-id-1 div.sk-estimator:hover {background-color: #d4ebff;}#sk-container-id-1 div.sk-parallel-item::after {content: \"\";width: 100%;border-bottom: 1px solid gray;flex-grow: 1;}#sk-container-id-1 div.sk-label:hover label.sk-toggleable__label {background-color: #d4ebff;}#sk-container-id-1 div.sk-serial::before {content: \"\";position: absolute;border-left: 1px solid gray;box-sizing: border-box;top: 0;bottom: 0;left: 50%;z-index: 0;}#sk-container-id-1 div.sk-serial {display: flex;flex-direction: column;align-items: center;background-color: white;padding-right: 0.2em;padding-left: 0.2em;position: relative;}#sk-container-id-1 div.sk-item {position: relative;z-index: 1;}#sk-container-id-1 div.sk-parallel {display: flex;align-items: stretch;justify-content: center;background-color: white;position: relative;}#sk-container-id-1 div.sk-item::before, #sk-container-id-1 div.sk-parallel-item::before {content: \"\";position: absolute;border-left: 1px solid gray;box-sizing: border-box;top: 0;bottom: 0;left: 50%;z-index: -1;}#sk-container-id-1 div.sk-parallel-item {display: flex;flex-direction: column;z-index: 1;position: relative;background-color: white;}#sk-container-id-1 div.sk-parallel-item:first-child::after {align-self: flex-end;width: 50%;}#sk-container-id-1 div.sk-parallel-item:last-child::after {align-self: flex-start;width: 50%;}#sk-container-id-1 div.sk-parallel-item:only-child::after {width: 0;}#sk-container-id-1 div.sk-dashed-wrapped {border: 1px dashed gray;margin: 0 0.4em 0.5em 0.4em;box-sizing: border-box;padding-bottom: 0.4em;background-color: white;}#sk-container-id-1 div.sk-label label {font-family: monospace;font-weight: bold;display: inline-block;line-height: 1.2em;}#sk-container-id-1 div.sk-label-container {text-align: center;}#sk-container-id-1 div.sk-container {/* jupyter's `normalize.less` sets `[hidden] { display: none; }` but bootstrap.min.css set `[hidden] { display: none !important; }` so we also need the `!important` here to be able to override the default hidden behavior on the sphinx rendered scikit-learn.org. See: https://github.com/scikit-learn/scikit-learn/issues/21755 */display: inline-block !important;position: relative;}#sk-container-id-1 div.sk-text-repr-fallback {display: none;}</style><div id=\"sk-container-id-1\" class=\"sk-top-container\"><div class=\"sk-text-repr-fallback\"><pre>StandardScaler()</pre><b>In a Jupyter environment, please rerun this cell to show the HTML representation or trust the notebook. <br />On GitHub, the HTML representation is unable to render, please try loading this page with nbviewer.org.</b></div><div class=\"sk-container\" hidden><div class=\"sk-item\"><div class=\"sk-estimator sk-toggleable\"><input class=\"sk-toggleable__control sk-hidden--visually\" id=\"sk-estimator-id-1\" type=\"checkbox\" checked><label for=\"sk-estimator-id-1\" class=\"sk-toggleable__label sk-toggleable__label-arrow\">StandardScaler</label><div class=\"sk-toggleable__content\"><pre>StandardScaler()</pre></div></div></div></div></div>"
      ],
      "text/plain": [
       "StandardScaler()"
      ]
     },
     "execution_count": 52,
     "metadata": {},
     "output_type": "execute_result"
    }
   ],
   "source": [
    "scaler = StandardScaler()\n",
    "scaler.fit(features_train[numeric])\n",
    "#pd.options.mode.chained_assignment = None"
   ]
  },
  {
   "cell_type": "code",
   "execution_count": 53,
   "id": "e570c287",
   "metadata": {},
   "outputs": [],
   "source": [
    "features_train[numeric] = scaler.transform(features_train[numeric])"
   ]
  },
  {
   "cell_type": "code",
   "execution_count": 54,
   "id": "d84db1a3",
   "metadata": {},
   "outputs": [],
   "source": [
    "features_valid[numeric] = scaler.transform(features_valid[numeric])"
   ]
  },
  {
   "cell_type": "code",
   "execution_count": 55,
   "id": "45f11d83",
   "metadata": {},
   "outputs": [],
   "source": [
    "features_test[numeric] = scaler.transform(features_test[numeric])"
   ]
  },
  {
   "cell_type": "code",
   "execution_count": null,
   "id": "c85d39a8",
   "metadata": {},
   "outputs": [],
   "source": []
  },
  {
   "cell_type": "code",
   "execution_count": 56,
   "id": "ccbf87d8",
   "metadata": {},
   "outputs": [
    {
     "data": {
      "text/html": [
       "<div>\n",
       "<style scoped>\n",
       "    .dataframe tbody tr th:only-of-type {\n",
       "        vertical-align: middle;\n",
       "    }\n",
       "\n",
       "    .dataframe tbody tr th {\n",
       "        vertical-align: top;\n",
       "    }\n",
       "\n",
       "    .dataframe thead th {\n",
       "        text-align: right;\n",
       "    }\n",
       "</style>\n",
       "<table border=\"1\" class=\"dataframe\">\n",
       "  <thead>\n",
       "    <tr style=\"text-align: right;\">\n",
       "      <th></th>\n",
       "      <th>CreditScore</th>\n",
       "      <th>Age</th>\n",
       "      <th>Tenure</th>\n",
       "      <th>Balance</th>\n",
       "      <th>NumOfProducts</th>\n",
       "      <th>HasCrCard</th>\n",
       "      <th>IsActiveMember</th>\n",
       "      <th>EstimatedSalary</th>\n",
       "      <th>Geography_Germany</th>\n",
       "      <th>Geography_Spain</th>\n",
       "      <th>Gender_Male</th>\n",
       "    </tr>\n",
       "  </thead>\n",
       "  <tbody>\n",
       "    <tr>\n",
       "      <th>9076</th>\n",
       "      <td>0.166441</td>\n",
       "      <td>-1.134945</td>\n",
       "      <td>-1.134997</td>\n",
       "      <td>0.143121</td>\n",
       "      <td>-0.916018</td>\n",
       "      <td>0</td>\n",
       "      <td>1</td>\n",
       "      <td>-0.620375</td>\n",
       "      <td>0</td>\n",
       "      <td>0</td>\n",
       "      <td>0</td>\n",
       "    </tr>\n",
       "    <tr>\n",
       "      <th>1602</th>\n",
       "      <td>-0.814508</td>\n",
       "      <td>0.292120</td>\n",
       "      <td>-0.171138</td>\n",
       "      <td>0.520749</td>\n",
       "      <td>2.511553</td>\n",
       "      <td>1</td>\n",
       "      <td>0</td>\n",
       "      <td>-0.775950</td>\n",
       "      <td>0</td>\n",
       "      <td>0</td>\n",
       "      <td>0</td>\n",
       "    </tr>\n",
       "    <tr>\n",
       "      <th>3351</th>\n",
       "      <td>-1.816108</td>\n",
       "      <td>-0.468981</td>\n",
       "      <td>1.435292</td>\n",
       "      <td>1.600597</td>\n",
       "      <td>-0.916018</td>\n",
       "      <td>1</td>\n",
       "      <td>0</td>\n",
       "      <td>1.042636</td>\n",
       "      <td>1</td>\n",
       "      <td>0</td>\n",
       "      <td>0</td>\n",
       "    </tr>\n",
       "    <tr>\n",
       "      <th>5827</th>\n",
       "      <td>0.032206</td>\n",
       "      <td>-0.373843</td>\n",
       "      <td>1.435292</td>\n",
       "      <td>-1.220573</td>\n",
       "      <td>0.797767</td>\n",
       "      <td>1</td>\n",
       "      <td>1</td>\n",
       "      <td>-0.942812</td>\n",
       "      <td>0</td>\n",
       "      <td>1</td>\n",
       "      <td>1</td>\n",
       "    </tr>\n",
       "    <tr>\n",
       "      <th>7294</th>\n",
       "      <td>0.032206</td>\n",
       "      <td>-0.754394</td>\n",
       "      <td>-0.813711</td>\n",
       "      <td>1.255455</td>\n",
       "      <td>0.797767</td>\n",
       "      <td>0</td>\n",
       "      <td>0</td>\n",
       "      <td>-1.303785</td>\n",
       "      <td>1</td>\n",
       "      <td>0</td>\n",
       "      <td>1</td>\n",
       "    </tr>\n",
       "  </tbody>\n",
       "</table>\n",
       "</div>"
      ],
      "text/plain": [
       "      CreditScore       Age    Tenure   Balance  NumOfProducts  HasCrCard  \\\n",
       "9076     0.166441 -1.134945 -1.134997  0.143121      -0.916018          0   \n",
       "1602    -0.814508  0.292120 -0.171138  0.520749       2.511553          1   \n",
       "3351    -1.816108 -0.468981  1.435292  1.600597      -0.916018          1   \n",
       "5827     0.032206 -0.373843  1.435292 -1.220573       0.797767          1   \n",
       "7294     0.032206 -0.754394 -0.813711  1.255455       0.797767          0   \n",
       "\n",
       "      IsActiveMember  EstimatedSalary  Geography_Germany  Geography_Spain  \\\n",
       "9076               1        -0.620375                  0                0   \n",
       "1602               0        -0.775950                  0                0   \n",
       "3351               0         1.042636                  1                0   \n",
       "5827               1        -0.942812                  0                1   \n",
       "7294               0        -1.303785                  1                0   \n",
       "\n",
       "      Gender_Male  \n",
       "9076            0  \n",
       "1602            0  \n",
       "3351            0  \n",
       "5827            1  \n",
       "7294            1  "
      ]
     },
     "execution_count": 56,
     "metadata": {},
     "output_type": "execute_result"
    }
   ],
   "source": [
    "features_train.sample(5)"
   ]
  },
  {
   "cell_type": "code",
   "execution_count": 57,
   "id": "b84eaee5",
   "metadata": {},
   "outputs": [
    {
     "data": {
      "text/html": [
       "<div>\n",
       "<style scoped>\n",
       "    .dataframe tbody tr th:only-of-type {\n",
       "        vertical-align: middle;\n",
       "    }\n",
       "\n",
       "    .dataframe tbody tr th {\n",
       "        vertical-align: top;\n",
       "    }\n",
       "\n",
       "    .dataframe thead th {\n",
       "        text-align: right;\n",
       "    }\n",
       "</style>\n",
       "<table border=\"1\" class=\"dataframe\">\n",
       "  <thead>\n",
       "    <tr style=\"text-align: right;\">\n",
       "      <th></th>\n",
       "      <th>CreditScore</th>\n",
       "      <th>Age</th>\n",
       "      <th>Tenure</th>\n",
       "      <th>Balance</th>\n",
       "      <th>NumOfProducts</th>\n",
       "      <th>HasCrCard</th>\n",
       "      <th>IsActiveMember</th>\n",
       "      <th>EstimatedSalary</th>\n",
       "      <th>Geography_Germany</th>\n",
       "      <th>Geography_Spain</th>\n",
       "      <th>Gender_Male</th>\n",
       "    </tr>\n",
       "  </thead>\n",
       "  <tbody>\n",
       "    <tr>\n",
       "      <th>8283</th>\n",
       "      <td>0.145790</td>\n",
       "      <td>1.719185</td>\n",
       "      <td>-1.134997</td>\n",
       "      <td>-1.220573</td>\n",
       "      <td>0.797767</td>\n",
       "      <td>1</td>\n",
       "      <td>1</td>\n",
       "      <td>-0.758502</td>\n",
       "      <td>0</td>\n",
       "      <td>0</td>\n",
       "      <td>1</td>\n",
       "    </tr>\n",
       "    <tr>\n",
       "      <th>9341</th>\n",
       "      <td>0.042532</td>\n",
       "      <td>-0.944670</td>\n",
       "      <td>0.792720</td>\n",
       "      <td>-1.220573</td>\n",
       "      <td>0.797767</td>\n",
       "      <td>1</td>\n",
       "      <td>1</td>\n",
       "      <td>0.850983</td>\n",
       "      <td>0</td>\n",
       "      <td>0</td>\n",
       "      <td>1</td>\n",
       "    </tr>\n",
       "    <tr>\n",
       "      <th>8509</th>\n",
       "      <td>-0.659621</td>\n",
       "      <td>0.292120</td>\n",
       "      <td>-0.813711</td>\n",
       "      <td>-1.220573</td>\n",
       "      <td>-0.916018</td>\n",
       "      <td>1</td>\n",
       "      <td>0</td>\n",
       "      <td>0.046518</td>\n",
       "      <td>0</td>\n",
       "      <td>1</td>\n",
       "      <td>0</td>\n",
       "    </tr>\n",
       "    <tr>\n",
       "      <th>2199</th>\n",
       "      <td>1.157716</td>\n",
       "      <td>-0.944670</td>\n",
       "      <td>0.471434</td>\n",
       "      <td>1.041803</td>\n",
       "      <td>-0.916018</td>\n",
       "      <td>1</td>\n",
       "      <td>0</td>\n",
       "      <td>-0.800897</td>\n",
       "      <td>0</td>\n",
       "      <td>0</td>\n",
       "      <td>1</td>\n",
       "    </tr>\n",
       "    <tr>\n",
       "      <th>9927</th>\n",
       "      <td>1.694656</td>\n",
       "      <td>-0.754394</td>\n",
       "      <td>0.471434</td>\n",
       "      <td>0.183881</td>\n",
       "      <td>-0.916018</td>\n",
       "      <td>1</td>\n",
       "      <td>0</td>\n",
       "      <td>1.534461</td>\n",
       "      <td>0</td>\n",
       "      <td>0</td>\n",
       "      <td>0</td>\n",
       "    </tr>\n",
       "  </tbody>\n",
       "</table>\n",
       "</div>"
      ],
      "text/plain": [
       "      CreditScore       Age    Tenure   Balance  NumOfProducts  HasCrCard  \\\n",
       "8283     0.145790  1.719185 -1.134997 -1.220573       0.797767          1   \n",
       "9341     0.042532 -0.944670  0.792720 -1.220573       0.797767          1   \n",
       "8509    -0.659621  0.292120 -0.813711 -1.220573      -0.916018          1   \n",
       "2199     1.157716 -0.944670  0.471434  1.041803      -0.916018          1   \n",
       "9927     1.694656 -0.754394  0.471434  0.183881      -0.916018          1   \n",
       "\n",
       "      IsActiveMember  EstimatedSalary  Geography_Germany  Geography_Spain  \\\n",
       "8283               1        -0.758502                  0                0   \n",
       "9341               1         0.850983                  0                0   \n",
       "8509               0         0.046518                  0                1   \n",
       "2199               0        -0.800897                  0                0   \n",
       "9927               0         1.534461                  0                0   \n",
       "\n",
       "      Gender_Male  \n",
       "8283            1  \n",
       "9341            1  \n",
       "8509            0  \n",
       "2199            1  \n",
       "9927            0  "
      ]
     },
     "execution_count": 57,
     "metadata": {},
     "output_type": "execute_result"
    }
   ],
   "source": [
    "features_valid.sample(5)"
   ]
  },
  {
   "cell_type": "code",
   "execution_count": 58,
   "id": "de4cb1c7",
   "metadata": {},
   "outputs": [
    {
     "data": {
      "text/html": [
       "<div>\n",
       "<style scoped>\n",
       "    .dataframe tbody tr th:only-of-type {\n",
       "        vertical-align: middle;\n",
       "    }\n",
       "\n",
       "    .dataframe tbody tr th {\n",
       "        vertical-align: top;\n",
       "    }\n",
       "\n",
       "    .dataframe thead th {\n",
       "        text-align: right;\n",
       "    }\n",
       "</style>\n",
       "<table border=\"1\" class=\"dataframe\">\n",
       "  <thead>\n",
       "    <tr style=\"text-align: right;\">\n",
       "      <th></th>\n",
       "      <th>CreditScore</th>\n",
       "      <th>Age</th>\n",
       "      <th>Tenure</th>\n",
       "      <th>Balance</th>\n",
       "      <th>NumOfProducts</th>\n",
       "      <th>HasCrCard</th>\n",
       "      <th>IsActiveMember</th>\n",
       "      <th>EstimatedSalary</th>\n",
       "      <th>Geography_Germany</th>\n",
       "      <th>Geography_Spain</th>\n",
       "      <th>Gender_Male</th>\n",
       "    </tr>\n",
       "  </thead>\n",
       "  <tbody>\n",
       "    <tr>\n",
       "      <th>3068</th>\n",
       "      <td>0.032206</td>\n",
       "      <td>-0.754394</td>\n",
       "      <td>0.792720</td>\n",
       "      <td>0.420737</td>\n",
       "      <td>-0.916018</td>\n",
       "      <td>1</td>\n",
       "      <td>1</td>\n",
       "      <td>-1.549486</td>\n",
       "      <td>0</td>\n",
       "      <td>0</td>\n",
       "      <td>0</td>\n",
       "    </tr>\n",
       "    <tr>\n",
       "      <th>751</th>\n",
       "      <td>1.116413</td>\n",
       "      <td>0.767809</td>\n",
       "      <td>1.435292</td>\n",
       "      <td>0.307900</td>\n",
       "      <td>-0.916018</td>\n",
       "      <td>1</td>\n",
       "      <td>0</td>\n",
       "      <td>-0.467752</td>\n",
       "      <td>1</td>\n",
       "      <td>0</td>\n",
       "      <td>0</td>\n",
       "    </tr>\n",
       "    <tr>\n",
       "      <th>8551</th>\n",
       "      <td>-1.475358</td>\n",
       "      <td>-0.659257</td>\n",
       "      <td>0.792720</td>\n",
       "      <td>-1.220573</td>\n",
       "      <td>0.797767</td>\n",
       "      <td>1</td>\n",
       "      <td>0</td>\n",
       "      <td>-0.561037</td>\n",
       "      <td>0</td>\n",
       "      <td>1</td>\n",
       "      <td>1</td>\n",
       "    </tr>\n",
       "    <tr>\n",
       "      <th>4497</th>\n",
       "      <td>0.651753</td>\n",
       "      <td>0.767809</td>\n",
       "      <td>-1.134997</td>\n",
       "      <td>-1.220573</td>\n",
       "      <td>-0.916018</td>\n",
       "      <td>1</td>\n",
       "      <td>0</td>\n",
       "      <td>0.132286</td>\n",
       "      <td>0</td>\n",
       "      <td>1</td>\n",
       "      <td>0</td>\n",
       "    </tr>\n",
       "    <tr>\n",
       "      <th>5313</th>\n",
       "      <td>1.374557</td>\n",
       "      <td>3.146251</td>\n",
       "      <td>0.150148</td>\n",
       "      <td>0.719011</td>\n",
       "      <td>0.797767</td>\n",
       "      <td>1</td>\n",
       "      <td>1</td>\n",
       "      <td>0.086783</td>\n",
       "      <td>0</td>\n",
       "      <td>0</td>\n",
       "      <td>0</td>\n",
       "    </tr>\n",
       "  </tbody>\n",
       "</table>\n",
       "</div>"
      ],
      "text/plain": [
       "      CreditScore       Age    Tenure   Balance  NumOfProducts  HasCrCard  \\\n",
       "3068     0.032206 -0.754394  0.792720  0.420737      -0.916018          1   \n",
       "751      1.116413  0.767809  1.435292  0.307900      -0.916018          1   \n",
       "8551    -1.475358 -0.659257  0.792720 -1.220573       0.797767          1   \n",
       "4497     0.651753  0.767809 -1.134997 -1.220573      -0.916018          1   \n",
       "5313     1.374557  3.146251  0.150148  0.719011       0.797767          1   \n",
       "\n",
       "      IsActiveMember  EstimatedSalary  Geography_Germany  Geography_Spain  \\\n",
       "3068               1        -1.549486                  0                0   \n",
       "751                0        -0.467752                  1                0   \n",
       "8551               0        -0.561037                  0                1   \n",
       "4497               0         0.132286                  0                1   \n",
       "5313               1         0.086783                  0                0   \n",
       "\n",
       "      Gender_Male  \n",
       "3068            0  \n",
       "751             0  \n",
       "8551            1  \n",
       "4497            0  \n",
       "5313            0  "
      ]
     },
     "execution_count": 58,
     "metadata": {},
     "output_type": "execute_result"
    }
   ],
   "source": [
    "features_test.sample(5)"
   ]
  },
  {
   "cell_type": "markdown",
   "id": "d398acc1",
   "metadata": {
    "scrolled": true
   },
   "source": [
    "###### Проверка распределения нулей и единиц в получившихся выборках"
   ]
  },
  {
   "cell_type": "code",
   "execution_count": 59,
   "id": "97fd37d5",
   "metadata": {},
   "outputs": [
    {
     "data": {
      "text/plain": [
       "0.20383333333333334"
      ]
     },
     "execution_count": 59,
     "metadata": {},
     "output_type": "execute_result"
    }
   ],
   "source": [
    "target_train.mean()"
   ]
  },
  {
   "cell_type": "code",
   "execution_count": 60,
   "id": "3070dd16",
   "metadata": {},
   "outputs": [
    {
     "data": {
      "text/plain": [
       "0.2035"
      ]
     },
     "execution_count": 60,
     "metadata": {},
     "output_type": "execute_result"
    }
   ],
   "source": [
    "target_valid.mean()"
   ]
  },
  {
   "cell_type": "code",
   "execution_count": 61,
   "id": "5a36f612",
   "metadata": {},
   "outputs": [
    {
     "data": {
      "text/plain": [
       "0.2035"
      ]
     },
     "execution_count": 61,
     "metadata": {},
     "output_type": "execute_result"
    }
   ],
   "source": [
    "target_test.mean()"
   ]
  },
  {
   "cell_type": "markdown",
   "id": "5531d4e4",
   "metadata": {},
   "source": [
    "распределение нулей и единиц довольно равномерное, отличия только в третьем знаке."
   ]
  },
  {
   "cell_type": "markdown",
   "id": "04d9a0ca",
   "metadata": {},
   "source": [
    "<div class=\"alert alert-block alert-info\">\n",
    "    \n",
    "Решающее дерево `DecisionTreeClassifier`\n",
    "</div>"
   ]
  },
  {
   "cell_type": "code",
   "execution_count": 62,
   "id": "c5d7d5e7",
   "metadata": {},
   "outputs": [
    {
     "name": "stdout",
     "output_type": "stream",
     "text": [
      "-----THE BEST OF TREE-----\n",
      "f1= 0.593342981186686\n",
      "max_depth = 8\n",
      "min_samples_split = 2\n",
      "min_samples_leaf = 6\n"
     ]
    }
   ],
   "source": [
    "#поиск лучшей модели Решающего дерева\n",
    "best_res_tree = 0\n",
    "\n",
    "for j in range(1,13,1): #max_depth\n",
    "    for i in range(2,10,1): #min_samples_split\n",
    "        for k in range(2,10,1): #min_samples_leaf\n",
    "        \n",
    "            model = DecisionTreeClassifier(max_depth=j, random_state=12345, min_samples_split=i, min_samples_leaf=k)\n",
    "            model.fit(features_train, target_train)\n",
    "            predictions = model.predict(features_valid)\n",
    "            f1 = f1_score(target_valid, predictions)\n",
    "            \n",
    "            if f1 > best_res_tree:\n",
    "                best_res_tree = f1\n",
    "                max_depth = j\n",
    "                min_samples_split = i\n",
    "                min_samples_leaf = k\n",
    "            \n",
    "   \n",
    "print('-----THE BEST OF TREE-----')\n",
    "print('f1=', best_res_tree)\n",
    "print('max_depth =', max_depth)\n",
    "print('min_samples_split =', min_samples_split)\n",
    "print('min_samples_leaf =', min_samples_leaf)"
   ]
  },
  {
   "cell_type": "code",
   "execution_count": null,
   "id": "eccaf7f0",
   "metadata": {},
   "outputs": [],
   "source": []
  },
  {
   "cell_type": "code",
   "execution_count": null,
   "id": "1933da03",
   "metadata": {},
   "outputs": [],
   "source": []
  },
  {
   "cell_type": "code",
   "execution_count": 63,
   "id": "5d730e7c",
   "metadata": {},
   "outputs": [],
   "source": [
    "model = DecisionTreeClassifier(max_depth=8, random_state=12345, min_samples_split=2, min_samples_leaf=6)\n",
    "model.fit(features_train, target_train)\n",
    "predictions = model.predict(features_valid)"
   ]
  },
  {
   "cell_type": "code",
   "execution_count": 64,
   "id": "f900b552",
   "metadata": {},
   "outputs": [
    {
     "data": {
      "text/plain": [
       "0.593342981186686"
      ]
     },
     "execution_count": 64,
     "metadata": {},
     "output_type": "execute_result"
    }
   ],
   "source": [
    "f1_score(target_valid, predictions)"
   ]
  },
  {
   "cell_type": "code",
   "execution_count": 65,
   "id": "ea09fdbc",
   "metadata": {},
   "outputs": [
    {
     "data": {
      "text/plain": [
       "0.7270467694196509"
      ]
     },
     "execution_count": 65,
     "metadata": {},
     "output_type": "execute_result"
    }
   ],
   "source": [
    "roc_auc_score(target_valid, predictions)"
   ]
  },
  {
   "cell_type": "markdown",
   "id": "df5d3889",
   "metadata": {},
   "source": [
    "проверка f1 на тестовой выборке"
   ]
  },
  {
   "cell_type": "code",
   "execution_count": 66,
   "id": "d0a8b5eb",
   "metadata": {},
   "outputs": [],
   "source": [
    "predictions = model.predict(features_test)"
   ]
  },
  {
   "cell_type": "code",
   "execution_count": 67,
   "id": "5e894507",
   "metadata": {},
   "outputs": [
    {
     "data": {
      "text/plain": [
       "0.5962373371924747"
      ]
     },
     "execution_count": 67,
     "metadata": {},
     "output_type": "execute_result"
    }
   ],
   "source": [
    "f1_score(target_test, predictions)"
   ]
  },
  {
   "cell_type": "code",
   "execution_count": 68,
   "id": "6606c661",
   "metadata": {},
   "outputs": [
    {
     "data": {
      "text/plain": [
       "0.7285891438433812"
      ]
     },
     "execution_count": 68,
     "metadata": {},
     "output_type": "execute_result"
    }
   ],
   "source": [
    "roc_auc_score(target_test, predictions)"
   ]
  },
  {
   "cell_type": "markdown",
   "id": "e3f9134e",
   "metadata": {},
   "source": [
    "<div class=\"alert alert-block alert-info\">\n",
    "    \n",
    "случайный лес `RandomForestClassifier`\n",
    "</div>"
   ]
  },
  {
   "cell_type": "code",
   "execution_count": 69,
   "id": "56a79ad5",
   "metadata": {},
   "outputs": [
    {
     "name": "stdout",
     "output_type": "stream",
     "text": [
      "-----THE BEST-----\n",
      "f1= 0.5840978593272171\n",
      "n_est = 20\n",
      "max_depth = 16\n"
     ]
    }
   ],
   "source": [
    "#поиск лучшей модели леса\n",
    "best_res = 0\n",
    "n_est = 0\n",
    "max_depth = 0\n",
    "for i in range(20,120,20):\n",
    "    #print('----------n_est=', i, '-------------')\n",
    "    for j in range(4,20,1):\n",
    "        model = RandomForestClassifier(n_estimators=i, \n",
    "                               max_depth=j, \n",
    "                               random_state=12345, \n",
    "                               min_samples_split=2, \n",
    "                               min_samples_leaf=2\n",
    "                                  )\n",
    "        model.fit(features_train, target_train)\n",
    "        predictions = model.predict(features_valid)\n",
    "        f1 = f1_score(target_valid, predictions)\n",
    "        if f1 > best_res:\n",
    "            best_res = f1\n",
    "            n_est = i\n",
    "            max_depth = j\n",
    "            #print(j, round(f1, 3))\n",
    "   \n",
    "print('-----THE BEST-----')\n",
    "print('f1=', best_res)\n",
    "print('n_est =', n_est)\n",
    "print('max_depth =', max_depth)"
   ]
  },
  {
   "cell_type": "code",
   "execution_count": null,
   "id": "d82811ad",
   "metadata": {},
   "outputs": [],
   "source": []
  },
  {
   "cell_type": "markdown",
   "id": "5cb598b8",
   "metadata": {},
   "source": [
    "Лучшая модель"
   ]
  },
  {
   "cell_type": "code",
   "execution_count": 70,
   "id": "8101c0c0",
   "metadata": {},
   "outputs": [
    {
     "data": {
      "text/plain": [
       "0.5840978593272171"
      ]
     },
     "execution_count": 70,
     "metadata": {},
     "output_type": "execute_result"
    }
   ],
   "source": [
    "model = RandomForestClassifier(n_estimators=20, \n",
    "                               max_depth=16, \n",
    "                               random_state=12345, \n",
    "                               min_samples_split=2, \n",
    "                               min_samples_leaf=2\n",
    "                                  )\n",
    "model.fit(features_train, target_train)\n",
    "predictions = model.predict(features_valid)\n",
    "f1_score(target_valid, predictions)"
   ]
  },
  {
   "cell_type": "code",
   "execution_count": 71,
   "id": "f6fd42ec",
   "metadata": {},
   "outputs": [
    {
     "data": {
      "text/plain": [
       "0.7170668357109036"
      ]
     },
     "execution_count": 71,
     "metadata": {},
     "output_type": "execute_result"
    }
   ],
   "source": [
    "roc_auc_score(target_valid, predictions)"
   ]
  },
  {
   "cell_type": "markdown",
   "id": "613219e3",
   "metadata": {},
   "source": [
    "Проверка на тестовой выборке"
   ]
  },
  {
   "cell_type": "code",
   "execution_count": 72,
   "id": "34512404",
   "metadata": {},
   "outputs": [
    {
     "data": {
      "text/plain": [
       "0.5688073394495412"
      ]
     },
     "execution_count": 72,
     "metadata": {},
     "output_type": "execute_result"
    }
   ],
   "source": [
    "predictions = model.predict(features_test)\n",
    "f1_score(target_test, predictions)"
   ]
  },
  {
   "cell_type": "code",
   "execution_count": 73,
   "id": "61b1aca1",
   "metadata": {},
   "outputs": [
    {
     "data": {
      "text/plain": [
       "0.7093549635922517"
      ]
     },
     "execution_count": 73,
     "metadata": {},
     "output_type": "execute_result"
    }
   ],
   "source": [
    "roc_auc_score(target_test, predictions)"
   ]
  },
  {
   "cell_type": "markdown",
   "id": "933ff56b",
   "metadata": {},
   "source": [
    "<div class=\"alert alert-block alert-info\">\n",
    "\n",
    "Модель \"Логистическая регрессия\" `LogisticRegression`"
   ]
  },
  {
   "cell_type": "code",
   "execution_count": 74,
   "id": "f1fbc6d1",
   "metadata": {
    "scrolled": true
   },
   "outputs": [
    {
     "data": {
      "text/plain": [
       "0.29906542056074764"
      ]
     },
     "execution_count": 74,
     "metadata": {},
     "output_type": "execute_result"
    }
   ],
   "source": [
    "model = LogisticRegression(random_state=12345, solver='lbfgs', max_iter=200)\n",
    "model.fit(features_train, target_train)\n",
    "predictions = model.predict(features_valid)\n",
    "f1_score(target_valid, predictions)\n"
   ]
  },
  {
   "cell_type": "code",
   "execution_count": 75,
   "id": "e4022d10",
   "metadata": {},
   "outputs": [
    {
     "data": {
      "text/plain": [
       "0.5832141849091003"
      ]
     },
     "execution_count": 75,
     "metadata": {},
     "output_type": "execute_result"
    }
   ],
   "source": [
    "roc_auc_score(target_valid, predictions)"
   ]
  },
  {
   "cell_type": "code",
   "execution_count": 76,
   "id": "0fcf179a",
   "metadata": {},
   "outputs": [
    {
     "data": {
      "text/plain": [
       "0.31835205992509363"
      ]
     },
     "execution_count": 76,
     "metadata": {},
     "output_type": "execute_result"
    }
   ],
   "source": [
    "predictions = model.predict(features_test)\n",
    "f1_score(target_test, predictions)"
   ]
  },
  {
   "cell_type": "code",
   "execution_count": 77,
   "id": "3a7d462d",
   "metadata": {},
   "outputs": [
    {
     "data": {
      "text/plain": [
       "0.591239930222981"
      ]
     },
     "execution_count": 77,
     "metadata": {},
     "output_type": "execute_result"
    }
   ],
   "source": [
    "roc_auc_score(target_test, predictions)"
   ]
  },
  {
   "cell_type": "code",
   "execution_count": null,
   "id": "04e5b83d",
   "metadata": {},
   "outputs": [],
   "source": []
  },
  {
   "cell_type": "code",
   "execution_count": 78,
   "id": "36b51fc9",
   "metadata": {
    "scrolled": false
   },
   "outputs": [
    {
     "data": {
      "text/plain": [
       "0.29906542056074764"
      ]
     },
     "execution_count": 78,
     "metadata": {},
     "output_type": "execute_result"
    }
   ],
   "source": [
    "model = LogisticRegression(random_state=12345, solver='newton-cg', max_iter=200)\n",
    "model.fit(features_train, target_train)\n",
    "predictions = model.predict(features_valid)\n",
    "f1_score(target_valid, predictions)\n"
   ]
  },
  {
   "cell_type": "code",
   "execution_count": 79,
   "id": "1d011b32",
   "metadata": {},
   "outputs": [
    {
     "data": {
      "text/plain": [
       "0.5832141849091003"
      ]
     },
     "execution_count": 79,
     "metadata": {},
     "output_type": "execute_result"
    }
   ],
   "source": [
    "roc_auc_score(target_valid, predictions)"
   ]
  },
  {
   "cell_type": "markdown",
   "id": "a55ddd43",
   "metadata": {},
   "source": [
    "проверка f1 на тестовой выборке"
   ]
  },
  {
   "cell_type": "code",
   "execution_count": 80,
   "id": "8af014ef",
   "metadata": {},
   "outputs": [
    {
     "data": {
      "text/plain": [
       "0.31835205992509363"
      ]
     },
     "execution_count": 80,
     "metadata": {},
     "output_type": "execute_result"
    }
   ],
   "source": [
    "predictions = model.predict(features_test)\n",
    "f1_score(target_test, predictions)"
   ]
  },
  {
   "cell_type": "code",
   "execution_count": 81,
   "id": "1379f36d",
   "metadata": {},
   "outputs": [
    {
     "data": {
      "text/plain": [
       "0.591239930222981"
      ]
     },
     "execution_count": 81,
     "metadata": {},
     "output_type": "execute_result"
    }
   ],
   "source": [
    "roc_auc_score(target_test, predictions)"
   ]
  },
  {
   "cell_type": "code",
   "execution_count": 82,
   "id": "ff5ad219",
   "metadata": {},
   "outputs": [
    {
     "data": {
      "text/plain": [
       "0.29906542056074764"
      ]
     },
     "execution_count": 82,
     "metadata": {},
     "output_type": "execute_result"
    }
   ],
   "source": [
    "model = LogisticRegression(random_state=12345, solver='liblinear', max_iter=200)\n",
    "model.fit(features_train, target_train)\n",
    "predictions = model.predict(features_valid)\n",
    "f1_score(target_valid, predictions)\n"
   ]
  },
  {
   "cell_type": "code",
   "execution_count": 83,
   "id": "a40adc1d",
   "metadata": {},
   "outputs": [
    {
     "data": {
      "text/plain": [
       "0.29906542056074764"
      ]
     },
     "execution_count": 83,
     "metadata": {},
     "output_type": "execute_result"
    }
   ],
   "source": [
    "model = LogisticRegression(random_state=12345, solver='sag', max_iter=200)\n",
    "model.fit(features_train, target_train)\n",
    "predictions = model.predict(features_valid)\n",
    "f1_score(target_valid, predictions)\n"
   ]
  },
  {
   "cell_type": "code",
   "execution_count": 84,
   "id": "51285fac",
   "metadata": {},
   "outputs": [
    {
     "data": {
      "text/plain": [
       "0.29906542056074764"
      ]
     },
     "execution_count": 84,
     "metadata": {},
     "output_type": "execute_result"
    }
   ],
   "source": [
    "model = LogisticRegression(random_state=12345, solver='saga', max_iter=200)\n",
    "model.fit(features_train, target_train)\n",
    "predictions = model.predict(features_valid)\n",
    "f1_score(target_valid, predictions)\n"
   ]
  },
  {
   "cell_type": "code",
   "execution_count": null,
   "id": "bf66c3a8",
   "metadata": {},
   "outputs": [],
   "source": []
  },
  {
   "cell_type": "markdown",
   "id": "82f431ab",
   "metadata": {},
   "source": [
    "<div class=\"alert alert-block alert-info\">\n",
    "\n",
    "Модель `Support Vector Machines`"
   ]
  },
  {
   "cell_type": "code",
   "execution_count": 85,
   "id": "e677f8c0",
   "metadata": {},
   "outputs": [],
   "source": [
    "clf = svm.SVC()\n"
   ]
  },
  {
   "cell_type": "code",
   "execution_count": 86,
   "id": "c61247a8",
   "metadata": {},
   "outputs": [
    {
     "data": {
      "text/html": [
       "<style>#sk-container-id-2 {color: black;background-color: white;}#sk-container-id-2 pre{padding: 0;}#sk-container-id-2 div.sk-toggleable {background-color: white;}#sk-container-id-2 label.sk-toggleable__label {cursor: pointer;display: block;width: 100%;margin-bottom: 0;padding: 0.3em;box-sizing: border-box;text-align: center;}#sk-container-id-2 label.sk-toggleable__label-arrow:before {content: \"▸\";float: left;margin-right: 0.25em;color: #696969;}#sk-container-id-2 label.sk-toggleable__label-arrow:hover:before {color: black;}#sk-container-id-2 div.sk-estimator:hover label.sk-toggleable__label-arrow:before {color: black;}#sk-container-id-2 div.sk-toggleable__content {max-height: 0;max-width: 0;overflow: hidden;text-align: left;background-color: #f0f8ff;}#sk-container-id-2 div.sk-toggleable__content pre {margin: 0.2em;color: black;border-radius: 0.25em;background-color: #f0f8ff;}#sk-container-id-2 input.sk-toggleable__control:checked~div.sk-toggleable__content {max-height: 200px;max-width: 100%;overflow: auto;}#sk-container-id-2 input.sk-toggleable__control:checked~label.sk-toggleable__label-arrow:before {content: \"▾\";}#sk-container-id-2 div.sk-estimator input.sk-toggleable__control:checked~label.sk-toggleable__label {background-color: #d4ebff;}#sk-container-id-2 div.sk-label input.sk-toggleable__control:checked~label.sk-toggleable__label {background-color: #d4ebff;}#sk-container-id-2 input.sk-hidden--visually {border: 0;clip: rect(1px 1px 1px 1px);clip: rect(1px, 1px, 1px, 1px);height: 1px;margin: -1px;overflow: hidden;padding: 0;position: absolute;width: 1px;}#sk-container-id-2 div.sk-estimator {font-family: monospace;background-color: #f0f8ff;border: 1px dotted black;border-radius: 0.25em;box-sizing: border-box;margin-bottom: 0.5em;}#sk-container-id-2 div.sk-estimator:hover {background-color: #d4ebff;}#sk-container-id-2 div.sk-parallel-item::after {content: \"\";width: 100%;border-bottom: 1px solid gray;flex-grow: 1;}#sk-container-id-2 div.sk-label:hover label.sk-toggleable__label {background-color: #d4ebff;}#sk-container-id-2 div.sk-serial::before {content: \"\";position: absolute;border-left: 1px solid gray;box-sizing: border-box;top: 0;bottom: 0;left: 50%;z-index: 0;}#sk-container-id-2 div.sk-serial {display: flex;flex-direction: column;align-items: center;background-color: white;padding-right: 0.2em;padding-left: 0.2em;position: relative;}#sk-container-id-2 div.sk-item {position: relative;z-index: 1;}#sk-container-id-2 div.sk-parallel {display: flex;align-items: stretch;justify-content: center;background-color: white;position: relative;}#sk-container-id-2 div.sk-item::before, #sk-container-id-2 div.sk-parallel-item::before {content: \"\";position: absolute;border-left: 1px solid gray;box-sizing: border-box;top: 0;bottom: 0;left: 50%;z-index: -1;}#sk-container-id-2 div.sk-parallel-item {display: flex;flex-direction: column;z-index: 1;position: relative;background-color: white;}#sk-container-id-2 div.sk-parallel-item:first-child::after {align-self: flex-end;width: 50%;}#sk-container-id-2 div.sk-parallel-item:last-child::after {align-self: flex-start;width: 50%;}#sk-container-id-2 div.sk-parallel-item:only-child::after {width: 0;}#sk-container-id-2 div.sk-dashed-wrapped {border: 1px dashed gray;margin: 0 0.4em 0.5em 0.4em;box-sizing: border-box;padding-bottom: 0.4em;background-color: white;}#sk-container-id-2 div.sk-label label {font-family: monospace;font-weight: bold;display: inline-block;line-height: 1.2em;}#sk-container-id-2 div.sk-label-container {text-align: center;}#sk-container-id-2 div.sk-container {/* jupyter's `normalize.less` sets `[hidden] { display: none; }` but bootstrap.min.css set `[hidden] { display: none !important; }` so we also need the `!important` here to be able to override the default hidden behavior on the sphinx rendered scikit-learn.org. See: https://github.com/scikit-learn/scikit-learn/issues/21755 */display: inline-block !important;position: relative;}#sk-container-id-2 div.sk-text-repr-fallback {display: none;}</style><div id=\"sk-container-id-2\" class=\"sk-top-container\"><div class=\"sk-text-repr-fallback\"><pre>SVC()</pre><b>In a Jupyter environment, please rerun this cell to show the HTML representation or trust the notebook. <br />On GitHub, the HTML representation is unable to render, please try loading this page with nbviewer.org.</b></div><div class=\"sk-container\" hidden><div class=\"sk-item\"><div class=\"sk-estimator sk-toggleable\"><input class=\"sk-toggleable__control sk-hidden--visually\" id=\"sk-estimator-id-2\" type=\"checkbox\" checked><label for=\"sk-estimator-id-2\" class=\"sk-toggleable__label sk-toggleable__label-arrow\">SVC</label><div class=\"sk-toggleable__content\"><pre>SVC()</pre></div></div></div></div></div>"
      ],
      "text/plain": [
       "SVC()"
      ]
     },
     "execution_count": 86,
     "metadata": {},
     "output_type": "execute_result"
    }
   ],
   "source": [
    "clf.fit(features_train, target_train)"
   ]
  },
  {
   "cell_type": "code",
   "execution_count": 87,
   "id": "693d9631",
   "metadata": {},
   "outputs": [
    {
     "data": {
      "text/plain": [
       "0.29906542056074764"
      ]
     },
     "execution_count": 87,
     "metadata": {},
     "output_type": "execute_result"
    }
   ],
   "source": [
    "predictions = model.predict(features_valid)\n",
    "f1_score(target_valid, predictions)"
   ]
  },
  {
   "cell_type": "code",
   "execution_count": 88,
   "id": "3da7f05d",
   "metadata": {},
   "outputs": [
    {
     "data": {
      "text/plain": [
       "0.5832141849091003"
      ]
     },
     "execution_count": 88,
     "metadata": {},
     "output_type": "execute_result"
    }
   ],
   "source": [
    "roc_auc_score(target_valid, predictions)"
   ]
  },
  {
   "cell_type": "code",
   "execution_count": null,
   "id": "63754b1c",
   "metadata": {},
   "outputs": [],
   "source": []
  },
  {
   "cell_type": "markdown",
   "id": "588594fe",
   "metadata": {},
   "source": [
    "###### Наилучший результат даёт логист регрессия с параметром solver='newton-cg', её метрика f1_score примерно 0.3"
   ]
  },
  {
   "cell_type": "markdown",
   "id": "28fe53e1",
   "metadata": {},
   "source": [
    "### Общий вывод\n",
    "\n",
    "Без баллансировки классов.\n",
    "\n",
    "Лучшие результаты у модели случайный лес.\n",
    "\n",
    "\n",
    "Таблица с результатами разных моделей\n",
    "\n",
    "Имя_модели|f1_валид|f1_тест |roc_auc_валид|roc_auc_тест|\n",
    "----------|--------|--------|-------------|------------|\n",
    "Решающее дерево|0.593|0.596|0.727|0.729|\n",
    "Случайный лес|0.584|0.568|0.717|0.709|\n",
    "Логист.регрессия|0.299|0.318|0.583|0.591|\n"
   ]
  },
  {
   "cell_type": "code",
   "execution_count": null,
   "id": "c79f2abd",
   "metadata": {},
   "outputs": [],
   "source": []
  },
  {
   "cell_type": "markdown",
   "id": "7e0e6a27",
   "metadata": {},
   "source": [
    "## Борьба с дисбалансом"
   ]
  },
  {
   "cell_type": "code",
   "execution_count": null,
   "id": "2e84e3eb",
   "metadata": {
    "scrolled": true
   },
   "outputs": [],
   "source": []
  },
  {
   "cell_type": "markdown",
   "id": "2eb80675",
   "metadata": {},
   "source": [
    "<div class=\"alert alert-block alert-info\">\n",
    "    \n",
    "Изменение размера выборки. Увеличение количества обьектов редкого класса (обьекты 1)"
   ]
  },
  {
   "cell_type": "code",
   "execution_count": 89,
   "id": "f53f22ed",
   "metadata": {},
   "outputs": [],
   "source": [
    "#функция увеличения обьектов положительного класса\n",
    "def upsample(features, target, repeat):\n",
    "\n",
    "    features_zeros = features[target == 0]\n",
    "    features_ones = features[target == 1]\n",
    "    target_zeros = target[target == 0]\n",
    "    target_ones = target[target == 1]\n",
    "    \n",
    "    features_upsampled = pd.concat([features_zeros] + [features_ones] * repeat)\n",
    "    target_upsampled = pd.concat([target_zeros] + [target_ones] * repeat)\n",
    "    \n",
    "    features_upsampled, target_upsampled = shuffle(features_upsampled, target_upsampled, random_state=12345)\n",
    "    \n",
    "    return features_upsampled, target_upsampled"
   ]
  },
  {
   "cell_type": "code",
   "execution_count": 90,
   "id": "deb6cf1f",
   "metadata": {},
   "outputs": [],
   "source": [
    "features_upsampled, target_upsampled = upsample(features_train, target_train, 4)"
   ]
  },
  {
   "cell_type": "code",
   "execution_count": 91,
   "id": "3189886b",
   "metadata": {},
   "outputs": [
    {
     "data": {
      "text/plain": [
       "(9669, 11)"
      ]
     },
     "execution_count": 91,
     "metadata": {},
     "output_type": "execute_result"
    }
   ],
   "source": [
    "features_upsampled.shape"
   ]
  },
  {
   "cell_type": "code",
   "execution_count": 92,
   "id": "114f847b",
   "metadata": {},
   "outputs": [
    {
     "data": {
      "text/html": [
       "<div>\n",
       "<style scoped>\n",
       "    .dataframe tbody tr th:only-of-type {\n",
       "        vertical-align: middle;\n",
       "    }\n",
       "\n",
       "    .dataframe tbody tr th {\n",
       "        vertical-align: top;\n",
       "    }\n",
       "\n",
       "    .dataframe thead th {\n",
       "        text-align: right;\n",
       "    }\n",
       "</style>\n",
       "<table border=\"1\" class=\"dataframe\">\n",
       "  <thead>\n",
       "    <tr style=\"text-align: right;\">\n",
       "      <th></th>\n",
       "      <th>CreditScore</th>\n",
       "      <th>Age</th>\n",
       "      <th>Tenure</th>\n",
       "      <th>Balance</th>\n",
       "      <th>NumOfProducts</th>\n",
       "      <th>HasCrCard</th>\n",
       "      <th>IsActiveMember</th>\n",
       "      <th>EstimatedSalary</th>\n",
       "      <th>Geography_Germany</th>\n",
       "      <th>Geography_Spain</th>\n",
       "      <th>Gender_Male</th>\n",
       "    </tr>\n",
       "  </thead>\n",
       "  <tbody>\n",
       "    <tr>\n",
       "      <th>1390</th>\n",
       "      <td>0.032206</td>\n",
       "      <td>-1.134945</td>\n",
       "      <td>1.435292</td>\n",
       "      <td>-1.220573</td>\n",
       "      <td>0.797767</td>\n",
       "      <td>1</td>\n",
       "      <td>0</td>\n",
       "      <td>-0.065738</td>\n",
       "      <td>0</td>\n",
       "      <td>0</td>\n",
       "      <td>0</td>\n",
       "    </tr>\n",
       "    <tr>\n",
       "      <th>7729</th>\n",
       "      <td>2.066384</td>\n",
       "      <td>-0.373843</td>\n",
       "      <td>-0.813711</td>\n",
       "      <td>0.836340</td>\n",
       "      <td>4.225338</td>\n",
       "      <td>1</td>\n",
       "      <td>0</td>\n",
       "      <td>-0.429792</td>\n",
       "      <td>0</td>\n",
       "      <td>0</td>\n",
       "      <td>0</td>\n",
       "    </tr>\n",
       "    <tr>\n",
       "      <th>5016</th>\n",
       "      <td>-1.537312</td>\n",
       "      <td>-0.944670</td>\n",
       "      <td>1.114006</td>\n",
       "      <td>-1.220573</td>\n",
       "      <td>0.797767</td>\n",
       "      <td>1</td>\n",
       "      <td>0</td>\n",
       "      <td>0.216377</td>\n",
       "      <td>0</td>\n",
       "      <td>0</td>\n",
       "      <td>0</td>\n",
       "    </tr>\n",
       "    <tr>\n",
       "      <th>9266</th>\n",
       "      <td>0.341979</td>\n",
       "      <td>-0.088430</td>\n",
       "      <td>0.150148</td>\n",
       "      <td>0.821428</td>\n",
       "      <td>-0.916018</td>\n",
       "      <td>1</td>\n",
       "      <td>0</td>\n",
       "      <td>0.410683</td>\n",
       "      <td>0</td>\n",
       "      <td>0</td>\n",
       "      <td>0</td>\n",
       "    </tr>\n",
       "    <tr>\n",
       "      <th>9947</th>\n",
       "      <td>-0.360173</td>\n",
       "      <td>-0.468981</td>\n",
       "      <td>-1.134997</td>\n",
       "      <td>0.115566</td>\n",
       "      <td>0.797767</td>\n",
       "      <td>1</td>\n",
       "      <td>1</td>\n",
       "      <td>-0.470705</td>\n",
       "      <td>0</td>\n",
       "      <td>0</td>\n",
       "      <td>1</td>\n",
       "    </tr>\n",
       "  </tbody>\n",
       "</table>\n",
       "</div>"
      ],
      "text/plain": [
       "      CreditScore       Age    Tenure   Balance  NumOfProducts  HasCrCard  \\\n",
       "1390     0.032206 -1.134945  1.435292 -1.220573       0.797767          1   \n",
       "7729     2.066384 -0.373843 -0.813711  0.836340       4.225338          1   \n",
       "5016    -1.537312 -0.944670  1.114006 -1.220573       0.797767          1   \n",
       "9266     0.341979 -0.088430  0.150148  0.821428      -0.916018          1   \n",
       "9947    -0.360173 -0.468981 -1.134997  0.115566       0.797767          1   \n",
       "\n",
       "      IsActiveMember  EstimatedSalary  Geography_Germany  Geography_Spain  \\\n",
       "1390               0        -0.065738                  0                0   \n",
       "7729               0        -0.429792                  0                0   \n",
       "5016               0         0.216377                  0                0   \n",
       "9266               0         0.410683                  0                0   \n",
       "9947               1        -0.470705                  0                0   \n",
       "\n",
       "      Gender_Male  \n",
       "1390            0  \n",
       "7729            0  \n",
       "5016            0  \n",
       "9266            0  \n",
       "9947            1  "
      ]
     },
     "execution_count": 92,
     "metadata": {},
     "output_type": "execute_result"
    }
   ],
   "source": [
    "features_upsampled.sample(5)"
   ]
  },
  {
   "cell_type": "code",
   "execution_count": 93,
   "id": "fbb429cb",
   "metadata": {},
   "outputs": [
    {
     "data": {
      "text/plain": [
       "(9669,)"
      ]
     },
     "execution_count": 93,
     "metadata": {},
     "output_type": "execute_result"
    }
   ],
   "source": [
    "target_upsampled.shape"
   ]
  },
  {
   "cell_type": "code",
   "execution_count": null,
   "id": "a237e457",
   "metadata": {},
   "outputs": [],
   "source": []
  },
  {
   "cell_type": "code",
   "execution_count": 94,
   "id": "b205322b",
   "metadata": {},
   "outputs": [
    {
     "data": {
      "text/plain": [
       "array([0, 1])"
      ]
     },
     "execution_count": 94,
     "metadata": {},
     "output_type": "execute_result"
    }
   ],
   "source": [
    "target_upsampled.unique()"
   ]
  },
  {
   "cell_type": "code",
   "execution_count": 95,
   "id": "7e915666",
   "metadata": {
    "scrolled": true
   },
   "outputs": [
    {
     "data": {
      "text/plain": [
       "0.5059468404178302"
      ]
     },
     "execution_count": 95,
     "metadata": {},
     "output_type": "execute_result"
    }
   ],
   "source": [
    "#проверка балланса классов\n",
    "target_upsampled.mean()"
   ]
  },
  {
   "cell_type": "markdown",
   "id": "8ffa4b28",
   "metadata": {},
   "source": [
    "Балланс классов примерно одинаков."
   ]
  },
  {
   "cell_type": "markdown",
   "id": "b56cee02",
   "metadata": {},
   "source": [
    "###### модель Решающее дерево"
   ]
  },
  {
   "cell_type": "code",
   "execution_count": 96,
   "id": "898a08fd",
   "metadata": {},
   "outputs": [
    {
     "name": "stdout",
     "output_type": "stream",
     "text": [
      "-----THE BEST OF TREE-----\n",
      "f1= 0.593342981186686\n",
      "max_depth = 8\n",
      "min_samples_split = 2\n",
      "min_samples_leaf = 6\n"
     ]
    }
   ],
   "source": [
    "#поиск лучшей модели Решающего дерева\n",
    "best_res_tree = 0\n",
    "\n",
    "for j in range(1,13,1): #max_depth\n",
    "    for i in range(2,10,1): #min_samples_split\n",
    "        for k in range(2,10,1): #min_samples_leaf\n",
    "        \n",
    "            model = DecisionTreeClassifier(max_depth=j, random_state=12345, min_samples_split=i, min_samples_leaf=k)\n",
    "            model.fit(features_train, target_train)\n",
    "            predictions = model.predict(features_valid)\n",
    "            f1 = f1_score(target_valid, predictions)\n",
    "            \n",
    "            if f1 > best_res_tree:\n",
    "                best_res_tree = f1\n",
    "                max_depth = j\n",
    "                min_samples_split = i\n",
    "                min_samples_leaf = k\n",
    "            \n",
    "   \n",
    "print('-----THE BEST OF TREE-----')\n",
    "print('f1=', best_res_tree)\n",
    "print('max_depth =', max_depth)\n",
    "print('min_samples_split =', min_samples_split)\n",
    "print('min_samples_leaf =', min_samples_leaf)"
   ]
  },
  {
   "cell_type": "code",
   "execution_count": 97,
   "id": "2d6e1b88",
   "metadata": {},
   "outputs": [],
   "source": [
    "model = DecisionTreeClassifier(max_depth=8, random_state=12345, min_samples_split=2, min_samples_leaf=6)\n",
    "model.fit(features_upsampled, target_upsampled)\n",
    "predictions = model.predict(features_valid)\n"
   ]
  },
  {
   "cell_type": "code",
   "execution_count": 98,
   "id": "82d1b6af",
   "metadata": {},
   "outputs": [
    {
     "data": {
      "text/plain": [
       "0.5452847805788982"
      ]
     },
     "execution_count": 98,
     "metadata": {},
     "output_type": "execute_result"
    }
   ],
   "source": [
    "f1_score(target_valid, predictions)"
   ]
  },
  {
   "cell_type": "code",
   "execution_count": 99,
   "id": "c45cd5ad",
   "metadata": {},
   "outputs": [
    {
     "data": {
      "text/plain": [
       "0.7419615300971233"
      ]
     },
     "execution_count": 99,
     "metadata": {},
     "output_type": "execute_result"
    }
   ],
   "source": [
    "roc_auc_score(target_valid, predictions)"
   ]
  },
  {
   "cell_type": "code",
   "execution_count": 100,
   "id": "ab225b17",
   "metadata": {},
   "outputs": [
    {
     "data": {
      "text/plain": [
       "0.5510204081632653"
      ]
     },
     "execution_count": 100,
     "metadata": {},
     "output_type": "execute_result"
    }
   ],
   "source": [
    "predictions = model.predict(features_test)\n",
    "f1_score(target_test, predictions)"
   ]
  },
  {
   "cell_type": "code",
   "execution_count": 101,
   "id": "150bbb0f",
   "metadata": {},
   "outputs": [
    {
     "data": {
      "text/plain": [
       "0.7474762898491712"
      ]
     },
     "execution_count": 101,
     "metadata": {},
     "output_type": "execute_result"
    }
   ],
   "source": [
    "roc_auc_score(target_test, predictions)"
   ]
  },
  {
   "cell_type": "markdown",
   "id": "776148b2",
   "metadata": {},
   "source": [
    "###### Проверка работы модели Случайный Лес"
   ]
  },
  {
   "cell_type": "code",
   "execution_count": 102,
   "id": "9c25d8f0",
   "metadata": {
    "scrolled": true
   },
   "outputs": [
    {
     "name": "stdout",
     "output_type": "stream",
     "text": [
      "-----THE BEST-----\n",
      "f1= 0.6354378818737271\n",
      "n_est = 60\n",
      "max_depth = 8\n"
     ]
    }
   ],
   "source": [
    "best_res = 0\n",
    "n_est = 0\n",
    "max_depth = 0\n",
    "for i in range(20,120,20):\n",
    "    #print('----------n_est=', i, '-------------')\n",
    "    for j in range(2,13,1):\n",
    "        model = RandomForestClassifier(n_estimators=i, \n",
    "                               max_depth=j, \n",
    "                               random_state=12345, \n",
    "                               min_samples_split=2, \n",
    "                               min_samples_leaf=2\n",
    "                                  )\n",
    "        model.fit(features_upsampled, target_upsampled)\n",
    "        predictions = model.predict(features_valid)\n",
    "        f1 = f1_score(target_valid, predictions)\n",
    "        if f1 > best_res:\n",
    "            best_res = f1\n",
    "            n_est = i\n",
    "            max_depth = j\n",
    "        #print(j, round(f1, 3))\n",
    "   \n",
    "\n",
    "print('-----THE BEST-----')\n",
    "print('f1=', best_res)\n",
    "print('n_est =', n_est)\n",
    "print('max_depth =', max_depth)"
   ]
  },
  {
   "cell_type": "code",
   "execution_count": 103,
   "id": "4789d8bb",
   "metadata": {
    "scrolled": true
   },
   "outputs": [
    {
     "data": {
      "text/html": [
       "<style>#sk-container-id-3 {color: black;background-color: white;}#sk-container-id-3 pre{padding: 0;}#sk-container-id-3 div.sk-toggleable {background-color: white;}#sk-container-id-3 label.sk-toggleable__label {cursor: pointer;display: block;width: 100%;margin-bottom: 0;padding: 0.3em;box-sizing: border-box;text-align: center;}#sk-container-id-3 label.sk-toggleable__label-arrow:before {content: \"▸\";float: left;margin-right: 0.25em;color: #696969;}#sk-container-id-3 label.sk-toggleable__label-arrow:hover:before {color: black;}#sk-container-id-3 div.sk-estimator:hover label.sk-toggleable__label-arrow:before {color: black;}#sk-container-id-3 div.sk-toggleable__content {max-height: 0;max-width: 0;overflow: hidden;text-align: left;background-color: #f0f8ff;}#sk-container-id-3 div.sk-toggleable__content pre {margin: 0.2em;color: black;border-radius: 0.25em;background-color: #f0f8ff;}#sk-container-id-3 input.sk-toggleable__control:checked~div.sk-toggleable__content {max-height: 200px;max-width: 100%;overflow: auto;}#sk-container-id-3 input.sk-toggleable__control:checked~label.sk-toggleable__label-arrow:before {content: \"▾\";}#sk-container-id-3 div.sk-estimator input.sk-toggleable__control:checked~label.sk-toggleable__label {background-color: #d4ebff;}#sk-container-id-3 div.sk-label input.sk-toggleable__control:checked~label.sk-toggleable__label {background-color: #d4ebff;}#sk-container-id-3 input.sk-hidden--visually {border: 0;clip: rect(1px 1px 1px 1px);clip: rect(1px, 1px, 1px, 1px);height: 1px;margin: -1px;overflow: hidden;padding: 0;position: absolute;width: 1px;}#sk-container-id-3 div.sk-estimator {font-family: monospace;background-color: #f0f8ff;border: 1px dotted black;border-radius: 0.25em;box-sizing: border-box;margin-bottom: 0.5em;}#sk-container-id-3 div.sk-estimator:hover {background-color: #d4ebff;}#sk-container-id-3 div.sk-parallel-item::after {content: \"\";width: 100%;border-bottom: 1px solid gray;flex-grow: 1;}#sk-container-id-3 div.sk-label:hover label.sk-toggleable__label {background-color: #d4ebff;}#sk-container-id-3 div.sk-serial::before {content: \"\";position: absolute;border-left: 1px solid gray;box-sizing: border-box;top: 0;bottom: 0;left: 50%;z-index: 0;}#sk-container-id-3 div.sk-serial {display: flex;flex-direction: column;align-items: center;background-color: white;padding-right: 0.2em;padding-left: 0.2em;position: relative;}#sk-container-id-3 div.sk-item {position: relative;z-index: 1;}#sk-container-id-3 div.sk-parallel {display: flex;align-items: stretch;justify-content: center;background-color: white;position: relative;}#sk-container-id-3 div.sk-item::before, #sk-container-id-3 div.sk-parallel-item::before {content: \"\";position: absolute;border-left: 1px solid gray;box-sizing: border-box;top: 0;bottom: 0;left: 50%;z-index: -1;}#sk-container-id-3 div.sk-parallel-item {display: flex;flex-direction: column;z-index: 1;position: relative;background-color: white;}#sk-container-id-3 div.sk-parallel-item:first-child::after {align-self: flex-end;width: 50%;}#sk-container-id-3 div.sk-parallel-item:last-child::after {align-self: flex-start;width: 50%;}#sk-container-id-3 div.sk-parallel-item:only-child::after {width: 0;}#sk-container-id-3 div.sk-dashed-wrapped {border: 1px dashed gray;margin: 0 0.4em 0.5em 0.4em;box-sizing: border-box;padding-bottom: 0.4em;background-color: white;}#sk-container-id-3 div.sk-label label {font-family: monospace;font-weight: bold;display: inline-block;line-height: 1.2em;}#sk-container-id-3 div.sk-label-container {text-align: center;}#sk-container-id-3 div.sk-container {/* jupyter's `normalize.less` sets `[hidden] { display: none; }` but bootstrap.min.css set `[hidden] { display: none !important; }` so we also need the `!important` here to be able to override the default hidden behavior on the sphinx rendered scikit-learn.org. See: https://github.com/scikit-learn/scikit-learn/issues/21755 */display: inline-block !important;position: relative;}#sk-container-id-3 div.sk-text-repr-fallback {display: none;}</style><div id=\"sk-container-id-3\" class=\"sk-top-container\"><div class=\"sk-text-repr-fallback\"><pre>RandomForestClassifier(max_depth=8, min_samples_leaf=2, n_estimators=60,\n",
       "                       random_state=12345)</pre><b>In a Jupyter environment, please rerun this cell to show the HTML representation or trust the notebook. <br />On GitHub, the HTML representation is unable to render, please try loading this page with nbviewer.org.</b></div><div class=\"sk-container\" hidden><div class=\"sk-item\"><div class=\"sk-estimator sk-toggleable\"><input class=\"sk-toggleable__control sk-hidden--visually\" id=\"sk-estimator-id-3\" type=\"checkbox\" checked><label for=\"sk-estimator-id-3\" class=\"sk-toggleable__label sk-toggleable__label-arrow\">RandomForestClassifier</label><div class=\"sk-toggleable__content\"><pre>RandomForestClassifier(max_depth=8, min_samples_leaf=2, n_estimators=60,\n",
       "                       random_state=12345)</pre></div></div></div></div></div>"
      ],
      "text/plain": [
       "RandomForestClassifier(max_depth=8, min_samples_leaf=2, n_estimators=60,\n",
       "                       random_state=12345)"
      ]
     },
     "execution_count": 103,
     "metadata": {},
     "output_type": "execute_result"
    }
   ],
   "source": [
    "# лучшая модель\n",
    "model = RandomForestClassifier(n_estimators=60, \n",
    "                               max_depth=8, \n",
    "                               random_state=12345, \n",
    "                               min_samples_split=2, \n",
    "                               min_samples_leaf=2\n",
    "                                  )\n",
    "model.fit(features_upsampled, target_upsampled)"
   ]
  },
  {
   "cell_type": "code",
   "execution_count": 104,
   "id": "026ecd34",
   "metadata": {},
   "outputs": [
    {
     "data": {
      "text/plain": [
       "0.6354378818737271"
      ]
     },
     "execution_count": 104,
     "metadata": {},
     "output_type": "execute_result"
    }
   ],
   "source": [
    "#f1 на валидационной выборке\n",
    "predictions = model.predict(features_valid)\n",
    "f1_score(target_valid, predictions)"
   ]
  },
  {
   "cell_type": "code",
   "execution_count": 105,
   "id": "96d5cb63",
   "metadata": {},
   "outputs": [
    {
     "data": {
      "text/plain": [
       "0.800743732947123"
      ]
     },
     "execution_count": 105,
     "metadata": {},
     "output_type": "execute_result"
    }
   ],
   "source": [
    "roc_auc_score(target_valid, predictions)"
   ]
  },
  {
   "cell_type": "code",
   "execution_count": 106,
   "id": "ea63d682",
   "metadata": {},
   "outputs": [
    {
     "data": {
      "text/plain": [
       "0.6196319018404909"
      ]
     },
     "execution_count": 106,
     "metadata": {},
     "output_type": "execute_result"
    }
   ],
   "source": [
    "#f1 на тестовой выборке\n",
    "predictions = model.predict(features_test)\n",
    "f1_score(target_test, predictions)"
   ]
  },
  {
   "cell_type": "code",
   "execution_count": 107,
   "id": "239143ec",
   "metadata": {},
   "outputs": [
    {
     "data": {
      "text/plain": [
       "0.7881178559144661"
      ]
     },
     "execution_count": 107,
     "metadata": {},
     "output_type": "execute_result"
    }
   ],
   "source": [
    "roc_auc_score(target_test, predictions)"
   ]
  },
  {
   "cell_type": "markdown",
   "id": "504fb850",
   "metadata": {},
   "source": [
    "###### Модель Логистическая регрессия"
   ]
  },
  {
   "cell_type": "code",
   "execution_count": 108,
   "id": "e7fa5498",
   "metadata": {},
   "outputs": [
    {
     "data": {
      "text/plain": [
       "0.5067114093959731"
      ]
     },
     "execution_count": 108,
     "metadata": {},
     "output_type": "execute_result"
    }
   ],
   "source": [
    "model = LogisticRegression(random_state=12345, solver='lbfgs', max_iter=200)\n",
    "model.fit(features_upsampled, target_upsampled)\n",
    "predictions = model.predict(features_valid)\n",
    "f1_score(target_valid, predictions)"
   ]
  },
  {
   "cell_type": "code",
   "execution_count": 109,
   "id": "17dd23b0",
   "metadata": {},
   "outputs": [
    {
     "data": {
      "text/plain": [
       "0.7194066177117024"
      ]
     },
     "execution_count": 109,
     "metadata": {},
     "output_type": "execute_result"
    }
   ],
   "source": [
    "roc_auc_score(target_valid, predictions)"
   ]
  },
  {
   "cell_type": "code",
   "execution_count": 110,
   "id": "6b925740",
   "metadata": {},
   "outputs": [
    {
     "data": {
      "text/plain": [
       "0.5068493150684932"
      ]
     },
     "execution_count": 110,
     "metadata": {},
     "output_type": "execute_result"
    }
   ],
   "source": [
    "predictions = model.predict(features_test)\n",
    "f1_score(target_test, predictions)"
   ]
  },
  {
   "cell_type": "code",
   "execution_count": 111,
   "id": "d2717544",
   "metadata": {},
   "outputs": [
    {
     "data": {
      "text/plain": [
       "0.7176853278548194"
      ]
     },
     "execution_count": 111,
     "metadata": {},
     "output_type": "execute_result"
    }
   ],
   "source": [
    "roc_auc_score(target_test, predictions)"
   ]
  },
  {
   "cell_type": "code",
   "execution_count": null,
   "id": "a5690934",
   "metadata": {},
   "outputs": [],
   "source": []
  },
  {
   "cell_type": "markdown",
   "id": "e3868079",
   "metadata": {},
   "source": [
    "###### Модель `Support Vector Machines`"
   ]
  },
  {
   "cell_type": "code",
   "execution_count": 169,
   "id": "e40efec4",
   "metadata": {},
   "outputs": [],
   "source": [
    "clf = svm.SVC()"
   ]
  },
  {
   "cell_type": "code",
   "execution_count": 170,
   "id": "a390167d",
   "metadata": {},
   "outputs": [
    {
     "data": {
      "text/html": [
       "<style>#sk-container-id-7 {color: black;background-color: white;}#sk-container-id-7 pre{padding: 0;}#sk-container-id-7 div.sk-toggleable {background-color: white;}#sk-container-id-7 label.sk-toggleable__label {cursor: pointer;display: block;width: 100%;margin-bottom: 0;padding: 0.3em;box-sizing: border-box;text-align: center;}#sk-container-id-7 label.sk-toggleable__label-arrow:before {content: \"▸\";float: left;margin-right: 0.25em;color: #696969;}#sk-container-id-7 label.sk-toggleable__label-arrow:hover:before {color: black;}#sk-container-id-7 div.sk-estimator:hover label.sk-toggleable__label-arrow:before {color: black;}#sk-container-id-7 div.sk-toggleable__content {max-height: 0;max-width: 0;overflow: hidden;text-align: left;background-color: #f0f8ff;}#sk-container-id-7 div.sk-toggleable__content pre {margin: 0.2em;color: black;border-radius: 0.25em;background-color: #f0f8ff;}#sk-container-id-7 input.sk-toggleable__control:checked~div.sk-toggleable__content {max-height: 200px;max-width: 100%;overflow: auto;}#sk-container-id-7 input.sk-toggleable__control:checked~label.sk-toggleable__label-arrow:before {content: \"▾\";}#sk-container-id-7 div.sk-estimator input.sk-toggleable__control:checked~label.sk-toggleable__label {background-color: #d4ebff;}#sk-container-id-7 div.sk-label input.sk-toggleable__control:checked~label.sk-toggleable__label {background-color: #d4ebff;}#sk-container-id-7 input.sk-hidden--visually {border: 0;clip: rect(1px 1px 1px 1px);clip: rect(1px, 1px, 1px, 1px);height: 1px;margin: -1px;overflow: hidden;padding: 0;position: absolute;width: 1px;}#sk-container-id-7 div.sk-estimator {font-family: monospace;background-color: #f0f8ff;border: 1px dotted black;border-radius: 0.25em;box-sizing: border-box;margin-bottom: 0.5em;}#sk-container-id-7 div.sk-estimator:hover {background-color: #d4ebff;}#sk-container-id-7 div.sk-parallel-item::after {content: \"\";width: 100%;border-bottom: 1px solid gray;flex-grow: 1;}#sk-container-id-7 div.sk-label:hover label.sk-toggleable__label {background-color: #d4ebff;}#sk-container-id-7 div.sk-serial::before {content: \"\";position: absolute;border-left: 1px solid gray;box-sizing: border-box;top: 0;bottom: 0;left: 50%;z-index: 0;}#sk-container-id-7 div.sk-serial {display: flex;flex-direction: column;align-items: center;background-color: white;padding-right: 0.2em;padding-left: 0.2em;position: relative;}#sk-container-id-7 div.sk-item {position: relative;z-index: 1;}#sk-container-id-7 div.sk-parallel {display: flex;align-items: stretch;justify-content: center;background-color: white;position: relative;}#sk-container-id-7 div.sk-item::before, #sk-container-id-7 div.sk-parallel-item::before {content: \"\";position: absolute;border-left: 1px solid gray;box-sizing: border-box;top: 0;bottom: 0;left: 50%;z-index: -1;}#sk-container-id-7 div.sk-parallel-item {display: flex;flex-direction: column;z-index: 1;position: relative;background-color: white;}#sk-container-id-7 div.sk-parallel-item:first-child::after {align-self: flex-end;width: 50%;}#sk-container-id-7 div.sk-parallel-item:last-child::after {align-self: flex-start;width: 50%;}#sk-container-id-7 div.sk-parallel-item:only-child::after {width: 0;}#sk-container-id-7 div.sk-dashed-wrapped {border: 1px dashed gray;margin: 0 0.4em 0.5em 0.4em;box-sizing: border-box;padding-bottom: 0.4em;background-color: white;}#sk-container-id-7 div.sk-label label {font-family: monospace;font-weight: bold;display: inline-block;line-height: 1.2em;}#sk-container-id-7 div.sk-label-container {text-align: center;}#sk-container-id-7 div.sk-container {/* jupyter's `normalize.less` sets `[hidden] { display: none; }` but bootstrap.min.css set `[hidden] { display: none !important; }` so we also need the `!important` here to be able to override the default hidden behavior on the sphinx rendered scikit-learn.org. See: https://github.com/scikit-learn/scikit-learn/issues/21755 */display: inline-block !important;position: relative;}#sk-container-id-7 div.sk-text-repr-fallback {display: none;}</style><div id=\"sk-container-id-7\" class=\"sk-top-container\"><div class=\"sk-text-repr-fallback\"><pre>SVC()</pre><b>In a Jupyter environment, please rerun this cell to show the HTML representation or trust the notebook. <br />On GitHub, the HTML representation is unable to render, please try loading this page with nbviewer.org.</b></div><div class=\"sk-container\" hidden><div class=\"sk-item\"><div class=\"sk-estimator sk-toggleable\"><input class=\"sk-toggleable__control sk-hidden--visually\" id=\"sk-estimator-id-7\" type=\"checkbox\" checked><label for=\"sk-estimator-id-7\" class=\"sk-toggleable__label sk-toggleable__label-arrow\">SVC</label><div class=\"sk-toggleable__content\"><pre>SVC()</pre></div></div></div></div></div>"
      ],
      "text/plain": [
       "SVC()"
      ]
     },
     "execution_count": 170,
     "metadata": {},
     "output_type": "execute_result"
    }
   ],
   "source": [
    "clf.fit(features_upsampled, target_upsampled)"
   ]
  },
  {
   "cell_type": "code",
   "execution_count": 171,
   "id": "ea6daca9",
   "metadata": {},
   "outputs": [
    {
     "data": {
      "text/plain": [
       "0.8726467331118494"
      ]
     },
     "execution_count": 171,
     "metadata": {},
     "output_type": "execute_result"
    }
   ],
   "source": [
    "predictions = model.predict(features_valid)\n",
    "f1_score(target_valid, predictions)"
   ]
  },
  {
   "cell_type": "code",
   "execution_count": 172,
   "id": "e21ec815",
   "metadata": {},
   "outputs": [
    {
     "data": {
      "text/plain": [
       "0.9520144181161131"
      ]
     },
     "execution_count": 172,
     "metadata": {},
     "output_type": "execute_result"
    }
   ],
   "source": [
    "roc_auc_score(target_valid, predictions)"
   ]
  },
  {
   "cell_type": "code",
   "execution_count": null,
   "id": "61c2c815",
   "metadata": {},
   "outputs": [],
   "source": []
  },
  {
   "cell_type": "code",
   "execution_count": null,
   "id": "368f79db",
   "metadata": {},
   "outputs": [],
   "source": []
  },
  {
   "cell_type": "markdown",
   "id": "0146b6f6",
   "metadata": {},
   "source": [
    "## Выводы\n",
    "\n",
    "Увеличение количества редких обьектов привело к улучшению работы моделей.\n",
    "\n",
    "\n",
    "Таблица с результатами разных моделей\n",
    "\n",
    "Имя_модели|f1_валид|f1_тест |roc_auc_валид|roc_auc_тест|\n",
    "----------|--------|--------|-------------|------------|\n",
    "Решающее дерево|0.545|0.551|0.742|0.747|\n",
    "Случайный лес|0.635|0.620|0.800|0.788|\n",
    "Логист.регрессия|0.507|0.507|0.719|0.718|\n",
    "\n",
    "Наилучшими результатами обладает Случайный лес f1 = 0.635"
   ]
  },
  {
   "cell_type": "code",
   "execution_count": null,
   "id": "f93cb854",
   "metadata": {},
   "outputs": [],
   "source": []
  },
  {
   "cell_type": "markdown",
   "id": "c9779ab5",
   "metadata": {},
   "source": [
    "<div class=\"alert alert-block alert-info\">\n",
    "    \n",
    "Уменьшение количества обьектов"
   ]
  },
  {
   "cell_type": "markdown",
   "id": "49787c31",
   "metadata": {},
   "source": [
    "Функция для уменьшение количества обьектов"
   ]
  },
  {
   "cell_type": "code",
   "execution_count": 112,
   "id": "36bba3aa",
   "metadata": {},
   "outputs": [],
   "source": [
    "def downsample(features, target, fraction):\n",
    "    features_zeros = features[target == 0]\n",
    "    features_ones = features[target == 1]\n",
    "    target_zeros = target[target == 0]\n",
    "    target_ones = target[target == 1]\n",
    "\n",
    "    features_downsampled = pd.concat(\n",
    "        [features_zeros.sample(frac=fraction, random_state=12345)] + [features_ones])\n",
    "    \n",
    "    target_downsampled = pd.concat(\n",
    "        [target_zeros.sample(frac=fraction, random_state=12345)] + [target_ones])\n",
    "    \n",
    "    features_downsampled, target_downsampled = shuffle(features_downsampled, target_downsampled, random_state=12345)\n",
    "    \n",
    "    \n",
    "    return features_downsampled, target_downsampled"
   ]
  },
  {
   "cell_type": "code",
   "execution_count": 113,
   "id": "e4fc8b86",
   "metadata": {},
   "outputs": [],
   "source": [
    "#уменьшение обьектов частого класса в 4 раза\n",
    "features_downsampled, target_downsampled = downsample(features_train, target_train, 0.25)"
   ]
  },
  {
   "cell_type": "code",
   "execution_count": 114,
   "id": "4ccda7fd",
   "metadata": {},
   "outputs": [
    {
     "data": {
      "text/plain": [
       "(2417, 11)"
      ]
     },
     "execution_count": 114,
     "metadata": {},
     "output_type": "execute_result"
    }
   ],
   "source": [
    "features_downsampled.shape"
   ]
  },
  {
   "cell_type": "code",
   "execution_count": 115,
   "id": "08038114",
   "metadata": {},
   "outputs": [
    {
     "data": {
      "text/html": [
       "<div>\n",
       "<style scoped>\n",
       "    .dataframe tbody tr th:only-of-type {\n",
       "        vertical-align: middle;\n",
       "    }\n",
       "\n",
       "    .dataframe tbody tr th {\n",
       "        vertical-align: top;\n",
       "    }\n",
       "\n",
       "    .dataframe thead th {\n",
       "        text-align: right;\n",
       "    }\n",
       "</style>\n",
       "<table border=\"1\" class=\"dataframe\">\n",
       "  <thead>\n",
       "    <tr style=\"text-align: right;\">\n",
       "      <th></th>\n",
       "      <th>CreditScore</th>\n",
       "      <th>Age</th>\n",
       "      <th>Tenure</th>\n",
       "      <th>Balance</th>\n",
       "      <th>NumOfProducts</th>\n",
       "      <th>HasCrCard</th>\n",
       "      <th>IsActiveMember</th>\n",
       "      <th>EstimatedSalary</th>\n",
       "      <th>Geography_Germany</th>\n",
       "      <th>Geography_Spain</th>\n",
       "      <th>Gender_Male</th>\n",
       "    </tr>\n",
       "  </thead>\n",
       "  <tbody>\n",
       "    <tr>\n",
       "      <th>9055</th>\n",
       "      <td>-0.205287</td>\n",
       "      <td>1.528910</td>\n",
       "      <td>-0.813711</td>\n",
       "      <td>-1.220573</td>\n",
       "      <td>-0.916018</td>\n",
       "      <td>1</td>\n",
       "      <td>1</td>\n",
       "      <td>0.104083</td>\n",
       "      <td>0</td>\n",
       "      <td>0</td>\n",
       "      <td>1</td>\n",
       "    </tr>\n",
       "    <tr>\n",
       "      <th>1972</th>\n",
       "      <td>0.858268</td>\n",
       "      <td>-0.849532</td>\n",
       "      <td>-1.456283</td>\n",
       "      <td>0.112624</td>\n",
       "      <td>-0.916018</td>\n",
       "      <td>0</td>\n",
       "      <td>0</td>\n",
       "      <td>-0.737535</td>\n",
       "      <td>0</td>\n",
       "      <td>1</td>\n",
       "      <td>0</td>\n",
       "    </tr>\n",
       "    <tr>\n",
       "      <th>5115</th>\n",
       "      <td>-1.206887</td>\n",
       "      <td>0.958084</td>\n",
       "      <td>-1.134997</td>\n",
       "      <td>0.416122</td>\n",
       "      <td>2.511553</td>\n",
       "      <td>1</td>\n",
       "      <td>0</td>\n",
       "      <td>-0.535263</td>\n",
       "      <td>1</td>\n",
       "      <td>0</td>\n",
       "      <td>0</td>\n",
       "    </tr>\n",
       "    <tr>\n",
       "      <th>7657</th>\n",
       "      <td>-0.793856</td>\n",
       "      <td>0.101845</td>\n",
       "      <td>0.792720</td>\n",
       "      <td>1.143659</td>\n",
       "      <td>-0.916018</td>\n",
       "      <td>1</td>\n",
       "      <td>1</td>\n",
       "      <td>0.177977</td>\n",
       "      <td>0</td>\n",
       "      <td>0</td>\n",
       "      <td>1</td>\n",
       "    </tr>\n",
       "    <tr>\n",
       "      <th>514</th>\n",
       "      <td>-0.463431</td>\n",
       "      <td>1.148359</td>\n",
       "      <td>-0.492424</td>\n",
       "      <td>0.958593</td>\n",
       "      <td>-0.916018</td>\n",
       "      <td>1</td>\n",
       "      <td>1</td>\n",
       "      <td>-0.575209</td>\n",
       "      <td>0</td>\n",
       "      <td>0</td>\n",
       "      <td>0</td>\n",
       "    </tr>\n",
       "  </tbody>\n",
       "</table>\n",
       "</div>"
      ],
      "text/plain": [
       "      CreditScore       Age    Tenure   Balance  NumOfProducts  HasCrCard  \\\n",
       "9055    -0.205287  1.528910 -0.813711 -1.220573      -0.916018          1   \n",
       "1972     0.858268 -0.849532 -1.456283  0.112624      -0.916018          0   \n",
       "5115    -1.206887  0.958084 -1.134997  0.416122       2.511553          1   \n",
       "7657    -0.793856  0.101845  0.792720  1.143659      -0.916018          1   \n",
       "514     -0.463431  1.148359 -0.492424  0.958593      -0.916018          1   \n",
       "\n",
       "      IsActiveMember  EstimatedSalary  Geography_Germany  Geography_Spain  \\\n",
       "9055               1         0.104083                  0                0   \n",
       "1972               0        -0.737535                  0                1   \n",
       "5115               0        -0.535263                  1                0   \n",
       "7657               1         0.177977                  0                0   \n",
       "514                1        -0.575209                  0                0   \n",
       "\n",
       "      Gender_Male  \n",
       "9055            1  \n",
       "1972            0  \n",
       "5115            0  \n",
       "7657            1  \n",
       "514             0  "
      ]
     },
     "execution_count": 115,
     "metadata": {},
     "output_type": "execute_result"
    }
   ],
   "source": [
    "features_downsampled.sample(5)"
   ]
  },
  {
   "cell_type": "code",
   "execution_count": 116,
   "id": "266c40e4",
   "metadata": {},
   "outputs": [
    {
     "data": {
      "text/plain": [
       "(2417,)"
      ]
     },
     "execution_count": 116,
     "metadata": {},
     "output_type": "execute_result"
    }
   ],
   "source": [
    "target_downsampled.shape"
   ]
  },
  {
   "cell_type": "code",
   "execution_count": 117,
   "id": "246d2c25",
   "metadata": {},
   "outputs": [
    {
     "data": {
      "text/plain": [
       "0.5059991725279271"
      ]
     },
     "execution_count": 117,
     "metadata": {},
     "output_type": "execute_result"
    }
   ],
   "source": [
    "#проверка балланса классов\n",
    "target_downsampled.mean()"
   ]
  },
  {
   "cell_type": "markdown",
   "id": "0b1ed4d9",
   "metadata": {},
   "source": [
    "###### модель Решающее дерево"
   ]
  },
  {
   "cell_type": "code",
   "execution_count": 118,
   "id": "44694bd7",
   "metadata": {},
   "outputs": [
    {
     "name": "stdout",
     "output_type": "stream",
     "text": [
      "-----THE BEST OF TREE-----\n",
      "f1= 0.593342981186686\n",
      "max_depth = 8\n",
      "min_samples_split = 2\n",
      "min_samples_leaf = 6\n"
     ]
    }
   ],
   "source": [
    "#поиск лучшей модели Решающего дерева\n",
    "best_res_tree = 0\n",
    "\n",
    "for j in range(1,13,1): #max_depth\n",
    "    for i in range(2,10,1): #min_samples_split\n",
    "        for k in range(2,10,1): #min_samples_leaf\n",
    "        \n",
    "            model = DecisionTreeClassifier(max_depth=j, random_state=12345, min_samples_split=i, min_samples_leaf=k)\n",
    "            model.fit(features_train, target_train)\n",
    "            predictions = model.predict(features_valid)\n",
    "            f1 = f1_score(target_valid, predictions)\n",
    "            \n",
    "            if f1 > best_res_tree:\n",
    "                best_res_tree = f1\n",
    "                max_depth = j\n",
    "                min_samples_split = i\n",
    "                min_samples_leaf = k\n",
    "            \n",
    "   \n",
    "print('-----THE BEST OF TREE-----')\n",
    "print('f1=', best_res_tree)\n",
    "print('max_depth =', max_depth)\n",
    "print('min_samples_split =', min_samples_split)\n",
    "print('min_samples_leaf =', min_samples_leaf)"
   ]
  },
  {
   "cell_type": "code",
   "execution_count": 119,
   "id": "231e1707",
   "metadata": {},
   "outputs": [
    {
     "data": {
      "text/html": [
       "<style>#sk-container-id-4 {color: black;background-color: white;}#sk-container-id-4 pre{padding: 0;}#sk-container-id-4 div.sk-toggleable {background-color: white;}#sk-container-id-4 label.sk-toggleable__label {cursor: pointer;display: block;width: 100%;margin-bottom: 0;padding: 0.3em;box-sizing: border-box;text-align: center;}#sk-container-id-4 label.sk-toggleable__label-arrow:before {content: \"▸\";float: left;margin-right: 0.25em;color: #696969;}#sk-container-id-4 label.sk-toggleable__label-arrow:hover:before {color: black;}#sk-container-id-4 div.sk-estimator:hover label.sk-toggleable__label-arrow:before {color: black;}#sk-container-id-4 div.sk-toggleable__content {max-height: 0;max-width: 0;overflow: hidden;text-align: left;background-color: #f0f8ff;}#sk-container-id-4 div.sk-toggleable__content pre {margin: 0.2em;color: black;border-radius: 0.25em;background-color: #f0f8ff;}#sk-container-id-4 input.sk-toggleable__control:checked~div.sk-toggleable__content {max-height: 200px;max-width: 100%;overflow: auto;}#sk-container-id-4 input.sk-toggleable__control:checked~label.sk-toggleable__label-arrow:before {content: \"▾\";}#sk-container-id-4 div.sk-estimator input.sk-toggleable__control:checked~label.sk-toggleable__label {background-color: #d4ebff;}#sk-container-id-4 div.sk-label input.sk-toggleable__control:checked~label.sk-toggleable__label {background-color: #d4ebff;}#sk-container-id-4 input.sk-hidden--visually {border: 0;clip: rect(1px 1px 1px 1px);clip: rect(1px, 1px, 1px, 1px);height: 1px;margin: -1px;overflow: hidden;padding: 0;position: absolute;width: 1px;}#sk-container-id-4 div.sk-estimator {font-family: monospace;background-color: #f0f8ff;border: 1px dotted black;border-radius: 0.25em;box-sizing: border-box;margin-bottom: 0.5em;}#sk-container-id-4 div.sk-estimator:hover {background-color: #d4ebff;}#sk-container-id-4 div.sk-parallel-item::after {content: \"\";width: 100%;border-bottom: 1px solid gray;flex-grow: 1;}#sk-container-id-4 div.sk-label:hover label.sk-toggleable__label {background-color: #d4ebff;}#sk-container-id-4 div.sk-serial::before {content: \"\";position: absolute;border-left: 1px solid gray;box-sizing: border-box;top: 0;bottom: 0;left: 50%;z-index: 0;}#sk-container-id-4 div.sk-serial {display: flex;flex-direction: column;align-items: center;background-color: white;padding-right: 0.2em;padding-left: 0.2em;position: relative;}#sk-container-id-4 div.sk-item {position: relative;z-index: 1;}#sk-container-id-4 div.sk-parallel {display: flex;align-items: stretch;justify-content: center;background-color: white;position: relative;}#sk-container-id-4 div.sk-item::before, #sk-container-id-4 div.sk-parallel-item::before {content: \"\";position: absolute;border-left: 1px solid gray;box-sizing: border-box;top: 0;bottom: 0;left: 50%;z-index: -1;}#sk-container-id-4 div.sk-parallel-item {display: flex;flex-direction: column;z-index: 1;position: relative;background-color: white;}#sk-container-id-4 div.sk-parallel-item:first-child::after {align-self: flex-end;width: 50%;}#sk-container-id-4 div.sk-parallel-item:last-child::after {align-self: flex-start;width: 50%;}#sk-container-id-4 div.sk-parallel-item:only-child::after {width: 0;}#sk-container-id-4 div.sk-dashed-wrapped {border: 1px dashed gray;margin: 0 0.4em 0.5em 0.4em;box-sizing: border-box;padding-bottom: 0.4em;background-color: white;}#sk-container-id-4 div.sk-label label {font-family: monospace;font-weight: bold;display: inline-block;line-height: 1.2em;}#sk-container-id-4 div.sk-label-container {text-align: center;}#sk-container-id-4 div.sk-container {/* jupyter's `normalize.less` sets `[hidden] { display: none; }` but bootstrap.min.css set `[hidden] { display: none !important; }` so we also need the `!important` here to be able to override the default hidden behavior on the sphinx rendered scikit-learn.org. See: https://github.com/scikit-learn/scikit-learn/issues/21755 */display: inline-block !important;position: relative;}#sk-container-id-4 div.sk-text-repr-fallback {display: none;}</style><div id=\"sk-container-id-4\" class=\"sk-top-container\"><div class=\"sk-text-repr-fallback\"><pre>DecisionTreeClassifier(max_depth=8, min_samples_leaf=6, random_state=12345)</pre><b>In a Jupyter environment, please rerun this cell to show the HTML representation or trust the notebook. <br />On GitHub, the HTML representation is unable to render, please try loading this page with nbviewer.org.</b></div><div class=\"sk-container\" hidden><div class=\"sk-item\"><div class=\"sk-estimator sk-toggleable\"><input class=\"sk-toggleable__control sk-hidden--visually\" id=\"sk-estimator-id-4\" type=\"checkbox\" checked><label for=\"sk-estimator-id-4\" class=\"sk-toggleable__label sk-toggleable__label-arrow\">DecisionTreeClassifier</label><div class=\"sk-toggleable__content\"><pre>DecisionTreeClassifier(max_depth=8, min_samples_leaf=6, random_state=12345)</pre></div></div></div></div></div>"
      ],
      "text/plain": [
       "DecisionTreeClassifier(max_depth=8, min_samples_leaf=6, random_state=12345)"
      ]
     },
     "execution_count": 119,
     "metadata": {},
     "output_type": "execute_result"
    }
   ],
   "source": [
    "#лучшая модель\n",
    "model = DecisionTreeClassifier(max_depth=8, random_state=12345, min_samples_split=2, min_samples_leaf=6)\n",
    "model.fit(features_upsampled, target_upsampled)\n"
   ]
  },
  {
   "cell_type": "code",
   "execution_count": 120,
   "id": "3ecca59c",
   "metadata": {},
   "outputs": [
    {
     "data": {
      "text/plain": [
       "0.5452847805788982"
      ]
     },
     "execution_count": 120,
     "metadata": {},
     "output_type": "execute_result"
    }
   ],
   "source": [
    "predictions = model.predict(features_valid)\n",
    "f1_score(target_valid, predictions)"
   ]
  },
  {
   "cell_type": "code",
   "execution_count": 121,
   "id": "57a862b2",
   "metadata": {},
   "outputs": [
    {
     "data": {
      "text/plain": [
       "0.7419615300971233"
      ]
     },
     "execution_count": 121,
     "metadata": {},
     "output_type": "execute_result"
    }
   ],
   "source": [
    "roc_auc_score(target_valid, predictions)"
   ]
  },
  {
   "cell_type": "code",
   "execution_count": 122,
   "id": "ec007b62",
   "metadata": {},
   "outputs": [
    {
     "data": {
      "text/plain": [
       "0.5510204081632653"
      ]
     },
     "execution_count": 122,
     "metadata": {},
     "output_type": "execute_result"
    }
   ],
   "source": [
    "predictions = model.predict(features_test)\n",
    "f1_score(target_test, predictions)"
   ]
  },
  {
   "cell_type": "code",
   "execution_count": 123,
   "id": "eb8db388",
   "metadata": {},
   "outputs": [
    {
     "data": {
      "text/plain": [
       "0.7474762898491712"
      ]
     },
     "execution_count": 123,
     "metadata": {},
     "output_type": "execute_result"
    }
   ],
   "source": [
    "roc_auc_score(target_test, predictions)"
   ]
  },
  {
   "cell_type": "markdown",
   "id": "796c7913",
   "metadata": {},
   "source": [
    "###### Проверка работы модели Случайный Лес"
   ]
  },
  {
   "cell_type": "code",
   "execution_count": 124,
   "id": "a6f9cf63",
   "metadata": {},
   "outputs": [
    {
     "name": "stdout",
     "output_type": "stream",
     "text": [
      "-----THE BEST-----\n",
      "f1= 0.6181102362204725\n",
      "n_est = 80\n",
      "max_depth = 7\n"
     ]
    }
   ],
   "source": [
    "best_res = 0\n",
    "n_est = 0\n",
    "max_depth = 0\n",
    "for i in range(20,120,20):\n",
    "    #print('----------n_est=', i, '-------------')\n",
    "    for j in range(2,13,1):\n",
    "        model = RandomForestClassifier(n_estimators=i, \n",
    "                               max_depth=j, \n",
    "                               random_state=12345, \n",
    "                               min_samples_split=2, \n",
    "                               min_samples_leaf=2\n",
    "                                  )\n",
    "        model.fit(features_downsampled, target_downsampled)\n",
    "        predictions = model.predict(features_valid)\n",
    "        f1 = f1_score(target_valid, predictions)\n",
    "        if f1 > best_res:\n",
    "            best_res = f1\n",
    "            n_est = i\n",
    "            max_depth = j\n",
    "        #print(j, round(f1, 3))\n",
    "   \n",
    "\n",
    "print('-----THE BEST-----')\n",
    "print('f1=', best_res)\n",
    "print('n_est =', n_est)\n",
    "print('max_depth =', max_depth)"
   ]
  },
  {
   "cell_type": "code",
   "execution_count": 125,
   "id": "face9233",
   "metadata": {},
   "outputs": [
    {
     "data": {
      "text/html": [
       "<style>#sk-container-id-5 {color: black;background-color: white;}#sk-container-id-5 pre{padding: 0;}#sk-container-id-5 div.sk-toggleable {background-color: white;}#sk-container-id-5 label.sk-toggleable__label {cursor: pointer;display: block;width: 100%;margin-bottom: 0;padding: 0.3em;box-sizing: border-box;text-align: center;}#sk-container-id-5 label.sk-toggleable__label-arrow:before {content: \"▸\";float: left;margin-right: 0.25em;color: #696969;}#sk-container-id-5 label.sk-toggleable__label-arrow:hover:before {color: black;}#sk-container-id-5 div.sk-estimator:hover label.sk-toggleable__label-arrow:before {color: black;}#sk-container-id-5 div.sk-toggleable__content {max-height: 0;max-width: 0;overflow: hidden;text-align: left;background-color: #f0f8ff;}#sk-container-id-5 div.sk-toggleable__content pre {margin: 0.2em;color: black;border-radius: 0.25em;background-color: #f0f8ff;}#sk-container-id-5 input.sk-toggleable__control:checked~div.sk-toggleable__content {max-height: 200px;max-width: 100%;overflow: auto;}#sk-container-id-5 input.sk-toggleable__control:checked~label.sk-toggleable__label-arrow:before {content: \"▾\";}#sk-container-id-5 div.sk-estimator input.sk-toggleable__control:checked~label.sk-toggleable__label {background-color: #d4ebff;}#sk-container-id-5 div.sk-label input.sk-toggleable__control:checked~label.sk-toggleable__label {background-color: #d4ebff;}#sk-container-id-5 input.sk-hidden--visually {border: 0;clip: rect(1px 1px 1px 1px);clip: rect(1px, 1px, 1px, 1px);height: 1px;margin: -1px;overflow: hidden;padding: 0;position: absolute;width: 1px;}#sk-container-id-5 div.sk-estimator {font-family: monospace;background-color: #f0f8ff;border: 1px dotted black;border-radius: 0.25em;box-sizing: border-box;margin-bottom: 0.5em;}#sk-container-id-5 div.sk-estimator:hover {background-color: #d4ebff;}#sk-container-id-5 div.sk-parallel-item::after {content: \"\";width: 100%;border-bottom: 1px solid gray;flex-grow: 1;}#sk-container-id-5 div.sk-label:hover label.sk-toggleable__label {background-color: #d4ebff;}#sk-container-id-5 div.sk-serial::before {content: \"\";position: absolute;border-left: 1px solid gray;box-sizing: border-box;top: 0;bottom: 0;left: 50%;z-index: 0;}#sk-container-id-5 div.sk-serial {display: flex;flex-direction: column;align-items: center;background-color: white;padding-right: 0.2em;padding-left: 0.2em;position: relative;}#sk-container-id-5 div.sk-item {position: relative;z-index: 1;}#sk-container-id-5 div.sk-parallel {display: flex;align-items: stretch;justify-content: center;background-color: white;position: relative;}#sk-container-id-5 div.sk-item::before, #sk-container-id-5 div.sk-parallel-item::before {content: \"\";position: absolute;border-left: 1px solid gray;box-sizing: border-box;top: 0;bottom: 0;left: 50%;z-index: -1;}#sk-container-id-5 div.sk-parallel-item {display: flex;flex-direction: column;z-index: 1;position: relative;background-color: white;}#sk-container-id-5 div.sk-parallel-item:first-child::after {align-self: flex-end;width: 50%;}#sk-container-id-5 div.sk-parallel-item:last-child::after {align-self: flex-start;width: 50%;}#sk-container-id-5 div.sk-parallel-item:only-child::after {width: 0;}#sk-container-id-5 div.sk-dashed-wrapped {border: 1px dashed gray;margin: 0 0.4em 0.5em 0.4em;box-sizing: border-box;padding-bottom: 0.4em;background-color: white;}#sk-container-id-5 div.sk-label label {font-family: monospace;font-weight: bold;display: inline-block;line-height: 1.2em;}#sk-container-id-5 div.sk-label-container {text-align: center;}#sk-container-id-5 div.sk-container {/* jupyter's `normalize.less` sets `[hidden] { display: none; }` but bootstrap.min.css set `[hidden] { display: none !important; }` so we also need the `!important` here to be able to override the default hidden behavior on the sphinx rendered scikit-learn.org. See: https://github.com/scikit-learn/scikit-learn/issues/21755 */display: inline-block !important;position: relative;}#sk-container-id-5 div.sk-text-repr-fallback {display: none;}</style><div id=\"sk-container-id-5\" class=\"sk-top-container\"><div class=\"sk-text-repr-fallback\"><pre>RandomForestClassifier(max_depth=7, min_samples_leaf=2, n_estimators=80,\n",
       "                       random_state=12345)</pre><b>In a Jupyter environment, please rerun this cell to show the HTML representation or trust the notebook. <br />On GitHub, the HTML representation is unable to render, please try loading this page with nbviewer.org.</b></div><div class=\"sk-container\" hidden><div class=\"sk-item\"><div class=\"sk-estimator sk-toggleable\"><input class=\"sk-toggleable__control sk-hidden--visually\" id=\"sk-estimator-id-5\" type=\"checkbox\" checked><label for=\"sk-estimator-id-5\" class=\"sk-toggleable__label sk-toggleable__label-arrow\">RandomForestClassifier</label><div class=\"sk-toggleable__content\"><pre>RandomForestClassifier(max_depth=7, min_samples_leaf=2, n_estimators=80,\n",
       "                       random_state=12345)</pre></div></div></div></div></div>"
      ],
      "text/plain": [
       "RandomForestClassifier(max_depth=7, min_samples_leaf=2, n_estimators=80,\n",
       "                       random_state=12345)"
      ]
     },
     "execution_count": 125,
     "metadata": {},
     "output_type": "execute_result"
    }
   ],
   "source": [
    "# лучшая модель\n",
    "model = RandomForestClassifier(n_estimators=80, \n",
    "                               max_depth=7, \n",
    "                               random_state=12345, \n",
    "                               min_samples_split=2, \n",
    "                               min_samples_leaf=2\n",
    "                                  )\n",
    "model.fit(features_upsampled, target_upsampled)"
   ]
  },
  {
   "cell_type": "code",
   "execution_count": 126,
   "id": "2b97561b",
   "metadata": {},
   "outputs": [
    {
     "data": {
      "text/plain": [
       "0.6068965517241379"
      ]
     },
     "execution_count": 126,
     "metadata": {},
     "output_type": "execute_result"
    }
   ],
   "source": [
    "predictions = model.predict(features_valid)\n",
    "f1_score(target_valid, predictions)"
   ]
  },
  {
   "cell_type": "code",
   "execution_count": 127,
   "id": "3aa21a8b",
   "metadata": {},
   "outputs": [
    {
     "data": {
      "text/plain": [
       "0.7842164198096402"
      ]
     },
     "execution_count": 127,
     "metadata": {},
     "output_type": "execute_result"
    }
   ],
   "source": [
    "roc_auc_score(target_valid, predictions)"
   ]
  },
  {
   "cell_type": "code",
   "execution_count": 128,
   "id": "4955b1a2",
   "metadata": {},
   "outputs": [
    {
     "data": {
      "text/plain": [
       "0.6072477962781587"
      ]
     },
     "execution_count": 128,
     "metadata": {},
     "output_type": "execute_result"
    }
   ],
   "source": [
    "predictions = model.predict(features_test)\n",
    "f1_score(target_test, predictions)"
   ]
  },
  {
   "cell_type": "code",
   "execution_count": 129,
   "id": "8299cddc",
   "metadata": {},
   "outputs": [
    {
     "data": {
      "text/plain": [
       "0.7854179294857261"
      ]
     },
     "execution_count": 129,
     "metadata": {},
     "output_type": "execute_result"
    }
   ],
   "source": [
    "roc_auc_score(target_test, predictions)"
   ]
  },
  {
   "cell_type": "code",
   "execution_count": 130,
   "id": "137baebd",
   "metadata": {},
   "outputs": [
    {
     "data": {
      "text/plain": [
       "0.5046102263202011"
      ]
     },
     "execution_count": 130,
     "metadata": {},
     "output_type": "execute_result"
    }
   ],
   "source": [
    "model = LogisticRegression(random_state=12345, solver='lbfgs', max_iter=200)\n",
    "model.fit(features_downsampled, target_downsampled)\n",
    "predictions = model.predict(features_valid)\n",
    "f1_score(target_valid, predictions)"
   ]
  },
  {
   "cell_type": "code",
   "execution_count": 131,
   "id": "93e4806f",
   "metadata": {},
   "outputs": [
    {
     "data": {
      "text/plain": [
       "0.7175503700927429"
      ]
     },
     "execution_count": 131,
     "metadata": {},
     "output_type": "execute_result"
    }
   ],
   "source": [
    "roc_auc_score(target_valid, predictions)"
   ]
  },
  {
   "cell_type": "code",
   "execution_count": 132,
   "id": "283e6a81",
   "metadata": {},
   "outputs": [
    {
     "data": {
      "text/plain": [
       "0.5038560411311054"
      ]
     },
     "execution_count": 132,
     "metadata": {},
     "output_type": "execute_result"
    }
   ],
   "source": [
    "predictions = model.predict(features_test)\n",
    "f1_score(target_test, predictions)"
   ]
  },
  {
   "cell_type": "code",
   "execution_count": 133,
   "id": "448c4fc7",
   "metadata": {},
   "outputs": [
    {
     "data": {
      "text/plain": [
       "0.7149144522025879"
      ]
     },
     "execution_count": 133,
     "metadata": {},
     "output_type": "execute_result"
    }
   ],
   "source": [
    "roc_auc_score(target_test, predictions)"
   ]
  },
  {
   "cell_type": "markdown",
   "id": "cf6995a1",
   "metadata": {},
   "source": [
    "###### Проверка идеи: одновременно увеличить обьекты редкого класса в 2 раза и уменьшить частые в 2 раза"
   ]
  },
  {
   "cell_type": "code",
   "execution_count": 134,
   "id": "117ead34",
   "metadata": {},
   "outputs": [],
   "source": [
    "#увеличение обьектов (класса 1) в два раза\n",
    "features_Nsampled, target_Nsampled = upsample(features_train, target_train, 2)"
   ]
  },
  {
   "cell_type": "code",
   "execution_count": 135,
   "id": "c1c216ea",
   "metadata": {},
   "outputs": [],
   "source": [
    "#уменьшение обьектов частого класса в 2 раза (класс 0)\n",
    "features_Nsampled, target_Nsampled = downsample(features_Nsampled, target_Nsampled, 0.5)"
   ]
  },
  {
   "cell_type": "code",
   "execution_count": 136,
   "id": "c0dc4186",
   "metadata": {},
   "outputs": [
    {
     "data": {
      "text/plain": [
       "(4834, 11)"
      ]
     },
     "execution_count": 136,
     "metadata": {},
     "output_type": "execute_result"
    }
   ],
   "source": [
    "features_Nsampled.shape"
   ]
  },
  {
   "cell_type": "code",
   "execution_count": 137,
   "id": "d73450e0",
   "metadata": {},
   "outputs": [
    {
     "data": {
      "text/plain": [
       "(4834,)"
      ]
     },
     "execution_count": 137,
     "metadata": {},
     "output_type": "execute_result"
    }
   ],
   "source": [
    "target_Nsampled.shape"
   ]
  },
  {
   "cell_type": "code",
   "execution_count": 138,
   "id": "3fbc1f5c",
   "metadata": {},
   "outputs": [
    {
     "data": {
      "text/plain": [
       "0.5059991725279271"
      ]
     },
     "execution_count": 138,
     "metadata": {},
     "output_type": "execute_result"
    }
   ],
   "source": [
    "target_Nsampled.mean()"
   ]
  },
  {
   "cell_type": "code",
   "execution_count": null,
   "id": "24f5f68a",
   "metadata": {},
   "outputs": [],
   "source": []
  },
  {
   "cell_type": "markdown",
   "id": "18b7604b",
   "metadata": {},
   "source": [
    "###### модель Решающее дерево"
   ]
  },
  {
   "cell_type": "code",
   "execution_count": 139,
   "id": "8794c0c7",
   "metadata": {},
   "outputs": [
    {
     "name": "stdout",
     "output_type": "stream",
     "text": [
      "-----THE BEST OF TREE-----\n",
      "f1 = 0.593342981186686\n",
      "roc_auc = 0.7270467694196509\n",
      "max_depth = 8\n",
      "min_samples_split = 2\n",
      "min_samples_leaf = 6\n"
     ]
    }
   ],
   "source": [
    "#поиск лучшей модели Решающего дерева\n",
    "best_res_tree = 0\n",
    "\n",
    "for j in range(1,13,1): #max_depth\n",
    "    for i in range(2,10,1): #min_samples_split\n",
    "        for k in range(2,10,1): #min_samples_leaf\n",
    "        \n",
    "            model = DecisionTreeClassifier(max_depth=j, random_state=12345, min_samples_split=i, min_samples_leaf=k)\n",
    "            model.fit(features_train, target_train)\n",
    "            predictions = model.predict(features_valid)\n",
    "            f1 = f1_score(target_valid, predictions)\n",
    "            \n",
    "            if f1 > best_res_tree:\n",
    "                best_res_tree = f1\n",
    "                max_depth = j\n",
    "                min_samples_split = i\n",
    "                min_samples_leaf = k\n",
    "                roc_auc = roc_auc_score(target_valid, predictions)\n",
    "            \n",
    "   \n",
    "print('-----THE BEST OF TREE-----')\n",
    "print('f1 =', best_res_tree)\n",
    "print('roc_auc =', roc_auc)\n",
    "print('max_depth =', max_depth)\n",
    "print('min_samples_split =', min_samples_split)\n",
    "print('min_samples_leaf =', min_samples_leaf)"
   ]
  },
  {
   "cell_type": "code",
   "execution_count": null,
   "id": "54010ac8",
   "metadata": {},
   "outputs": [],
   "source": []
  },
  {
   "cell_type": "markdown",
   "id": "f06defeb",
   "metadata": {},
   "source": [
    "###### Проверка работы модели Случайный Лес"
   ]
  },
  {
   "cell_type": "code",
   "execution_count": 140,
   "id": "0a256905",
   "metadata": {},
   "outputs": [
    {
     "name": "stdout",
     "output_type": "stream",
     "text": [
      "-----THE BEST-----\n",
      "f1= 0.6332992849846782\n",
      "roc_auc = 0.7986006036853495\n",
      "n_est = 100\n",
      "max_depth = 9\n"
     ]
    }
   ],
   "source": [
    "best_res = 0\n",
    "n_est = 0\n",
    "max_depth = 0\n",
    "for i in range(20,120,20):\n",
    "    #print('----------n_est=', i, '-------------')\n",
    "    for j in range(2,13,1):\n",
    "        model = RandomForestClassifier(n_estimators=i, \n",
    "                               max_depth=j, \n",
    "                               random_state=12345, \n",
    "                               min_samples_split=2, \n",
    "                               min_samples_leaf=2\n",
    "                                  )\n",
    "        model.fit(features_Nsampled, target_Nsampled)\n",
    "        predictions = model.predict(features_valid)\n",
    "        f1 = f1_score(target_valid, predictions)\n",
    "        if f1 > best_res:\n",
    "            best_res = f1\n",
    "            n_est = i\n",
    "            max_depth = j\n",
    "            roc_auc = roc_auc_score(target_valid, predictions)\n",
    "        #print(j, round(f1, 3))\n",
    "   \n",
    "\n",
    "print('-----THE BEST-----')\n",
    "print('f1=', best_res)\n",
    "print('roc_auc =', roc_auc)\n",
    "print('n_est =', n_est)\n",
    "print('max_depth =', max_depth)"
   ]
  },
  {
   "cell_type": "markdown",
   "id": "8c3d95e6",
   "metadata": {},
   "source": [
    "### Общие выводы:\n",
    "    Наилучшие результаты даёт модель случайный лес при увеличении обьектов редкого класса.\n",
    "    Попытка одновременно уменьшить обьекты частого класса и увеличить редкого - не дала выигрыша\n",
    "    \n"
   ]
  },
  {
   "cell_type": "code",
   "execution_count": null,
   "id": "ccc71d3e",
   "metadata": {},
   "outputs": [],
   "source": []
  },
  {
   "cell_type": "markdown",
   "id": "76eb996e",
   "metadata": {},
   "source": [
    "## Тестирование модели"
   ]
  },
  {
   "cell_type": "markdown",
   "id": "dab50fbf",
   "metadata": {},
   "source": [
    "Так как самая выигрышная модель - Случайный лес, для тестирования возьму её. \n",
    "\n",
    "С увеличением обьектов редкого класса в 4 раза"
   ]
  },
  {
   "cell_type": "code",
   "execution_count": 141,
   "id": "59604703",
   "metadata": {},
   "outputs": [
    {
     "data": {
      "text/html": [
       "<style>#sk-container-id-6 {color: black;background-color: white;}#sk-container-id-6 pre{padding: 0;}#sk-container-id-6 div.sk-toggleable {background-color: white;}#sk-container-id-6 label.sk-toggleable__label {cursor: pointer;display: block;width: 100%;margin-bottom: 0;padding: 0.3em;box-sizing: border-box;text-align: center;}#sk-container-id-6 label.sk-toggleable__label-arrow:before {content: \"▸\";float: left;margin-right: 0.25em;color: #696969;}#sk-container-id-6 label.sk-toggleable__label-arrow:hover:before {color: black;}#sk-container-id-6 div.sk-estimator:hover label.sk-toggleable__label-arrow:before {color: black;}#sk-container-id-6 div.sk-toggleable__content {max-height: 0;max-width: 0;overflow: hidden;text-align: left;background-color: #f0f8ff;}#sk-container-id-6 div.sk-toggleable__content pre {margin: 0.2em;color: black;border-radius: 0.25em;background-color: #f0f8ff;}#sk-container-id-6 input.sk-toggleable__control:checked~div.sk-toggleable__content {max-height: 200px;max-width: 100%;overflow: auto;}#sk-container-id-6 input.sk-toggleable__control:checked~label.sk-toggleable__label-arrow:before {content: \"▾\";}#sk-container-id-6 div.sk-estimator input.sk-toggleable__control:checked~label.sk-toggleable__label {background-color: #d4ebff;}#sk-container-id-6 div.sk-label input.sk-toggleable__control:checked~label.sk-toggleable__label {background-color: #d4ebff;}#sk-container-id-6 input.sk-hidden--visually {border: 0;clip: rect(1px 1px 1px 1px);clip: rect(1px, 1px, 1px, 1px);height: 1px;margin: -1px;overflow: hidden;padding: 0;position: absolute;width: 1px;}#sk-container-id-6 div.sk-estimator {font-family: monospace;background-color: #f0f8ff;border: 1px dotted black;border-radius: 0.25em;box-sizing: border-box;margin-bottom: 0.5em;}#sk-container-id-6 div.sk-estimator:hover {background-color: #d4ebff;}#sk-container-id-6 div.sk-parallel-item::after {content: \"\";width: 100%;border-bottom: 1px solid gray;flex-grow: 1;}#sk-container-id-6 div.sk-label:hover label.sk-toggleable__label {background-color: #d4ebff;}#sk-container-id-6 div.sk-serial::before {content: \"\";position: absolute;border-left: 1px solid gray;box-sizing: border-box;top: 0;bottom: 0;left: 50%;z-index: 0;}#sk-container-id-6 div.sk-serial {display: flex;flex-direction: column;align-items: center;background-color: white;padding-right: 0.2em;padding-left: 0.2em;position: relative;}#sk-container-id-6 div.sk-item {position: relative;z-index: 1;}#sk-container-id-6 div.sk-parallel {display: flex;align-items: stretch;justify-content: center;background-color: white;position: relative;}#sk-container-id-6 div.sk-item::before, #sk-container-id-6 div.sk-parallel-item::before {content: \"\";position: absolute;border-left: 1px solid gray;box-sizing: border-box;top: 0;bottom: 0;left: 50%;z-index: -1;}#sk-container-id-6 div.sk-parallel-item {display: flex;flex-direction: column;z-index: 1;position: relative;background-color: white;}#sk-container-id-6 div.sk-parallel-item:first-child::after {align-self: flex-end;width: 50%;}#sk-container-id-6 div.sk-parallel-item:last-child::after {align-self: flex-start;width: 50%;}#sk-container-id-6 div.sk-parallel-item:only-child::after {width: 0;}#sk-container-id-6 div.sk-dashed-wrapped {border: 1px dashed gray;margin: 0 0.4em 0.5em 0.4em;box-sizing: border-box;padding-bottom: 0.4em;background-color: white;}#sk-container-id-6 div.sk-label label {font-family: monospace;font-weight: bold;display: inline-block;line-height: 1.2em;}#sk-container-id-6 div.sk-label-container {text-align: center;}#sk-container-id-6 div.sk-container {/* jupyter's `normalize.less` sets `[hidden] { display: none; }` but bootstrap.min.css set `[hidden] { display: none !important; }` so we also need the `!important` here to be able to override the default hidden behavior on the sphinx rendered scikit-learn.org. See: https://github.com/scikit-learn/scikit-learn/issues/21755 */display: inline-block !important;position: relative;}#sk-container-id-6 div.sk-text-repr-fallback {display: none;}</style><div id=\"sk-container-id-6\" class=\"sk-top-container\"><div class=\"sk-text-repr-fallback\"><pre>RandomForestClassifier(max_depth=8, min_samples_leaf=2, n_estimators=60,\n",
       "                       random_state=12345)</pre><b>In a Jupyter environment, please rerun this cell to show the HTML representation or trust the notebook. <br />On GitHub, the HTML representation is unable to render, please try loading this page with nbviewer.org.</b></div><div class=\"sk-container\" hidden><div class=\"sk-item\"><div class=\"sk-estimator sk-toggleable\"><input class=\"sk-toggleable__control sk-hidden--visually\" id=\"sk-estimator-id-6\" type=\"checkbox\" checked><label for=\"sk-estimator-id-6\" class=\"sk-toggleable__label sk-toggleable__label-arrow\">RandomForestClassifier</label><div class=\"sk-toggleable__content\"><pre>RandomForestClassifier(max_depth=8, min_samples_leaf=2, n_estimators=60,\n",
       "                       random_state=12345)</pre></div></div></div></div></div>"
      ],
      "text/plain": [
       "RandomForestClassifier(max_depth=8, min_samples_leaf=2, n_estimators=60,\n",
       "                       random_state=12345)"
      ]
     },
     "execution_count": 141,
     "metadata": {},
     "output_type": "execute_result"
    }
   ],
   "source": [
    "# лучшая модель\n",
    "model = RandomForestClassifier(n_estimators=60, \n",
    "                               max_depth=8, \n",
    "                               random_state=12345, \n",
    "                               min_samples_split=2, \n",
    "                               min_samples_leaf=2\n",
    "                                  )\n",
    "model.fit(features_upsampled, target_upsampled)"
   ]
  },
  {
   "cell_type": "code",
   "execution_count": 142,
   "id": "07d02b9d",
   "metadata": {},
   "outputs": [
    {
     "data": {
      "text/plain": [
       "0.6354378818737271"
      ]
     },
     "execution_count": 142,
     "metadata": {},
     "output_type": "execute_result"
    }
   ],
   "source": [
    "predictions = model.predict(features_valid)\n",
    "f1_score(target_valid, predictions)"
   ]
  },
  {
   "cell_type": "code",
   "execution_count": 143,
   "id": "8983a362",
   "metadata": {},
   "outputs": [
    {
     "data": {
      "text/plain": [
       "0.800743732947123"
      ]
     },
     "execution_count": 143,
     "metadata": {},
     "output_type": "execute_result"
    }
   ],
   "source": [
    "roc_auc_score(target_valid, predictions)"
   ]
  },
  {
   "cell_type": "code",
   "execution_count": 144,
   "id": "ea763560",
   "metadata": {},
   "outputs": [
    {
     "data": {
      "text/plain": [
       "0.6196319018404909"
      ]
     },
     "execution_count": 144,
     "metadata": {},
     "output_type": "execute_result"
    }
   ],
   "source": [
    "predictions = model.predict(features_test)\n",
    "f1_score(target_test, predictions)"
   ]
  },
  {
   "cell_type": "code",
   "execution_count": 145,
   "id": "3c9eaedc",
   "metadata": {
    "scrolled": true
   },
   "outputs": [
    {
     "data": {
      "text/plain": [
       "0.7881178559144661"
      ]
     },
     "execution_count": 145,
     "metadata": {},
     "output_type": "execute_result"
    }
   ],
   "source": [
    "roc_auc_score(target_test, predictions)"
   ]
  },
  {
   "cell_type": "raw",
   "id": "e06b6e65",
   "metadata": {},
   "source": [
    "features_full_train = pd.concat([features_train, features_valid])\n",
    "target_full_train = pd.concat([target_train, target_valid])\n",
    "\n",
    "features_upsampled, target_upsampled = upsample(features_full_train, target_full_train, 4)"
   ]
  },
  {
   "cell_type": "code",
   "execution_count": 146,
   "id": "219b69a0",
   "metadata": {},
   "outputs": [],
   "source": [
    "features_full_train = pd.concat([features_train, features_valid])\n",
    "target_full_train = pd.concat([target_train, target_valid])\n",
    "\n",
    "features_upsampled, target_upsampled = upsample(features_full_train, target_full_train, 4)"
   ]
  },
  {
   "cell_type": "code",
   "execution_count": 147,
   "id": "bf8efeb2",
   "metadata": {},
   "outputs": [
    {
     "data": {
      "text/plain": [
       "(6000, 11)"
      ]
     },
     "execution_count": 147,
     "metadata": {},
     "output_type": "execute_result"
    }
   ],
   "source": [
    "features_train.shape"
   ]
  },
  {
   "cell_type": "code",
   "execution_count": 148,
   "id": "6cd95bc0",
   "metadata": {},
   "outputs": [
    {
     "data": {
      "text/plain": [
       "(8000, 11)"
      ]
     },
     "execution_count": 148,
     "metadata": {},
     "output_type": "execute_result"
    }
   ],
   "source": [
    "features_full_train.shape"
   ]
  },
  {
   "cell_type": "code",
   "execution_count": 149,
   "id": "e4167598",
   "metadata": {},
   "outputs": [
    {
     "data": {
      "text/plain": [
       "(2000, 11)"
      ]
     },
     "execution_count": 149,
     "metadata": {},
     "output_type": "execute_result"
    }
   ],
   "source": [
    "features_valid.shape"
   ]
  },
  {
   "cell_type": "code",
   "execution_count": 150,
   "id": "6fad2b39",
   "metadata": {},
   "outputs": [
    {
     "data": {
      "text/plain": [
       "(12890, 11)"
      ]
     },
     "execution_count": 150,
     "metadata": {},
     "output_type": "execute_result"
    }
   ],
   "source": [
    "features_upsampled.shape"
   ]
  },
  {
   "cell_type": "code",
   "execution_count": 151,
   "id": "863c2043",
   "metadata": {},
   "outputs": [
    {
     "data": {
      "text/html": [
       "<div>\n",
       "<style scoped>\n",
       "    .dataframe tbody tr th:only-of-type {\n",
       "        vertical-align: middle;\n",
       "    }\n",
       "\n",
       "    .dataframe tbody tr th {\n",
       "        vertical-align: top;\n",
       "    }\n",
       "\n",
       "    .dataframe thead th {\n",
       "        text-align: right;\n",
       "    }\n",
       "</style>\n",
       "<table border=\"1\" class=\"dataframe\">\n",
       "  <thead>\n",
       "    <tr style=\"text-align: right;\">\n",
       "      <th></th>\n",
       "      <th>CreditScore</th>\n",
       "      <th>Age</th>\n",
       "      <th>Tenure</th>\n",
       "      <th>Balance</th>\n",
       "      <th>NumOfProducts</th>\n",
       "      <th>HasCrCard</th>\n",
       "      <th>IsActiveMember</th>\n",
       "      <th>EstimatedSalary</th>\n",
       "      <th>Geography_Germany</th>\n",
       "      <th>Geography_Spain</th>\n",
       "      <th>Gender_Male</th>\n",
       "    </tr>\n",
       "  </thead>\n",
       "  <tbody>\n",
       "    <tr>\n",
       "      <th>9057</th>\n",
       "      <td>0.558821</td>\n",
       "      <td>-0.564119</td>\n",
       "      <td>-1.456283</td>\n",
       "      <td>0.867552</td>\n",
       "      <td>0.797767</td>\n",
       "      <td>1</td>\n",
       "      <td>1</td>\n",
       "      <td>-0.441515</td>\n",
       "      <td>0</td>\n",
       "      <td>0</td>\n",
       "      <td>0</td>\n",
       "    </tr>\n",
       "    <tr>\n",
       "      <th>4001</th>\n",
       "      <td>-1.082978</td>\n",
       "      <td>1.338635</td>\n",
       "      <td>0.150148</td>\n",
       "      <td>0.610294</td>\n",
       "      <td>-0.916018</td>\n",
       "      <td>1</td>\n",
       "      <td>0</td>\n",
       "      <td>1.396866</td>\n",
       "      <td>1</td>\n",
       "      <td>0</td>\n",
       "      <td>1</td>\n",
       "    </tr>\n",
       "    <tr>\n",
       "      <th>7401</th>\n",
       "      <td>-0.174309</td>\n",
       "      <td>0.006707</td>\n",
       "      <td>1.435292</td>\n",
       "      <td>0.846591</td>\n",
       "      <td>0.797767</td>\n",
       "      <td>0</td>\n",
       "      <td>0</td>\n",
       "      <td>1.230057</td>\n",
       "      <td>0</td>\n",
       "      <td>0</td>\n",
       "      <td>0</td>\n",
       "    </tr>\n",
       "    <tr>\n",
       "      <th>1993</th>\n",
       "      <td>1.797914</td>\n",
       "      <td>2.004598</td>\n",
       "      <td>1.114006</td>\n",
       "      <td>0.927573</td>\n",
       "      <td>2.511553</td>\n",
       "      <td>0</td>\n",
       "      <td>0</td>\n",
       "      <td>0.918093</td>\n",
       "      <td>1</td>\n",
       "      <td>0</td>\n",
       "      <td>1</td>\n",
       "    </tr>\n",
       "    <tr>\n",
       "      <th>9667</th>\n",
       "      <td>-0.556363</td>\n",
       "      <td>-0.183568</td>\n",
       "      <td>-0.813711</td>\n",
       "      <td>-1.220573</td>\n",
       "      <td>-0.916018</td>\n",
       "      <td>0</td>\n",
       "      <td>1</td>\n",
       "      <td>0.364283</td>\n",
       "      <td>0</td>\n",
       "      <td>0</td>\n",
       "      <td>1</td>\n",
       "    </tr>\n",
       "  </tbody>\n",
       "</table>\n",
       "</div>"
      ],
      "text/plain": [
       "      CreditScore       Age    Tenure   Balance  NumOfProducts  HasCrCard  \\\n",
       "9057     0.558821 -0.564119 -1.456283  0.867552       0.797767          1   \n",
       "4001    -1.082978  1.338635  0.150148  0.610294      -0.916018          1   \n",
       "7401    -0.174309  0.006707  1.435292  0.846591       0.797767          0   \n",
       "1993     1.797914  2.004598  1.114006  0.927573       2.511553          0   \n",
       "9667    -0.556363 -0.183568 -0.813711 -1.220573      -0.916018          0   \n",
       "\n",
       "      IsActiveMember  EstimatedSalary  Geography_Germany  Geography_Spain  \\\n",
       "9057               1        -0.441515                  0                0   \n",
       "4001               0         1.396866                  1                0   \n",
       "7401               0         1.230057                  0                0   \n",
       "1993               0         0.918093                  1                0   \n",
       "9667               1         0.364283                  0                0   \n",
       "\n",
       "      Gender_Male  \n",
       "9057            0  \n",
       "4001            1  \n",
       "7401            0  \n",
       "1993            1  \n",
       "9667            1  "
      ]
     },
     "execution_count": 151,
     "metadata": {},
     "output_type": "execute_result"
    }
   ],
   "source": [
    "features_upsampled.sample(5)"
   ]
  },
  {
   "cell_type": "code",
   "execution_count": 152,
   "id": "77228951",
   "metadata": {},
   "outputs": [
    {
     "data": {
      "text/plain": [
       "(12890,)"
      ]
     },
     "execution_count": 152,
     "metadata": {},
     "output_type": "execute_result"
    }
   ],
   "source": [
    "target_upsampled.shape"
   ]
  },
  {
   "cell_type": "markdown",
   "id": "38b49c83",
   "metadata": {},
   "source": [
    "Обучение и поиск лучшей модели случайного леса на обьединённой выборке.\n",
    "И расчёт метрик на тестовой выборке"
   ]
  },
  {
   "cell_type": "code",
   "execution_count": 153,
   "id": "20e329a5",
   "metadata": {},
   "outputs": [
    {
     "name": "stdout",
     "output_type": "stream",
     "text": [
      "-----THE BEST-----\n",
      "f1= 0.6356589147286822\n",
      "roc_auc = 0.7869803547769649\n",
      "n_est = 80\n",
      "max_depth = 11\n"
     ]
    }
   ],
   "source": [
    "best_res = 0\n",
    "n_est = 0\n",
    "max_depth = 0\n",
    "for i in range(20,120,20):\n",
    "    #print('----------n_est=', i, '-------------')\n",
    "    for j in range(2,13,1):\n",
    "        model = RandomForestClassifier(n_estimators=i, \n",
    "                               max_depth=j, \n",
    "                               random_state=12345, \n",
    "                               min_samples_split=2, \n",
    "                               min_samples_leaf=2\n",
    "                                  )\n",
    "        model.fit(features_upsampled, target_upsampled)\n",
    "        predictions = model.predict(features_test)\n",
    "        f1 = f1_score(target_test, predictions)\n",
    "        if f1 > best_res:\n",
    "            best_res = f1\n",
    "            n_est = i\n",
    "            max_depth = j\n",
    "            roc_auc = roc_auc_score(target_test, predictions)\n",
    "        \n",
    "   \n",
    "\n",
    "print('-----THE BEST-----')\n",
    "print('f1=', best_res)\n",
    "print('roc_auc =', roc_auc)\n",
    "print('n_est =', n_est)\n",
    "print('max_depth =', max_depth)"
   ]
  },
  {
   "cell_type": "code",
   "execution_count": null,
   "id": "14f9a580",
   "metadata": {},
   "outputs": [],
   "source": []
  },
  {
   "cell_type": "markdown",
   "id": "e990fdf2",
   "metadata": {},
   "source": [
    "###### Сравнение модели с DummyClassifier"
   ]
  },
  {
   "cell_type": "code",
   "execution_count": 154,
   "id": "4cc67df4",
   "metadata": {},
   "outputs": [
    {
     "data": {
      "text/plain": [
       "0.3381803074366431"
      ]
     },
     "execution_count": 154,
     "metadata": {},
     "output_type": "execute_result"
    }
   ],
   "source": [
    "#Стратегия strategy='most_frequent' обучение с наиболее часто встречающимся значением\n",
    "dummy = DummyClassifier(strategy='most_frequent')\n",
    "dummy.fit(features_upsampled, target_upsampled)\n",
    "dummy_pred = dummy.predict(features_test)\n",
    "#accuracy_score(target_test, dummy_pred)\n",
    "f1_score(target_test, dummy_pred)"
   ]
  },
  {
   "cell_type": "code",
   "execution_count": 155,
   "id": "0f95cbe0",
   "metadata": {},
   "outputs": [
    {
     "data": {
      "text/plain": [
       "array([1])"
      ]
     },
     "execution_count": 155,
     "metadata": {},
     "output_type": "execute_result"
    }
   ],
   "source": [
    "np.unique(dummy_pred)"
   ]
  },
  {
   "cell_type": "code",
   "execution_count": 156,
   "id": "f808f9d0",
   "metadata": {},
   "outputs": [
    {
     "data": {
      "text/plain": [
       "0.3381803074366431"
      ]
     },
     "execution_count": 156,
     "metadata": {},
     "output_type": "execute_result"
    }
   ],
   "source": [
    "#Стратегия strategy='prior'\n",
    "dummy = DummyClassifier(strategy='prior')\n",
    "dummy.fit(features_upsampled, target_upsampled)\n",
    "dummy_pred = dummy.predict(features_test)\n",
    "f1_score(target_test, dummy_pred)"
   ]
  },
  {
   "cell_type": "code",
   "execution_count": 157,
   "id": "ebd4c5c0",
   "metadata": {},
   "outputs": [
    {
     "data": {
      "text/plain": [
       "array([1])"
      ]
     },
     "execution_count": 157,
     "metadata": {},
     "output_type": "execute_result"
    }
   ],
   "source": [
    "np.unique(dummy_pred)"
   ]
  },
  {
   "cell_type": "code",
   "execution_count": 158,
   "id": "5def2973",
   "metadata": {},
   "outputs": [
    {
     "data": {
      "text/plain": [
       "0.2865208186309104"
      ]
     },
     "execution_count": 158,
     "metadata": {},
     "output_type": "execute_result"
    }
   ],
   "source": [
    "#Стратегия strategy='stratified'\n",
    "dummy = DummyClassifier(strategy='stratified')\n",
    "dummy.fit(features_upsampled, target_upsampled)\n",
    "dummy_pred = dummy.predict(features_test)\n",
    "f1_score(target_test, dummy_pred)"
   ]
  },
  {
   "cell_type": "code",
   "execution_count": 159,
   "id": "cb80239e",
   "metadata": {},
   "outputs": [
    {
     "data": {
      "text/plain": [
       "array([0, 1])"
      ]
     },
     "execution_count": 159,
     "metadata": {},
     "output_type": "execute_result"
    }
   ],
   "source": [
    "np.unique(dummy_pred)"
   ]
  },
  {
   "cell_type": "code",
   "execution_count": 160,
   "id": "f4e39b5a",
   "metadata": {},
   "outputs": [
    {
     "data": {
      "text/plain": [
       "0.276792051100071"
      ]
     },
     "execution_count": 160,
     "metadata": {},
     "output_type": "execute_result"
    }
   ],
   "source": [
    "#Стратегия strategy='uniform'\n",
    "dummy = DummyClassifier(strategy='uniform')\n",
    "dummy.fit(features_upsampled, target_upsampled)\n",
    "dummy_pred = dummy.predict(features_test)\n",
    "f1_score(target_test, dummy_pred)"
   ]
  },
  {
   "cell_type": "code",
   "execution_count": 161,
   "id": "b7d0b989",
   "metadata": {},
   "outputs": [
    {
     "data": {
      "text/plain": [
       "array([0, 1])"
      ]
     },
     "execution_count": 161,
     "metadata": {},
     "output_type": "execute_result"
    }
   ],
   "source": [
    "np.unique(dummy_pred)"
   ]
  },
  {
   "cell_type": "code",
   "execution_count": 162,
   "id": "96d4d24d",
   "metadata": {},
   "outputs": [
    {
     "data": {
      "text/plain": [
       "0.0"
      ]
     },
     "execution_count": 162,
     "metadata": {},
     "output_type": "execute_result"
    }
   ],
   "source": [
    "#Стратегия strategy='constant' для константы 0\n",
    "dummy = DummyClassifier(strategy='constant', constant = 0)\n",
    "dummy.fit(features_upsampled, target_upsampled)\n",
    "dummy_pred = dummy.predict(features_test)\n",
    "f1_score(target_test, dummy_pred)"
   ]
  },
  {
   "cell_type": "code",
   "execution_count": 163,
   "id": "5c8fc242",
   "metadata": {},
   "outputs": [
    {
     "data": {
      "text/plain": [
       "array([0])"
      ]
     },
     "execution_count": 163,
     "metadata": {},
     "output_type": "execute_result"
    }
   ],
   "source": [
    "np.unique(dummy_pred)"
   ]
  },
  {
   "cell_type": "code",
   "execution_count": 164,
   "id": "ce239497",
   "metadata": {},
   "outputs": [
    {
     "data": {
      "text/plain": [
       "0.3381803074366431"
      ]
     },
     "execution_count": 164,
     "metadata": {},
     "output_type": "execute_result"
    }
   ],
   "source": [
    "#Стратегия strategy='constant' для константы 1\n",
    "dummy = DummyClassifier(strategy='constant', constant = 1)\n",
    "dummy.fit(features_upsampled, target_upsampled)\n",
    "dummy_pred = dummy.predict(features_test)\n",
    "f1_score(target_test, dummy_pred)"
   ]
  },
  {
   "cell_type": "code",
   "execution_count": 165,
   "id": "719cf4cf",
   "metadata": {
    "scrolled": true
   },
   "outputs": [
    {
     "data": {
      "text/plain": [
       "array([1])"
      ]
     },
     "execution_count": 165,
     "metadata": {},
     "output_type": "execute_result"
    }
   ],
   "source": [
    "np.unique(dummy_pred)"
   ]
  },
  {
   "cell_type": "markdown",
   "id": "7a16ae15",
   "metadata": {},
   "source": [
    "Во всех случаях модель Случайный лес имеет большую f1 чем разные модели DummyClassifier"
   ]
  },
  {
   "cell_type": "markdown",
   "id": "067b66b7",
   "metadata": {},
   "source": [
    "## Выводы"
   ]
  },
  {
   "cell_type": "markdown",
   "id": "27a234eb",
   "metadata": {},
   "source": [
    "**Проведено исследование различных моделей классификации.**\n",
    "\n",
    "\n",
    "Исходные данные имеют числовые и категориальные признаки. \n",
    "\n",
    "Так же есть признаки которые не могут влиять на обучение модели:\n",
    "\n",
    "- RowNumber — индекс строки в данных\n",
    "- CustomerId — уникальный идентификатор клиента\n",
    "- Surname — фамилия\n",
    "\n",
    "Для дальнейшей работы эти признаки были удалены.\n",
    "\n",
    "\n",
    "- Сбалансированность целевого признака в исходном датасете составляет около 20%, то есть данные сбалансированы плохо.\n",
    "\n",
    "**что сделали**\n",
    "- Проведено масштабирование всех числовых признаков\n",
    "- Произведено увеличение редких обьектов\n",
    "- Произведено уменьшенье частых обьектов\n",
    "- исследованы различные модели без баллансировки классов\n",
    "- Исследованы различные модели с баллансировкой классов\n",
    "\n",
    "**Получены следующие результаты**\n",
    "-- -- \n",
    "Исследование моделей без баллансировки классов\n",
    "\n",
    "Имя_модели|f1_валид|f1_тест |roc_auc_валид|roc_auc_тест|\n",
    "----------|--------|--------|-------------|------------|\n",
    "Решающее дерево|0.593|0.596|0.727|0.729|\n",
    "Случайный лес|0.582|0.57|0.716|0.710|\n",
    "Логист.регрессия|0.299|0.321|0.583|0.592|\n",
    "\n",
    "-- --\n",
    "Исследование моделей с баллансировкой классов\n",
    "\n",
    "Имя_модели|f1_валид|f1_тест |roc_auc_валид|roc_auc_тест|\n",
    "----------|--------|--------|-------------|------------|\n",
    "Решающее дерево|0.545|0.551|0.742|0.747|\n",
    "Случайный лес|0.635|0.620|0.800|0.788|\n",
    "Логист.регрессия|0.507|0.507|0.719|0.718|\n",
    "\n",
    "-- --\n",
    "Наилучшие результаты имеет модель \"Случайный лес\", после баллансирования классов, и именно при увеличении обьектов редкого класса.\n",
    "\n",
    "Уменьшение обьектов частого класса не дало нужный результат, то есть мера f1 не увеличилась.\n",
    "\n",
    "Максимально достигнутое значение меры f1 составило 0.635 на валидационной выборке и 0.620 на тестовой.\n",
    "\n",
    "Сравнение модели \"Случайный лес\" с различными моделями DummyClassifier показало, что полученная модель предсказывает лучше, чем любая модель DummyClassifier.\n"
   ]
  },
  {
   "cell_type": "code",
   "execution_count": null,
   "id": "ae527b12",
   "metadata": {},
   "outputs": [],
   "source": []
  }
 ],
 "metadata": {
  "ExecuteTimeLog": [
   {
    "duration": 1827,
    "start_time": "2022-08-31T11:19:03.185Z"
   },
   {
    "duration": 416,
    "start_time": "2022-08-31T11:19:05.014Z"
   },
   {
    "duration": 20,
    "start_time": "2022-08-31T11:19:05.432Z"
   },
   {
    "duration": 15,
    "start_time": "2022-08-31T11:19:05.454Z"
   },
   {
    "duration": 30,
    "start_time": "2022-08-31T11:19:05.471Z"
   },
   {
    "duration": 5,
    "start_time": "2022-08-31T11:19:05.502Z"
   },
   {
    "duration": 7,
    "start_time": "2022-08-31T11:19:05.509Z"
   },
   {
    "duration": 9,
    "start_time": "2022-08-31T11:19:05.518Z"
   },
   {
    "duration": 22,
    "start_time": "2022-08-31T11:19:05.529Z"
   },
   {
    "duration": 16,
    "start_time": "2022-08-31T11:19:05.554Z"
   },
   {
    "duration": 163,
    "start_time": "2022-08-31T11:19:05.572Z"
   },
   {
    "duration": 8,
    "start_time": "2022-08-31T11:19:05.737Z"
   },
   {
    "duration": 176,
    "start_time": "2022-08-31T11:19:05.747Z"
   },
   {
    "duration": 9,
    "start_time": "2022-08-31T11:19:05.924Z"
   },
   {
    "duration": 177,
    "start_time": "2022-08-31T11:19:05.935Z"
   },
   {
    "duration": 5,
    "start_time": "2022-08-31T11:19:06.114Z"
   },
   {
    "duration": 8,
    "start_time": "2022-08-31T11:19:06.120Z"
   },
   {
    "duration": 9,
    "start_time": "2022-08-31T11:19:06.130Z"
   },
   {
    "duration": 6,
    "start_time": "2022-08-31T11:19:06.141Z"
   },
   {
    "duration": 255,
    "start_time": "2022-08-31T11:19:06.149Z"
   },
   {
    "duration": 5,
    "start_time": "2022-08-31T11:19:06.405Z"
   },
   {
    "duration": 13,
    "start_time": "2022-08-31T11:19:06.412Z"
   },
   {
    "duration": 367,
    "start_time": "2022-08-31T11:19:06.427Z"
   },
   {
    "duration": 440,
    "start_time": "2022-08-31T11:19:06.796Z"
   },
   {
    "duration": 59,
    "start_time": "2022-08-31T11:19:07.238Z"
   },
   {
    "duration": 9,
    "start_time": "2022-08-31T11:19:07.298Z"
   },
   {
    "duration": 300,
    "start_time": "2022-08-31T11:19:07.309Z"
   },
   {
    "duration": 7,
    "start_time": "2022-08-31T11:19:07.613Z"
   },
   {
    "duration": 16,
    "start_time": "2022-08-31T11:19:07.622Z"
   },
   {
    "duration": 55,
    "start_time": "2022-08-31T11:19:07.640Z"
   },
   {
    "duration": 10,
    "start_time": "2022-08-31T11:19:07.697Z"
   },
   {
    "duration": 322,
    "start_time": "2022-08-31T11:19:07.709Z"
   },
   {
    "duration": 5,
    "start_time": "2022-08-31T11:19:08.033Z"
   },
   {
    "duration": 21,
    "start_time": "2022-08-31T11:19:08.093Z"
   },
   {
    "duration": 19,
    "start_time": "2022-08-31T11:19:08.116Z"
   },
   {
    "duration": 69,
    "start_time": "2022-08-31T11:19:08.137Z"
   },
   {
    "duration": 16,
    "start_time": "2022-08-31T11:19:08.208Z"
   },
   {
    "duration": 3,
    "start_time": "2022-08-31T11:19:08.226Z"
   },
   {
    "duration": 11,
    "start_time": "2022-08-31T11:19:08.231Z"
   },
   {
    "duration": 9,
    "start_time": "2022-08-31T11:19:08.244Z"
   },
   {
    "duration": 4,
    "start_time": "2022-08-31T11:19:08.292Z"
   },
   {
    "duration": 10,
    "start_time": "2022-08-31T11:19:08.297Z"
   },
   {
    "duration": 6,
    "start_time": "2022-08-31T11:19:08.309Z"
   },
   {
    "duration": 6,
    "start_time": "2022-08-31T11:19:08.316Z"
   },
   {
    "duration": 5,
    "start_time": "2022-08-31T11:19:08.324Z"
   },
   {
    "duration": 8,
    "start_time": "2022-08-31T11:19:08.331Z"
   },
   {
    "duration": 7,
    "start_time": "2022-08-31T11:19:08.341Z"
   },
   {
    "duration": 7,
    "start_time": "2022-08-31T11:19:08.349Z"
   },
   {
    "duration": 9,
    "start_time": "2022-08-31T11:19:08.357Z"
   },
   {
    "duration": 4,
    "start_time": "2022-08-31T11:19:08.392Z"
   },
   {
    "duration": 17,
    "start_time": "2022-08-31T11:19:08.398Z"
   },
   {
    "duration": 9,
    "start_time": "2022-08-31T11:19:08.416Z"
   },
   {
    "duration": 8,
    "start_time": "2022-08-31T11:19:08.426Z"
   },
   {
    "duration": 6,
    "start_time": "2022-08-31T11:19:08.436Z"
   },
   {
    "duration": 362,
    "start_time": "2022-08-31T11:19:08.443Z"
   },
   {
    "duration": 354,
    "start_time": "2022-08-31T11:19:08.807Z"
   },
   {
    "duration": 394,
    "start_time": "2022-08-31T11:19:09.163Z"
   },
   {
    "duration": 36,
    "start_time": "2022-08-31T11:19:09.559Z"
   },
   {
    "duration": 7,
    "start_time": "2022-08-31T11:19:09.597Z"
   },
   {
    "duration": 7,
    "start_time": "2022-08-31T11:19:09.606Z"
   },
   {
    "duration": 7,
    "start_time": "2022-08-31T11:19:09.615Z"
   },
   {
    "duration": 8,
    "start_time": "2022-08-31T11:19:09.623Z"
   },
   {
    "duration": 6,
    "start_time": "2022-08-31T11:19:09.633Z"
   },
   {
    "duration": 29055,
    "start_time": "2022-08-31T11:19:09.641Z"
   },
   {
    "duration": 158,
    "start_time": "2022-08-31T11:19:38.697Z"
   },
   {
    "duration": 6,
    "start_time": "2022-08-31T11:19:38.856Z"
   },
   {
    "duration": 30,
    "start_time": "2022-08-31T11:19:38.863Z"
   },
   {
    "duration": 6,
    "start_time": "2022-08-31T11:19:38.894Z"
   },
   {
    "duration": 699,
    "start_time": "2022-08-31T11:19:38.901Z"
   },
   {
    "duration": 98,
    "start_time": "2022-08-31T11:19:39.601Z"
   },
   {
    "duration": 17491,
    "start_time": "2022-08-31T11:19:39.701Z"
   },
   {
    "duration": 10,
    "start_time": "2022-08-31T11:19:57.198Z"
   },
   {
    "duration": 91,
    "start_time": "2022-08-31T11:19:57.210Z"
   },
   {
    "duration": 102,
    "start_time": "2022-08-31T11:19:57.392Z"
   },
   {
    "duration": 99,
    "start_time": "2022-08-31T11:19:57.496Z"
   },
   {
    "duration": 304,
    "start_time": "2022-08-31T11:19:57.597Z"
   },
   {
    "duration": 488,
    "start_time": "2022-08-31T11:19:57.904Z"
   },
   {
    "duration": 107,
    "start_time": "2022-08-31T11:19:58.395Z"
   },
   {
    "duration": 10,
    "start_time": "2022-08-31T11:19:58.504Z"
   },
   {
    "duration": 20,
    "start_time": "2022-08-31T11:19:58.516Z"
   },
   {
    "duration": 4,
    "start_time": "2022-08-31T11:19:58.538Z"
   },
   {
    "duration": 20,
    "start_time": "2022-08-31T11:19:58.549Z"
   },
   {
    "duration": 21,
    "start_time": "2022-08-31T11:19:58.571Z"
   },
   {
    "duration": 13,
    "start_time": "2022-08-31T11:19:58.594Z"
   },
   {
    "duration": 3,
    "start_time": "2022-08-31T11:19:58.609Z"
   },
   {
    "duration": 16,
    "start_time": "2022-08-31T11:19:58.613Z"
   },
   {
    "duration": 8,
    "start_time": "2022-08-31T11:19:58.631Z"
   },
   {
    "duration": 180,
    "start_time": "2022-08-31T11:19:58.641Z"
   },
   {
    "duration": 19,
    "start_time": "2022-08-31T11:19:58.823Z"
   },
   {
    "duration": 21,
    "start_time": "2022-08-31T11:19:58.844Z"
   },
   {
    "duration": 37,
    "start_time": "2022-08-31T11:19:58.867Z"
   },
   {
    "duration": 5,
    "start_time": "2022-08-31T11:19:58.905Z"
   },
   {
    "duration": 25,
    "start_time": "2022-08-31T11:19:58.911Z"
   },
   {
    "duration": 10,
    "start_time": "2022-08-31T11:19:58.937Z"
   },
   {
    "duration": 16,
    "start_time": "2022-08-31T11:19:58.948Z"
   },
   {
    "duration": 17,
    "start_time": "2022-08-31T11:19:58.966Z"
   },
   {
    "duration": 11,
    "start_time": "2022-08-31T11:19:58.985Z"
   },
   {
    "duration": 444,
    "start_time": "2022-08-31T11:19:58.998Z"
   },
   {
    "duration": 30,
    "start_time": "2022-08-31T11:19:59.444Z"
   },
   {
    "duration": 20,
    "start_time": "2022-08-31T11:19:59.476Z"
   },
   {
    "duration": 9,
    "start_time": "2022-08-31T11:19:59.497Z"
   },
   {
    "duration": 11,
    "start_time": "2022-08-31T11:19:59.507Z"
   },
   {
    "duration": 7,
    "start_time": "2022-08-31T11:19:59.520Z"
   },
   {
    "duration": 21812,
    "start_time": "2022-08-31T11:19:59.529Z"
   },
   {
    "duration": 425,
    "start_time": "2022-08-31T11:20:21.343Z"
   },
   {
    "duration": 41,
    "start_time": "2022-08-31T11:20:21.770Z"
   },
   {
    "duration": 7,
    "start_time": "2022-08-31T11:20:21.813Z"
   },
   {
    "duration": 59,
    "start_time": "2022-08-31T11:20:21.823Z"
   },
   {
    "duration": 8,
    "start_time": "2022-08-31T11:20:21.884Z"
   },
   {
    "duration": 18500,
    "start_time": "2022-08-31T11:20:21.894Z"
   },
   {
    "duration": 8,
    "start_time": "2022-08-31T11:20:40.396Z"
   },
   {
    "duration": 109,
    "start_time": "2022-08-31T11:20:40.406Z"
   },
   {
    "duration": 80,
    "start_time": "2022-08-31T11:20:40.517Z"
   },
   {
    "duration": 115,
    "start_time": "2022-08-31T11:20:40.599Z"
   },
   {
    "duration": 28,
    "start_time": "2022-08-31T11:20:40.716Z"
   },
   {
    "duration": 6,
    "start_time": "2022-08-31T11:20:40.746Z"
   },
   {
    "duration": 8,
    "start_time": "2022-08-31T11:20:40.753Z"
   },
   {
    "duration": 12,
    "start_time": "2022-08-31T11:20:40.763Z"
   },
   {
    "duration": 192,
    "start_time": "2022-08-31T11:20:40.776Z"
   },
   {
    "duration": 9769,
    "start_time": "2022-08-31T11:20:40.970Z"
   },
   {
    "duration": 6651,
    "start_time": "2022-08-31T11:20:50.741Z"
   },
   {
    "duration": 99,
    "start_time": "2022-08-31T11:20:57.399Z"
   },
   {
    "duration": 20,
    "start_time": "2022-08-31T11:20:57.501Z"
   },
   {
    "duration": 4,
    "start_time": "2022-08-31T11:20:57.523Z"
   },
   {
    "duration": 10,
    "start_time": "2022-08-31T11:20:57.530Z"
   },
   {
    "duration": 8,
    "start_time": "2022-08-31T11:20:57.542Z"
   },
   {
    "duration": 310,
    "start_time": "2022-08-31T11:20:57.552Z"
   },
   {
    "duration": 13837,
    "start_time": "2022-08-31T11:20:57.864Z"
   },
   {
    "duration": 468,
    "start_time": "2022-08-31T11:21:11.703Z"
   },
   {
    "duration": 37,
    "start_time": "2022-08-31T11:21:12.172Z"
   },
   {
    "duration": 5,
    "start_time": "2022-08-31T11:21:12.211Z"
   },
   {
    "duration": 44,
    "start_time": "2022-08-31T11:21:12.217Z"
   },
   {
    "duration": 6,
    "start_time": "2022-08-31T11:21:12.262Z"
   },
   {
    "duration": 12,
    "start_time": "2022-08-31T11:21:12.270Z"
   },
   {
    "duration": 4,
    "start_time": "2022-08-31T11:21:12.292Z"
   },
   {
    "duration": 33,
    "start_time": "2022-08-31T11:21:12.298Z"
   },
   {
    "duration": 21,
    "start_time": "2022-08-31T11:21:12.332Z"
   },
   {
    "duration": 21,
    "start_time": "2022-08-31T11:21:12.355Z"
   },
   {
    "duration": 22,
    "start_time": "2022-08-31T11:21:12.377Z"
   },
   {
    "duration": 13,
    "start_time": "2022-08-31T11:21:12.401Z"
   },
   {
    "duration": 12,
    "start_time": "2022-08-31T11:21:12.416Z"
   },
   {
    "duration": 15,
    "start_time": "2022-08-31T11:21:12.430Z"
   },
   {
    "duration": 24,
    "start_time": "2022-08-31T11:21:12.446Z"
   },
   {
    "duration": 14,
    "start_time": "2022-08-31T11:21:12.471Z"
   },
   {
    "duration": 8,
    "start_time": "2022-08-31T11:21:12.487Z"
   },
   {
    "duration": 29022,
    "start_time": "2022-08-31T11:52:13.134Z"
   },
   {
    "duration": 29068,
    "start_time": "2022-08-31T11:53:22.215Z"
   },
   {
    "duration": 111,
    "start_time": "2022-08-31T11:59:20.125Z"
   },
   {
    "duration": 79,
    "start_time": "2022-08-31T12:14:09.607Z"
   },
   {
    "duration": 79,
    "start_time": "2022-08-31T12:16:59.160Z"
   },
   {
    "duration": 91,
    "start_time": "2022-08-31T14:26:05.074Z"
   },
   {
    "duration": 43,
    "start_time": "2022-08-31T14:28:57.379Z"
   },
   {
    "duration": 1531,
    "start_time": "2022-08-31T14:29:07.276Z"
   },
   {
    "duration": 236,
    "start_time": "2022-08-31T14:29:08.808Z"
   },
   {
    "duration": 19,
    "start_time": "2022-08-31T14:29:09.046Z"
   },
   {
    "duration": 15,
    "start_time": "2022-08-31T14:29:09.068Z"
   },
   {
    "duration": 22,
    "start_time": "2022-08-31T14:29:09.084Z"
   },
   {
    "duration": 9,
    "start_time": "2022-08-31T14:29:09.107Z"
   },
   {
    "duration": 13,
    "start_time": "2022-08-31T14:29:09.117Z"
   },
   {
    "duration": 10,
    "start_time": "2022-08-31T14:29:09.132Z"
   },
   {
    "duration": 19,
    "start_time": "2022-08-31T14:29:09.143Z"
   },
   {
    "duration": 12,
    "start_time": "2022-08-31T14:29:09.165Z"
   },
   {
    "duration": 178,
    "start_time": "2022-08-31T14:29:09.179Z"
   },
   {
    "duration": 9,
    "start_time": "2022-08-31T14:29:09.359Z"
   },
   {
    "duration": 14,
    "start_time": "2022-08-31T14:29:09.370Z"
   },
   {
    "duration": 179,
    "start_time": "2022-08-31T14:29:09.386Z"
   },
   {
    "duration": 10,
    "start_time": "2022-08-31T14:29:09.567Z"
   },
   {
    "duration": 141,
    "start_time": "2022-08-31T14:29:09.578Z"
   },
   {
    "duration": 5,
    "start_time": "2022-08-31T14:29:09.721Z"
   },
   {
    "duration": 21,
    "start_time": "2022-08-31T14:29:09.727Z"
   },
   {
    "duration": 17,
    "start_time": "2022-08-31T14:29:09.750Z"
   },
   {
    "duration": 23,
    "start_time": "2022-08-31T14:29:09.769Z"
   },
   {
    "duration": 136,
    "start_time": "2022-08-31T14:29:09.794Z"
   },
   {
    "duration": 4,
    "start_time": "2022-08-31T14:29:09.932Z"
   },
   {
    "duration": 26,
    "start_time": "2022-08-31T14:29:09.937Z"
   },
   {
    "duration": 230,
    "start_time": "2022-08-31T14:29:09.965Z"
   },
   {
    "duration": 172,
    "start_time": "2022-08-31T14:29:10.197Z"
   },
   {
    "duration": 7,
    "start_time": "2022-08-31T14:29:10.371Z"
   },
   {
    "duration": 8,
    "start_time": "2022-08-31T14:29:10.380Z"
   },
   {
    "duration": 131,
    "start_time": "2022-08-31T14:29:10.408Z"
   },
   {
    "duration": 7,
    "start_time": "2022-08-31T14:29:10.541Z"
   },
   {
    "duration": 6,
    "start_time": "2022-08-31T14:29:10.550Z"
   },
   {
    "duration": 6,
    "start_time": "2022-08-31T14:29:10.558Z"
   },
   {
    "duration": 9,
    "start_time": "2022-08-31T14:29:10.566Z"
   },
   {
    "duration": 178,
    "start_time": "2022-08-31T14:29:10.576Z"
   },
   {
    "duration": 5,
    "start_time": "2022-08-31T14:29:10.756Z"
   },
   {
    "duration": 12,
    "start_time": "2022-08-31T14:29:10.762Z"
   },
   {
    "duration": 10,
    "start_time": "2022-08-31T14:29:10.775Z"
   },
   {
    "duration": 20,
    "start_time": "2022-08-31T14:29:10.786Z"
   },
   {
    "duration": 13,
    "start_time": "2022-08-31T14:29:10.807Z"
   },
   {
    "duration": 3,
    "start_time": "2022-08-31T14:29:10.821Z"
   },
   {
    "duration": 10,
    "start_time": "2022-08-31T14:29:10.825Z"
   },
   {
    "duration": 7,
    "start_time": "2022-08-31T14:29:10.836Z"
   },
   {
    "duration": 7,
    "start_time": "2022-08-31T14:29:10.845Z"
   },
   {
    "duration": 6,
    "start_time": "2022-08-31T14:29:10.854Z"
   },
   {
    "duration": 6,
    "start_time": "2022-08-31T14:29:10.861Z"
   },
   {
    "duration": 39,
    "start_time": "2022-08-31T14:29:10.869Z"
   },
   {
    "duration": 6,
    "start_time": "2022-08-31T14:29:10.909Z"
   },
   {
    "duration": 5,
    "start_time": "2022-08-31T14:29:10.916Z"
   },
   {
    "duration": 7,
    "start_time": "2022-08-31T14:29:10.922Z"
   },
   {
    "duration": 5,
    "start_time": "2022-08-31T14:29:10.931Z"
   },
   {
    "duration": 10,
    "start_time": "2022-08-31T14:29:10.938Z"
   },
   {
    "duration": 6,
    "start_time": "2022-08-31T14:29:10.949Z"
   },
   {
    "duration": 13,
    "start_time": "2022-08-31T14:29:10.957Z"
   },
   {
    "duration": 3,
    "start_time": "2022-08-31T14:29:10.971Z"
   },
   {
    "duration": 31,
    "start_time": "2022-08-31T14:29:10.976Z"
   },
   {
    "duration": 4,
    "start_time": "2022-08-31T14:29:11.008Z"
   },
   {
    "duration": 311,
    "start_time": "2022-08-31T14:29:11.014Z"
   },
   {
    "duration": 312,
    "start_time": "2022-08-31T14:29:11.327Z"
   },
   {
    "duration": 324,
    "start_time": "2022-08-31T14:29:11.640Z"
   },
   {
    "duration": 22,
    "start_time": "2022-08-31T14:29:11.966Z"
   },
   {
    "duration": 17,
    "start_time": "2022-08-31T14:29:11.990Z"
   },
   {
    "duration": 9,
    "start_time": "2022-08-31T14:29:12.008Z"
   },
   {
    "duration": 22,
    "start_time": "2022-08-31T14:29:12.019Z"
   },
   {
    "duration": 43,
    "start_time": "2022-08-31T14:29:12.042Z"
   },
   {
    "duration": 7,
    "start_time": "2022-08-31T14:29:12.087Z"
   },
   {
    "duration": 25987,
    "start_time": "2022-08-31T14:29:12.096Z"
   },
   {
    "duration": 151,
    "start_time": "2022-08-31T14:29:38.085Z"
   },
   {
    "duration": 6,
    "start_time": "2022-08-31T14:29:38.238Z"
   },
   {
    "duration": 19,
    "start_time": "2022-08-31T14:29:38.245Z"
   },
   {
    "duration": 5,
    "start_time": "2022-08-31T14:29:38.266Z"
   },
   {
    "duration": 534,
    "start_time": "2022-08-31T14:29:38.273Z"
   },
   {
    "duration": 6,
    "start_time": "2022-08-31T14:29:38.809Z"
   },
   {
    "duration": 12907,
    "start_time": "2022-08-31T14:29:38.907Z"
   },
   {
    "duration": 5,
    "start_time": "2022-08-31T14:29:51.907Z"
   },
   {
    "duration": 93,
    "start_time": "2022-08-31T14:29:51.914Z"
   },
   {
    "duration": 104,
    "start_time": "2022-08-31T14:29:52.011Z"
   },
   {
    "duration": 34,
    "start_time": "2022-08-31T14:29:52.116Z"
   },
   {
    "duration": 301,
    "start_time": "2022-08-31T14:29:52.207Z"
   },
   {
    "duration": 318,
    "start_time": "2022-08-31T14:29:52.510Z"
   },
   {
    "duration": 177,
    "start_time": "2022-08-31T14:29:52.829Z"
   },
   {
    "duration": 13,
    "start_time": "2022-08-31T14:29:53.008Z"
   },
   {
    "duration": 16,
    "start_time": "2022-08-31T14:29:53.023Z"
   },
   {
    "duration": 9,
    "start_time": "2022-08-31T14:29:53.045Z"
   },
   {
    "duration": 11,
    "start_time": "2022-08-31T14:29:53.055Z"
   },
   {
    "duration": 14,
    "start_time": "2022-08-31T14:29:53.067Z"
   },
   {
    "duration": 24,
    "start_time": "2022-08-31T14:29:53.083Z"
   },
   {
    "duration": 3,
    "start_time": "2022-08-31T14:29:53.108Z"
   },
   {
    "duration": 14,
    "start_time": "2022-08-31T14:29:53.113Z"
   },
   {
    "duration": 7,
    "start_time": "2022-08-31T14:29:53.128Z"
   },
   {
    "duration": 150,
    "start_time": "2022-08-31T14:29:53.137Z"
   },
   {
    "duration": 23,
    "start_time": "2022-08-31T14:29:53.289Z"
   },
   {
    "duration": 20,
    "start_time": "2022-08-31T14:29:53.313Z"
   },
   {
    "duration": 14,
    "start_time": "2022-08-31T14:29:53.334Z"
   },
   {
    "duration": 4,
    "start_time": "2022-08-31T14:29:53.350Z"
   },
   {
    "duration": 16,
    "start_time": "2022-08-31T14:29:53.355Z"
   },
   {
    "duration": 4,
    "start_time": "2022-08-31T14:29:53.372Z"
   },
   {
    "duration": 29,
    "start_time": "2022-08-31T14:29:53.377Z"
   },
   {
    "duration": 4,
    "start_time": "2022-08-31T14:29:53.408Z"
   },
   {
    "duration": 6,
    "start_time": "2022-08-31T14:29:53.413Z"
   },
   {
    "duration": 356,
    "start_time": "2022-08-31T14:29:53.420Z"
   },
   {
    "duration": 31,
    "start_time": "2022-08-31T14:29:53.778Z"
   },
   {
    "duration": 6,
    "start_time": "2022-08-31T14:29:53.810Z"
   },
   {
    "duration": 7,
    "start_time": "2022-08-31T14:29:53.817Z"
   },
   {
    "duration": 8,
    "start_time": "2022-08-31T14:29:53.826Z"
   },
   {
    "duration": 7,
    "start_time": "2022-08-31T14:29:53.836Z"
   },
   {
    "duration": 19562,
    "start_time": "2022-08-31T14:29:53.844Z"
   },
   {
    "duration": 367,
    "start_time": "2022-08-31T14:30:13.407Z"
   },
   {
    "duration": 37,
    "start_time": "2022-08-31T14:30:13.775Z"
   },
   {
    "duration": 5,
    "start_time": "2022-08-31T14:30:13.813Z"
   },
   {
    "duration": 30,
    "start_time": "2022-08-31T14:30:13.820Z"
   },
   {
    "duration": 5,
    "start_time": "2022-08-31T14:30:13.852Z"
   },
   {
    "duration": 12153,
    "start_time": "2022-08-31T14:30:13.859Z"
   },
   {
    "duration": 6,
    "start_time": "2022-08-31T14:30:26.105Z"
   },
   {
    "duration": 17,
    "start_time": "2022-08-31T14:30:26.113Z"
   },
   {
    "duration": 180,
    "start_time": "2022-08-31T14:30:26.132Z"
   },
   {
    "duration": 6,
    "start_time": "2022-08-31T14:30:26.314Z"
   },
   {
    "duration": 16,
    "start_time": "2022-08-31T14:30:26.321Z"
   },
   {
    "duration": 4,
    "start_time": "2022-08-31T14:30:26.338Z"
   },
   {
    "duration": 5,
    "start_time": "2022-08-31T14:30:26.344Z"
   },
   {
    "duration": 7,
    "start_time": "2022-08-31T14:30:26.350Z"
   },
   {
    "duration": 195,
    "start_time": "2022-08-31T14:30:26.358Z"
   },
   {
    "duration": 8716,
    "start_time": "2022-08-31T14:30:26.555Z"
   },
   {
    "duration": 6734,
    "start_time": "2022-08-31T14:30:35.273Z"
   },
   {
    "duration": 100,
    "start_time": "2022-08-31T14:30:42.009Z"
   },
   {
    "duration": 10,
    "start_time": "2022-08-31T14:30:42.111Z"
   },
   {
    "duration": 4,
    "start_time": "2022-08-31T14:30:42.122Z"
   },
   {
    "duration": 5,
    "start_time": "2022-08-31T14:30:42.127Z"
   },
   {
    "duration": 11,
    "start_time": "2022-08-31T14:30:42.134Z"
   },
   {
    "duration": 260,
    "start_time": "2022-08-31T14:30:42.146Z"
   },
   {
    "duration": 12590,
    "start_time": "2022-08-31T14:30:42.408Z"
   },
   {
    "duration": 365,
    "start_time": "2022-08-31T14:30:55.000Z"
   },
   {
    "duration": 30,
    "start_time": "2022-08-31T14:30:55.367Z"
   },
   {
    "duration": 5,
    "start_time": "2022-08-31T14:30:55.406Z"
   },
   {
    "duration": 42,
    "start_time": "2022-08-31T14:30:55.412Z"
   },
   {
    "duration": 5,
    "start_time": "2022-08-31T14:30:55.456Z"
   },
   {
    "duration": 17,
    "start_time": "2022-08-31T14:30:55.462Z"
   },
   {
    "duration": 9,
    "start_time": "2022-08-31T14:30:55.481Z"
   },
   {
    "duration": 19,
    "start_time": "2022-08-31T14:30:55.491Z"
   },
   {
    "duration": 20,
    "start_time": "2022-08-31T14:30:55.512Z"
   },
   {
    "duration": 20,
    "start_time": "2022-08-31T14:30:55.533Z"
   },
   {
    "duration": 8,
    "start_time": "2022-08-31T14:30:55.555Z"
   },
   {
    "duration": 21,
    "start_time": "2022-08-31T14:30:55.564Z"
   },
   {
    "duration": 8,
    "start_time": "2022-08-31T14:30:55.586Z"
   },
   {
    "duration": 17,
    "start_time": "2022-08-31T14:30:55.595Z"
   },
   {
    "duration": 11,
    "start_time": "2022-08-31T14:30:55.614Z"
   },
   {
    "duration": 25,
    "start_time": "2022-08-31T14:30:55.626Z"
   },
   {
    "duration": 25,
    "start_time": "2022-08-31T14:30:55.652Z"
   },
   {
    "duration": 128,
    "start_time": "2022-08-31T14:32:03.194Z"
   },
   {
    "duration": 7,
    "start_time": "2022-08-31T14:32:23.994Z"
   },
   {
    "duration": 889,
    "start_time": "2022-08-31T14:32:42.923Z"
   },
   {
    "duration": 885,
    "start_time": "2022-08-31T14:33:21.919Z"
   },
   {
    "duration": 805,
    "start_time": "2022-08-31T14:33:32.063Z"
   },
   {
    "duration": 893,
    "start_time": "2022-08-31T14:33:56.893Z"
   },
   {
    "duration": 7,
    "start_time": "2022-08-31T14:34:36.435Z"
   },
   {
    "duration": 65,
    "start_time": "2022-08-31T14:34:51.787Z"
   },
   {
    "duration": 5,
    "start_time": "2022-08-31T14:35:06.408Z"
   },
   {
    "duration": 5,
    "start_time": "2022-08-31T14:35:32.973Z"
   },
   {
    "duration": 10,
    "start_time": "2022-08-31T14:35:54.969Z"
   },
   {
    "duration": 10,
    "start_time": "2022-08-31T14:35:59.340Z"
   },
   {
    "duration": 827,
    "start_time": "2022-08-31T14:36:08.579Z"
   },
   {
    "duration": 870,
    "start_time": "2022-08-31T14:36:55.268Z"
   },
   {
    "duration": 993,
    "start_time": "2022-08-31T14:37:05.541Z"
   },
   {
    "duration": 1878,
    "start_time": "2022-08-31T14:38:19.872Z"
   },
   {
    "duration": 5,
    "start_time": "2022-08-31T14:38:29.678Z"
   },
   {
    "duration": 589,
    "start_time": "2022-08-31T14:40:33.382Z"
   },
   {
    "duration": 10047,
    "start_time": "2022-08-31T14:44:16.564Z"
   },
   {
    "duration": 1242,
    "start_time": "2022-09-01T05:08:17.757Z"
   },
   {
    "duration": 137,
    "start_time": "2022-09-01T05:08:19.001Z"
   },
   {
    "duration": 17,
    "start_time": "2022-09-01T05:08:19.139Z"
   },
   {
    "duration": 11,
    "start_time": "2022-09-01T05:08:19.158Z"
   },
   {
    "duration": 10,
    "start_time": "2022-09-01T05:08:19.170Z"
   },
   {
    "duration": 4,
    "start_time": "2022-09-01T05:08:19.181Z"
   },
   {
    "duration": 6,
    "start_time": "2022-09-01T05:08:19.186Z"
   },
   {
    "duration": 13,
    "start_time": "2022-09-01T05:08:19.193Z"
   },
   {
    "duration": 11,
    "start_time": "2022-09-01T05:08:19.207Z"
   },
   {
    "duration": 6,
    "start_time": "2022-09-01T05:08:19.220Z"
   },
   {
    "duration": 138,
    "start_time": "2022-09-01T05:08:19.228Z"
   },
   {
    "duration": 8,
    "start_time": "2022-09-01T05:08:19.367Z"
   },
   {
    "duration": 798,
    "start_time": "2022-09-01T05:08:19.376Z"
   },
   {
    "duration": 131,
    "start_time": "2022-09-01T05:08:20.176Z"
   },
   {
    "duration": 8,
    "start_time": "2022-09-01T05:08:20.308Z"
   },
   {
    "duration": 178,
    "start_time": "2022-09-01T05:08:20.317Z"
   },
   {
    "duration": 12,
    "start_time": "2022-09-01T05:08:20.496Z"
   },
   {
    "duration": 8,
    "start_time": "2022-09-01T05:08:20.509Z"
   },
   {
    "duration": 8,
    "start_time": "2022-09-01T05:08:20.518Z"
   },
   {
    "duration": 6,
    "start_time": "2022-09-01T05:08:20.527Z"
   },
   {
    "duration": 125,
    "start_time": "2022-09-01T05:08:20.534Z"
   },
   {
    "duration": 4,
    "start_time": "2022-09-01T05:08:20.661Z"
   },
   {
    "duration": 8,
    "start_time": "2022-09-01T05:08:20.666Z"
   },
   {
    "duration": 143,
    "start_time": "2022-09-01T05:08:20.675Z"
   },
   {
    "duration": 131,
    "start_time": "2022-09-01T05:08:20.819Z"
   },
   {
    "duration": 5,
    "start_time": "2022-09-01T05:08:20.952Z"
   },
   {
    "duration": 6,
    "start_time": "2022-09-01T05:08:20.959Z"
   },
   {
    "duration": 129,
    "start_time": "2022-09-01T05:08:20.968Z"
   },
   {
    "duration": 14,
    "start_time": "2022-09-01T05:08:21.098Z"
   },
   {
    "duration": 12,
    "start_time": "2022-09-01T05:08:21.113Z"
   },
   {
    "duration": 7,
    "start_time": "2022-09-01T05:08:21.127Z"
   },
   {
    "duration": 15,
    "start_time": "2022-09-01T05:08:21.136Z"
   },
   {
    "duration": 139,
    "start_time": "2022-09-01T05:08:21.152Z"
   },
   {
    "duration": 14,
    "start_time": "2022-09-01T05:08:21.292Z"
   },
   {
    "duration": 6,
    "start_time": "2022-09-01T05:08:21.307Z"
   },
   {
    "duration": 9,
    "start_time": "2022-09-01T05:08:21.314Z"
   },
   {
    "duration": 10,
    "start_time": "2022-09-01T05:08:21.324Z"
   },
   {
    "duration": 10,
    "start_time": "2022-09-01T05:08:21.336Z"
   },
   {
    "duration": 12,
    "start_time": "2022-09-01T05:08:21.347Z"
   },
   {
    "duration": 3,
    "start_time": "2022-09-01T05:08:21.360Z"
   },
   {
    "duration": 42,
    "start_time": "2022-09-01T05:08:21.364Z"
   },
   {
    "duration": 6,
    "start_time": "2022-09-01T05:08:21.408Z"
   },
   {
    "duration": 4,
    "start_time": "2022-09-01T05:08:21.416Z"
   },
   {
    "duration": 5,
    "start_time": "2022-09-01T05:08:21.421Z"
   },
   {
    "duration": 5,
    "start_time": "2022-09-01T05:08:21.427Z"
   },
   {
    "duration": 4,
    "start_time": "2022-09-01T05:08:21.434Z"
   },
   {
    "duration": 8,
    "start_time": "2022-09-01T05:08:21.440Z"
   },
   {
    "duration": 6,
    "start_time": "2022-09-01T05:08:21.449Z"
   },
   {
    "duration": 6,
    "start_time": "2022-09-01T05:08:21.457Z"
   },
   {
    "duration": 13,
    "start_time": "2022-09-01T05:08:21.464Z"
   },
   {
    "duration": 27,
    "start_time": "2022-09-01T05:08:21.479Z"
   },
   {
    "duration": 10,
    "start_time": "2022-09-01T05:08:21.507Z"
   },
   {
    "duration": 10,
    "start_time": "2022-09-01T05:08:21.519Z"
   },
   {
    "duration": 3,
    "start_time": "2022-09-01T05:08:21.531Z"
   },
   {
    "duration": 5,
    "start_time": "2022-09-01T05:08:21.535Z"
   },
   {
    "duration": 6,
    "start_time": "2022-09-01T05:08:21.541Z"
   },
   {
    "duration": 5,
    "start_time": "2022-09-01T05:08:21.548Z"
   },
   {
    "duration": 12,
    "start_time": "2022-09-01T05:08:21.554Z"
   },
   {
    "duration": 3,
    "start_time": "2022-09-01T05:08:21.567Z"
   },
   {
    "duration": 4,
    "start_time": "2022-09-01T05:08:21.605Z"
   },
   {
    "duration": 6,
    "start_time": "2022-09-01T05:08:21.610Z"
   },
   {
    "duration": 289,
    "start_time": "2022-09-01T05:08:21.617Z"
   },
   {
    "duration": 284,
    "start_time": "2022-09-01T05:08:21.907Z"
   },
   {
    "duration": 298,
    "start_time": "2022-09-01T05:08:22.193Z"
   },
   {
    "duration": 30,
    "start_time": "2022-09-01T05:08:22.493Z"
   },
   {
    "duration": 5,
    "start_time": "2022-09-01T05:08:22.525Z"
   },
   {
    "duration": 5,
    "start_time": "2022-09-01T05:08:22.532Z"
   },
   {
    "duration": 5,
    "start_time": "2022-09-01T05:08:22.539Z"
   },
   {
    "duration": 7,
    "start_time": "2022-09-01T05:08:22.546Z"
   },
   {
    "duration": 6,
    "start_time": "2022-09-01T05:08:22.554Z"
   },
   {
    "duration": 24704,
    "start_time": "2022-09-01T05:08:22.561Z"
   },
   {
    "duration": 136,
    "start_time": "2022-09-01T05:08:47.267Z"
   },
   {
    "duration": 6,
    "start_time": "2022-09-01T05:08:47.406Z"
   },
   {
    "duration": 17,
    "start_time": "2022-09-01T05:08:47.413Z"
   },
   {
    "duration": 5,
    "start_time": "2022-09-01T05:08:47.431Z"
   },
   {
    "duration": 469,
    "start_time": "2022-09-01T05:08:47.437Z"
   },
   {
    "duration": 96,
    "start_time": "2022-09-01T05:08:47.911Z"
   },
   {
    "duration": 10200,
    "start_time": "2022-09-01T05:08:48.008Z"
   },
   {
    "duration": 93,
    "start_time": "2022-09-01T05:08:58.214Z"
   },
   {
    "duration": 17,
    "start_time": "2022-09-01T05:08:58.309Z"
   },
   {
    "duration": 188,
    "start_time": "2022-09-01T05:08:58.331Z"
   },
   {
    "duration": 40,
    "start_time": "2022-09-01T05:08:58.525Z"
   },
   {
    "duration": 301,
    "start_time": "2022-09-01T05:08:58.607Z"
   },
   {
    "duration": 298,
    "start_time": "2022-09-01T05:08:58.910Z"
   },
   {
    "duration": 100,
    "start_time": "2022-09-01T05:08:59.210Z"
   },
   {
    "duration": 230,
    "start_time": "2022-09-01T05:08:59.312Z"
   },
   {
    "duration": 16,
    "start_time": "2022-09-01T05:08:59.544Z"
   },
   {
    "duration": 17,
    "start_time": "2022-09-01T05:08:59.562Z"
   },
   {
    "duration": 27,
    "start_time": "2022-09-01T05:08:59.580Z"
   },
   {
    "duration": 4,
    "start_time": "2022-09-01T05:08:59.609Z"
   },
   {
    "duration": 13,
    "start_time": "2022-09-01T05:08:59.614Z"
   },
   {
    "duration": 3,
    "start_time": "2022-09-01T05:08:59.629Z"
   },
   {
    "duration": 11,
    "start_time": "2022-09-01T05:08:59.633Z"
   },
   {
    "duration": 6,
    "start_time": "2022-09-01T05:08:59.646Z"
   },
   {
    "duration": 5,
    "start_time": "2022-09-01T05:08:59.653Z"
   },
   {
    "duration": 356,
    "start_time": "2022-09-01T05:08:59.660Z"
   },
   {
    "duration": 25,
    "start_time": "2022-09-01T05:09:00.018Z"
   },
   {
    "duration": 6,
    "start_time": "2022-09-01T05:09:00.044Z"
   },
   {
    "duration": 8,
    "start_time": "2022-09-01T05:09:00.052Z"
   },
   {
    "duration": 10,
    "start_time": "2022-09-01T05:09:00.061Z"
   },
   {
    "duration": 5,
    "start_time": "2022-09-01T05:09:00.072Z"
   },
   {
    "duration": 17584,
    "start_time": "2022-09-01T05:09:00.078Z"
   },
   {
    "duration": 346,
    "start_time": "2022-09-01T05:09:17.664Z"
   },
   {
    "duration": 26,
    "start_time": "2022-09-01T05:09:18.012Z"
   },
   {
    "duration": 5,
    "start_time": "2022-09-01T05:09:18.040Z"
   },
   {
    "duration": 27,
    "start_time": "2022-09-01T05:09:18.046Z"
   },
   {
    "duration": 4,
    "start_time": "2022-09-01T05:09:18.075Z"
   },
   {
    "duration": 10730,
    "start_time": "2022-09-01T05:09:18.080Z"
   },
   {
    "duration": 93,
    "start_time": "2022-09-01T05:09:28.815Z"
   },
   {
    "duration": 10,
    "start_time": "2022-09-01T05:09:28.910Z"
   },
   {
    "duration": 183,
    "start_time": "2022-09-01T05:09:28.924Z"
   },
   {
    "duration": 4,
    "start_time": "2022-09-01T05:09:29.109Z"
   },
   {
    "duration": 12,
    "start_time": "2022-09-01T05:09:29.114Z"
   },
   {
    "duration": 3,
    "start_time": "2022-09-01T05:09:29.127Z"
   },
   {
    "duration": 6,
    "start_time": "2022-09-01T05:09:29.132Z"
   },
   {
    "duration": 7,
    "start_time": "2022-09-01T05:09:29.139Z"
   },
   {
    "duration": 180,
    "start_time": "2022-09-01T05:09:29.147Z"
   },
   {
    "duration": 8000,
    "start_time": "2022-09-01T05:09:29.329Z"
   },
   {
    "duration": 4476,
    "start_time": "2022-09-01T05:09:37.331Z"
   },
   {
    "duration": 94,
    "start_time": "2022-09-01T05:09:41.812Z"
   },
   {
    "duration": 15,
    "start_time": "2022-09-01T05:09:41.908Z"
   },
   {
    "duration": 4,
    "start_time": "2022-09-01T05:09:41.924Z"
   },
   {
    "duration": 5,
    "start_time": "2022-09-01T05:09:41.929Z"
   },
   {
    "duration": 10,
    "start_time": "2022-09-01T05:09:41.935Z"
   },
   {
    "duration": 250,
    "start_time": "2022-09-01T05:09:41.947Z"
   },
   {
    "duration": 11536,
    "start_time": "2022-09-01T05:09:42.198Z"
   },
   {
    "duration": 344,
    "start_time": "2022-09-01T05:09:53.735Z"
   },
   {
    "duration": 33,
    "start_time": "2022-09-01T05:09:54.080Z"
   },
   {
    "duration": 5,
    "start_time": "2022-09-01T05:09:54.115Z"
   },
   {
    "duration": 31,
    "start_time": "2022-09-01T05:09:54.121Z"
   },
   {
    "duration": 5,
    "start_time": "2022-09-01T05:09:54.153Z"
   },
   {
    "duration": 7,
    "start_time": "2022-09-01T05:09:54.160Z"
   },
   {
    "duration": 8,
    "start_time": "2022-09-01T05:09:54.168Z"
   },
   {
    "duration": 8,
    "start_time": "2022-09-01T05:09:54.178Z"
   },
   {
    "duration": 20,
    "start_time": "2022-09-01T05:09:54.187Z"
   },
   {
    "duration": 8,
    "start_time": "2022-09-01T05:09:54.209Z"
   },
   {
    "duration": 4,
    "start_time": "2022-09-01T05:09:54.218Z"
   },
   {
    "duration": 7,
    "start_time": "2022-09-01T05:09:54.223Z"
   },
   {
    "duration": 6,
    "start_time": "2022-09-01T05:09:54.232Z"
   },
   {
    "duration": 7,
    "start_time": "2022-09-01T05:09:54.240Z"
   },
   {
    "duration": 8,
    "start_time": "2022-09-01T05:09:54.249Z"
   },
   {
    "duration": 10,
    "start_time": "2022-09-01T05:09:54.258Z"
   },
   {
    "duration": 5,
    "start_time": "2022-09-01T05:09:54.269Z"
   },
   {
    "duration": 3,
    "start_time": "2022-09-01T05:12:27.242Z"
   },
   {
    "duration": 88,
    "start_time": "2022-09-01T05:12:27.248Z"
   },
   {
    "duration": 13,
    "start_time": "2022-09-01T05:12:27.337Z"
   },
   {
    "duration": 14,
    "start_time": "2022-09-01T05:12:27.351Z"
   },
   {
    "duration": 10,
    "start_time": "2022-09-01T05:12:27.367Z"
   },
   {
    "duration": 4,
    "start_time": "2022-09-01T05:12:27.378Z"
   },
   {
    "duration": 6,
    "start_time": "2022-09-01T05:12:27.384Z"
   },
   {
    "duration": 14,
    "start_time": "2022-09-01T05:12:27.392Z"
   },
   {
    "duration": 8,
    "start_time": "2022-09-01T05:12:27.407Z"
   },
   {
    "duration": 6,
    "start_time": "2022-09-01T05:12:27.417Z"
   },
   {
    "duration": 142,
    "start_time": "2022-09-01T05:12:27.426Z"
   },
   {
    "duration": 7,
    "start_time": "2022-09-01T05:12:27.569Z"
   },
   {
    "duration": 864,
    "start_time": "2022-09-01T05:12:27.578Z"
   },
   {
    "duration": 140,
    "start_time": "2022-09-01T05:12:28.443Z"
   },
   {
    "duration": 7,
    "start_time": "2022-09-01T05:12:28.585Z"
   },
   {
    "duration": 114,
    "start_time": "2022-09-01T05:12:28.593Z"
   },
   {
    "duration": 4,
    "start_time": "2022-09-01T05:12:28.708Z"
   },
   {
    "duration": 7,
    "start_time": "2022-09-01T05:12:28.713Z"
   },
   {
    "duration": 7,
    "start_time": "2022-09-01T05:12:28.722Z"
   },
   {
    "duration": 6,
    "start_time": "2022-09-01T05:12:28.730Z"
   },
   {
    "duration": 117,
    "start_time": "2022-09-01T05:12:28.737Z"
   },
   {
    "duration": 4,
    "start_time": "2022-09-01T05:12:28.856Z"
   },
   {
    "duration": 10,
    "start_time": "2022-09-01T05:12:28.861Z"
   },
   {
    "duration": 134,
    "start_time": "2022-09-01T05:12:28.872Z"
   },
   {
    "duration": 129,
    "start_time": "2022-09-01T05:12:29.007Z"
   },
   {
    "duration": 7,
    "start_time": "2022-09-01T05:12:29.138Z"
   },
   {
    "duration": 7,
    "start_time": "2022-09-01T05:12:29.146Z"
   },
   {
    "duration": 125,
    "start_time": "2022-09-01T05:12:29.154Z"
   },
   {
    "duration": 6,
    "start_time": "2022-09-01T05:12:29.282Z"
   },
   {
    "duration": 19,
    "start_time": "2022-09-01T05:12:29.289Z"
   },
   {
    "duration": 6,
    "start_time": "2022-09-01T05:12:29.310Z"
   },
   {
    "duration": 9,
    "start_time": "2022-09-01T05:12:29.317Z"
   },
   {
    "duration": 137,
    "start_time": "2022-09-01T05:12:29.327Z"
   },
   {
    "duration": 5,
    "start_time": "2022-09-01T05:12:29.466Z"
   },
   {
    "duration": 8,
    "start_time": "2022-09-01T05:12:29.472Z"
   },
   {
    "duration": 20,
    "start_time": "2022-09-01T05:12:29.481Z"
   },
   {
    "duration": 10,
    "start_time": "2022-09-01T05:12:29.505Z"
   },
   {
    "duration": 10,
    "start_time": "2022-09-01T05:12:29.516Z"
   },
   {
    "duration": 12,
    "start_time": "2022-09-01T05:12:29.528Z"
   },
   {
    "duration": 2,
    "start_time": "2022-09-01T05:12:29.542Z"
   },
   {
    "duration": 12,
    "start_time": "2022-09-01T05:12:29.545Z"
   },
   {
    "duration": 8,
    "start_time": "2022-09-01T05:12:29.558Z"
   },
   {
    "duration": 6,
    "start_time": "2022-09-01T05:12:29.568Z"
   },
   {
    "duration": 6,
    "start_time": "2022-09-01T05:12:29.576Z"
   },
   {
    "duration": 25,
    "start_time": "2022-09-01T05:12:29.583Z"
   },
   {
    "duration": 5,
    "start_time": "2022-09-01T05:12:29.609Z"
   },
   {
    "duration": 5,
    "start_time": "2022-09-01T05:12:29.615Z"
   },
   {
    "duration": 5,
    "start_time": "2022-09-01T05:12:29.622Z"
   },
   {
    "duration": 7,
    "start_time": "2022-09-01T05:12:29.628Z"
   },
   {
    "duration": 14,
    "start_time": "2022-09-01T05:12:29.637Z"
   },
   {
    "duration": 4,
    "start_time": "2022-09-01T05:12:29.652Z"
   },
   {
    "duration": 10,
    "start_time": "2022-09-01T05:12:29.657Z"
   },
   {
    "duration": 38,
    "start_time": "2022-09-01T05:12:29.668Z"
   },
   {
    "duration": 13,
    "start_time": "2022-09-01T05:12:34.872Z"
   },
   {
    "duration": 15,
    "start_time": "2022-09-01T05:12:47.412Z"
   },
   {
    "duration": 11,
    "start_time": "2022-09-01T05:13:22.232Z"
   },
   {
    "duration": 11,
    "start_time": "2022-09-01T05:13:25.541Z"
   },
   {
    "duration": 3,
    "start_time": "2022-09-01T05:18:47.449Z"
   },
   {
    "duration": 80,
    "start_time": "2022-09-01T05:18:47.454Z"
   },
   {
    "duration": 13,
    "start_time": "2022-09-01T05:18:47.536Z"
   },
   {
    "duration": 13,
    "start_time": "2022-09-01T05:18:47.550Z"
   },
   {
    "duration": 9,
    "start_time": "2022-09-01T05:18:47.565Z"
   },
   {
    "duration": 4,
    "start_time": "2022-09-01T05:18:47.575Z"
   },
   {
    "duration": 4,
    "start_time": "2022-09-01T05:18:47.580Z"
   },
   {
    "duration": 21,
    "start_time": "2022-09-01T05:18:47.585Z"
   },
   {
    "duration": 8,
    "start_time": "2022-09-01T05:18:47.608Z"
   },
   {
    "duration": 10,
    "start_time": "2022-09-01T05:18:47.617Z"
   },
   {
    "duration": 130,
    "start_time": "2022-09-01T05:18:47.629Z"
   },
   {
    "duration": 7,
    "start_time": "2022-09-01T05:18:47.761Z"
   },
   {
    "duration": 787,
    "start_time": "2022-09-01T05:18:47.770Z"
   },
   {
    "duration": 233,
    "start_time": "2022-09-01T05:18:48.558Z"
   },
   {
    "duration": 14,
    "start_time": "2022-09-01T05:18:48.793Z"
   },
   {
    "duration": 117,
    "start_time": "2022-09-01T05:18:48.809Z"
   },
   {
    "duration": 4,
    "start_time": "2022-09-01T05:18:48.927Z"
   },
   {
    "duration": 5,
    "start_time": "2022-09-01T05:18:48.933Z"
   },
   {
    "duration": 5,
    "start_time": "2022-09-01T05:18:48.939Z"
   },
   {
    "duration": 5,
    "start_time": "2022-09-01T05:18:48.946Z"
   },
   {
    "duration": 127,
    "start_time": "2022-09-01T05:18:48.953Z"
   },
   {
    "duration": 4,
    "start_time": "2022-09-01T05:18:49.082Z"
   },
   {
    "duration": 19,
    "start_time": "2022-09-01T05:18:49.087Z"
   },
   {
    "duration": 138,
    "start_time": "2022-09-01T05:18:49.108Z"
   },
   {
    "duration": 131,
    "start_time": "2022-09-01T05:18:49.248Z"
   },
   {
    "duration": 7,
    "start_time": "2022-09-01T05:18:49.381Z"
   },
   {
    "duration": 17,
    "start_time": "2022-09-01T05:18:49.389Z"
   },
   {
    "duration": 118,
    "start_time": "2022-09-01T05:18:49.407Z"
   },
   {
    "duration": 6,
    "start_time": "2022-09-01T05:18:49.528Z"
   },
   {
    "duration": 7,
    "start_time": "2022-09-01T05:18:49.535Z"
   },
   {
    "duration": 7,
    "start_time": "2022-09-01T05:18:49.542Z"
   },
   {
    "duration": 26,
    "start_time": "2022-09-01T05:18:49.550Z"
   },
   {
    "duration": 139,
    "start_time": "2022-09-01T05:18:49.577Z"
   },
   {
    "duration": 5,
    "start_time": "2022-09-01T05:18:49.717Z"
   },
   {
    "duration": 25,
    "start_time": "2022-09-01T05:18:49.723Z"
   },
   {
    "duration": 16,
    "start_time": "2022-09-01T05:18:49.750Z"
   },
   {
    "duration": 19,
    "start_time": "2022-09-01T05:18:49.767Z"
   },
   {
    "duration": 24,
    "start_time": "2022-09-01T05:18:49.787Z"
   },
   {
    "duration": 17,
    "start_time": "2022-09-01T05:18:49.812Z"
   },
   {
    "duration": 4,
    "start_time": "2022-09-01T05:18:49.831Z"
   },
   {
    "duration": 11,
    "start_time": "2022-09-01T05:18:49.836Z"
   },
   {
    "duration": 27,
    "start_time": "2022-09-01T05:18:49.848Z"
   },
   {
    "duration": 22,
    "start_time": "2022-09-01T05:18:49.876Z"
   },
   {
    "duration": 14,
    "start_time": "2022-09-01T05:18:49.900Z"
   },
   {
    "duration": 13,
    "start_time": "2022-09-01T05:18:49.915Z"
   },
   {
    "duration": 10,
    "start_time": "2022-09-01T05:18:49.929Z"
   },
   {
    "duration": 14,
    "start_time": "2022-09-01T05:18:49.940Z"
   },
   {
    "duration": 9,
    "start_time": "2022-09-01T05:18:49.956Z"
   },
   {
    "duration": 12,
    "start_time": "2022-09-01T05:18:49.966Z"
   },
   {
    "duration": 12,
    "start_time": "2022-09-01T05:18:49.979Z"
   },
   {
    "duration": 4,
    "start_time": "2022-09-01T05:18:49.993Z"
   },
   {
    "duration": 10,
    "start_time": "2022-09-01T05:18:49.998Z"
   },
   {
    "duration": 15,
    "start_time": "2022-09-01T05:18:50.009Z"
   },
   {
    "duration": 12,
    "start_time": "2022-09-01T05:18:50.025Z"
   },
   {
    "duration": 8,
    "start_time": "2022-09-01T05:20:46.757Z"
   },
   {
    "duration": 14,
    "start_time": "2022-09-01T05:20:51.836Z"
   },
   {
    "duration": 12,
    "start_time": "2022-09-01T05:20:52.206Z"
   },
   {
    "duration": 15,
    "start_time": "2022-09-01T05:22:48.944Z"
   },
   {
    "duration": 13,
    "start_time": "2022-09-01T05:23:02.346Z"
   },
   {
    "duration": 12,
    "start_time": "2022-09-01T05:23:02.775Z"
   },
   {
    "duration": 16,
    "start_time": "2022-09-01T05:23:03.916Z"
   },
   {
    "duration": 4,
    "start_time": "2022-09-01T05:24:15.238Z"
   },
   {
    "duration": 135,
    "start_time": "2022-09-01T05:24:15.243Z"
   },
   {
    "duration": 13,
    "start_time": "2022-09-01T05:24:15.380Z"
   },
   {
    "duration": 15,
    "start_time": "2022-09-01T05:24:15.395Z"
   },
   {
    "duration": 9,
    "start_time": "2022-09-01T05:24:15.412Z"
   },
   {
    "duration": 5,
    "start_time": "2022-09-01T05:24:15.422Z"
   },
   {
    "duration": 4,
    "start_time": "2022-09-01T05:24:15.428Z"
   },
   {
    "duration": 6,
    "start_time": "2022-09-01T05:24:15.433Z"
   },
   {
    "duration": 8,
    "start_time": "2022-09-01T05:24:15.440Z"
   },
   {
    "duration": 8,
    "start_time": "2022-09-01T05:24:15.449Z"
   },
   {
    "duration": 161,
    "start_time": "2022-09-01T05:24:15.459Z"
   },
   {
    "duration": 7,
    "start_time": "2022-09-01T05:24:15.621Z"
   },
   {
    "duration": 810,
    "start_time": "2022-09-01T05:24:15.629Z"
   },
   {
    "duration": 150,
    "start_time": "2022-09-01T05:24:16.440Z"
   },
   {
    "duration": 19,
    "start_time": "2022-09-01T05:24:16.591Z"
   },
   {
    "duration": 122,
    "start_time": "2022-09-01T05:24:16.611Z"
   },
   {
    "duration": 5,
    "start_time": "2022-09-01T05:24:16.735Z"
   },
   {
    "duration": 5,
    "start_time": "2022-09-01T05:24:16.741Z"
   },
   {
    "duration": 4,
    "start_time": "2022-09-01T05:24:16.748Z"
   },
   {
    "duration": 5,
    "start_time": "2022-09-01T05:24:16.753Z"
   },
   {
    "duration": 129,
    "start_time": "2022-09-01T05:24:16.760Z"
   },
   {
    "duration": 4,
    "start_time": "2022-09-01T05:24:16.891Z"
   },
   {
    "duration": 7,
    "start_time": "2022-09-01T05:24:16.905Z"
   },
   {
    "duration": 139,
    "start_time": "2022-09-01T05:24:16.914Z"
   },
   {
    "duration": 262,
    "start_time": "2022-09-01T05:24:17.054Z"
   },
   {
    "duration": 7,
    "start_time": "2022-09-01T05:24:17.318Z"
   },
   {
    "duration": 9,
    "start_time": "2022-09-01T05:24:17.327Z"
   },
   {
    "duration": 139,
    "start_time": "2022-09-01T05:24:17.337Z"
   },
   {
    "duration": 6,
    "start_time": "2022-09-01T05:24:17.480Z"
   },
   {
    "duration": 18,
    "start_time": "2022-09-01T05:24:17.488Z"
   },
   {
    "duration": 5,
    "start_time": "2022-09-01T05:24:17.508Z"
   },
   {
    "duration": 17,
    "start_time": "2022-09-01T05:24:17.514Z"
   },
   {
    "duration": 151,
    "start_time": "2022-09-01T05:24:17.533Z"
   },
   {
    "duration": 5,
    "start_time": "2022-09-01T05:24:17.685Z"
   },
   {
    "duration": 15,
    "start_time": "2022-09-01T05:24:17.692Z"
   },
   {
    "duration": 12,
    "start_time": "2022-09-01T05:24:17.708Z"
   },
   {
    "duration": 10,
    "start_time": "2022-09-01T05:24:17.722Z"
   },
   {
    "duration": 11,
    "start_time": "2022-09-01T05:24:17.734Z"
   },
   {
    "duration": 13,
    "start_time": "2022-09-01T05:24:17.747Z"
   },
   {
    "duration": 3,
    "start_time": "2022-09-01T05:24:17.761Z"
   },
   {
    "duration": 7,
    "start_time": "2022-09-01T05:24:17.766Z"
   },
   {
    "duration": 37,
    "start_time": "2022-09-01T05:24:17.774Z"
   },
   {
    "duration": 7,
    "start_time": "2022-09-01T05:24:17.813Z"
   },
   {
    "duration": 11,
    "start_time": "2022-09-01T05:24:17.821Z"
   },
   {
    "duration": 13,
    "start_time": "2022-09-01T05:24:17.834Z"
   },
   {
    "duration": 5,
    "start_time": "2022-09-01T05:24:17.849Z"
   },
   {
    "duration": 5,
    "start_time": "2022-09-01T05:24:17.855Z"
   },
   {
    "duration": 6,
    "start_time": "2022-09-01T05:24:17.861Z"
   },
   {
    "duration": 5,
    "start_time": "2022-09-01T05:24:17.868Z"
   },
   {
    "duration": 5,
    "start_time": "2022-09-01T05:24:17.874Z"
   },
   {
    "duration": 3,
    "start_time": "2022-09-01T05:24:17.880Z"
   },
   {
    "duration": 8,
    "start_time": "2022-09-01T05:24:17.906Z"
   },
   {
    "duration": 12,
    "start_time": "2022-09-01T05:24:17.916Z"
   },
   {
    "duration": 11,
    "start_time": "2022-09-01T05:24:17.929Z"
   },
   {
    "duration": 8,
    "start_time": "2022-09-01T05:24:17.941Z"
   },
   {
    "duration": 9,
    "start_time": "2022-09-01T05:24:34.057Z"
   },
   {
    "duration": 9,
    "start_time": "2022-09-01T05:24:42.494Z"
   },
   {
    "duration": 8,
    "start_time": "2022-09-01T05:24:46.631Z"
   },
   {
    "duration": 16,
    "start_time": "2022-09-01T05:24:53.046Z"
   },
   {
    "duration": 11,
    "start_time": "2022-09-01T05:25:00.519Z"
   },
   {
    "duration": 18,
    "start_time": "2022-09-01T05:25:06.520Z"
   },
   {
    "duration": 10,
    "start_time": "2022-09-01T05:25:29.574Z"
   },
   {
    "duration": 10,
    "start_time": "2022-09-01T05:25:30.871Z"
   },
   {
    "duration": 3,
    "start_time": "2022-09-01T05:26:56.987Z"
   },
   {
    "duration": 83,
    "start_time": "2022-09-01T05:26:56.993Z"
   },
   {
    "duration": 15,
    "start_time": "2022-09-01T05:26:57.078Z"
   },
   {
    "duration": 16,
    "start_time": "2022-09-01T05:26:57.094Z"
   },
   {
    "duration": 11,
    "start_time": "2022-09-01T05:26:57.111Z"
   },
   {
    "duration": 5,
    "start_time": "2022-09-01T05:26:57.123Z"
   },
   {
    "duration": 7,
    "start_time": "2022-09-01T05:26:57.129Z"
   },
   {
    "duration": 4,
    "start_time": "2022-09-01T05:26:57.137Z"
   },
   {
    "duration": 11,
    "start_time": "2022-09-01T05:26:57.142Z"
   },
   {
    "duration": 9,
    "start_time": "2022-09-01T05:26:57.154Z"
   },
   {
    "duration": 176,
    "start_time": "2022-09-01T05:26:57.167Z"
   },
   {
    "duration": 9,
    "start_time": "2022-09-01T05:26:57.345Z"
   },
   {
    "duration": 845,
    "start_time": "2022-09-01T05:26:57.356Z"
   },
   {
    "duration": 144,
    "start_time": "2022-09-01T05:26:58.205Z"
   },
   {
    "duration": 8,
    "start_time": "2022-09-01T05:26:58.350Z"
   },
   {
    "duration": 127,
    "start_time": "2022-09-01T05:26:58.360Z"
   },
   {
    "duration": 4,
    "start_time": "2022-09-01T05:26:58.488Z"
   },
   {
    "duration": 15,
    "start_time": "2022-09-01T05:26:58.493Z"
   },
   {
    "duration": 7,
    "start_time": "2022-09-01T05:26:58.509Z"
   },
   {
    "duration": 10,
    "start_time": "2022-09-01T05:26:58.517Z"
   },
   {
    "duration": 129,
    "start_time": "2022-09-01T05:26:58.528Z"
   },
   {
    "duration": 3,
    "start_time": "2022-09-01T05:26:58.659Z"
   },
   {
    "duration": 9,
    "start_time": "2022-09-01T05:26:58.664Z"
   },
   {
    "duration": 156,
    "start_time": "2022-09-01T05:26:58.674Z"
   },
   {
    "duration": 137,
    "start_time": "2022-09-01T05:26:58.832Z"
   },
   {
    "duration": 7,
    "start_time": "2022-09-01T05:26:58.971Z"
   },
   {
    "duration": 8,
    "start_time": "2022-09-01T05:26:58.979Z"
   },
   {
    "duration": 139,
    "start_time": "2022-09-01T05:26:58.988Z"
   },
   {
    "duration": 7,
    "start_time": "2022-09-01T05:26:59.130Z"
   },
   {
    "duration": 7,
    "start_time": "2022-09-01T05:26:59.138Z"
   },
   {
    "duration": 6,
    "start_time": "2022-09-01T05:26:59.146Z"
   },
   {
    "duration": 8,
    "start_time": "2022-09-01T05:26:59.153Z"
   },
   {
    "duration": 163,
    "start_time": "2022-09-01T05:26:59.163Z"
   },
   {
    "duration": 5,
    "start_time": "2022-09-01T05:26:59.328Z"
   },
   {
    "duration": 10,
    "start_time": "2022-09-01T05:26:59.334Z"
   },
   {
    "duration": 12,
    "start_time": "2022-09-01T05:26:59.345Z"
   },
   {
    "duration": 11,
    "start_time": "2022-09-01T05:26:59.358Z"
   },
   {
    "duration": 11,
    "start_time": "2022-09-01T05:26:59.370Z"
   },
   {
    "duration": 34,
    "start_time": "2022-09-01T05:26:59.383Z"
   },
   {
    "duration": 3,
    "start_time": "2022-09-01T05:26:59.419Z"
   },
   {
    "duration": 5,
    "start_time": "2022-09-01T05:26:59.423Z"
   },
   {
    "duration": 12,
    "start_time": "2022-09-01T05:26:59.429Z"
   },
   {
    "duration": 7,
    "start_time": "2022-09-01T05:26:59.442Z"
   },
   {
    "duration": 13,
    "start_time": "2022-09-01T05:26:59.450Z"
   },
   {
    "duration": 4,
    "start_time": "2022-09-01T05:26:59.464Z"
   },
   {
    "duration": 37,
    "start_time": "2022-09-01T05:26:59.470Z"
   },
   {
    "duration": 4,
    "start_time": "2022-09-01T05:26:59.509Z"
   },
   {
    "duration": 6,
    "start_time": "2022-09-01T05:26:59.515Z"
   },
   {
    "duration": 6,
    "start_time": "2022-09-01T05:26:59.522Z"
   },
   {
    "duration": 4,
    "start_time": "2022-09-01T05:26:59.530Z"
   },
   {
    "duration": 3,
    "start_time": "2022-09-01T05:26:59.535Z"
   },
   {
    "duration": 9,
    "start_time": "2022-09-01T05:26:59.540Z"
   },
   {
    "duration": 12,
    "start_time": "2022-09-01T05:26:59.550Z"
   },
   {
    "duration": 43,
    "start_time": "2022-09-01T05:26:59.564Z"
   },
   {
    "duration": 9,
    "start_time": "2022-09-01T05:26:59.608Z"
   },
   {
    "duration": 11,
    "start_time": "2022-09-01T05:26:59.618Z"
   },
   {
    "duration": 10,
    "start_time": "2022-09-01T05:26:59.631Z"
   },
   {
    "duration": 11,
    "start_time": "2022-09-01T05:26:59.643Z"
   },
   {
    "duration": 3,
    "start_time": "2022-09-01T05:26:59.656Z"
   },
   {
    "duration": 5,
    "start_time": "2022-09-01T05:26:59.661Z"
   },
   {
    "duration": 39,
    "start_time": "2022-09-01T05:26:59.668Z"
   },
   {
    "duration": 4,
    "start_time": "2022-09-01T05:26:59.708Z"
   },
   {
    "duration": 11,
    "start_time": "2022-09-01T05:26:59.714Z"
   },
   {
    "duration": 5,
    "start_time": "2022-09-01T05:26:59.726Z"
   },
   {
    "duration": 5,
    "start_time": "2022-09-01T05:26:59.732Z"
   },
   {
    "duration": 4,
    "start_time": "2022-09-01T05:27:34.978Z"
   },
   {
    "duration": 71,
    "start_time": "2022-09-01T05:27:34.985Z"
   },
   {
    "duration": 13,
    "start_time": "2022-09-01T05:27:35.058Z"
   },
   {
    "duration": 16,
    "start_time": "2022-09-01T05:27:35.072Z"
   },
   {
    "duration": 10,
    "start_time": "2022-09-01T05:27:35.090Z"
   },
   {
    "duration": 5,
    "start_time": "2022-09-01T05:27:35.102Z"
   },
   {
    "duration": 4,
    "start_time": "2022-09-01T05:27:35.108Z"
   },
   {
    "duration": 5,
    "start_time": "2022-09-01T05:27:35.114Z"
   },
   {
    "duration": 9,
    "start_time": "2022-09-01T05:27:35.120Z"
   },
   {
    "duration": 8,
    "start_time": "2022-09-01T05:27:35.131Z"
   },
   {
    "duration": 181,
    "start_time": "2022-09-01T05:27:35.142Z"
   },
   {
    "duration": 7,
    "start_time": "2022-09-01T05:27:35.324Z"
   },
   {
    "duration": 890,
    "start_time": "2022-09-01T05:27:35.333Z"
   },
   {
    "duration": 306,
    "start_time": "2022-09-01T05:27:36.225Z"
   },
   {
    "duration": 8,
    "start_time": "2022-09-01T05:27:36.533Z"
   },
   {
    "duration": 144,
    "start_time": "2022-09-01T05:27:36.543Z"
   },
   {
    "duration": 4,
    "start_time": "2022-09-01T05:27:36.689Z"
   },
   {
    "duration": 4,
    "start_time": "2022-09-01T05:27:36.706Z"
   },
   {
    "duration": 8,
    "start_time": "2022-09-01T05:27:36.711Z"
   },
   {
    "duration": 6,
    "start_time": "2022-09-01T05:27:36.720Z"
   },
   {
    "duration": 120,
    "start_time": "2022-09-01T05:27:36.727Z"
   },
   {
    "duration": 3,
    "start_time": "2022-09-01T05:27:36.849Z"
   },
   {
    "duration": 11,
    "start_time": "2022-09-01T05:27:36.853Z"
   },
   {
    "duration": 141,
    "start_time": "2022-09-01T05:27:36.865Z"
   },
   {
    "duration": 124,
    "start_time": "2022-09-01T05:27:37.007Z"
   },
   {
    "duration": 7,
    "start_time": "2022-09-01T05:27:37.133Z"
   },
   {
    "duration": 6,
    "start_time": "2022-09-01T05:27:37.142Z"
   },
   {
    "duration": 151,
    "start_time": "2022-09-01T05:27:37.150Z"
   },
   {
    "duration": 8,
    "start_time": "2022-09-01T05:27:37.308Z"
   },
   {
    "duration": 7,
    "start_time": "2022-09-01T05:27:37.317Z"
   },
   {
    "duration": 7,
    "start_time": "2022-09-01T05:27:37.326Z"
   },
   {
    "duration": 9,
    "start_time": "2022-09-01T05:27:37.335Z"
   },
   {
    "duration": 181,
    "start_time": "2022-09-01T05:27:37.345Z"
   },
   {
    "duration": 5,
    "start_time": "2022-09-01T05:27:37.528Z"
   },
   {
    "duration": 8,
    "start_time": "2022-09-01T05:27:37.534Z"
   },
   {
    "duration": 13,
    "start_time": "2022-09-01T05:27:37.543Z"
   },
   {
    "duration": 12,
    "start_time": "2022-09-01T05:27:37.557Z"
   },
   {
    "duration": 35,
    "start_time": "2022-09-01T05:27:37.571Z"
   },
   {
    "duration": 14,
    "start_time": "2022-09-01T05:27:37.608Z"
   },
   {
    "duration": 4,
    "start_time": "2022-09-01T05:27:37.624Z"
   },
   {
    "duration": 5,
    "start_time": "2022-09-01T05:27:37.629Z"
   },
   {
    "duration": 11,
    "start_time": "2022-09-01T05:27:37.636Z"
   },
   {
    "duration": 8,
    "start_time": "2022-09-01T05:27:37.649Z"
   },
   {
    "duration": 13,
    "start_time": "2022-09-01T05:27:37.658Z"
   },
   {
    "duration": 37,
    "start_time": "2022-09-01T05:27:37.672Z"
   },
   {
    "duration": 5,
    "start_time": "2022-09-01T05:27:37.711Z"
   },
   {
    "duration": 5,
    "start_time": "2022-09-01T05:27:37.718Z"
   },
   {
    "duration": 5,
    "start_time": "2022-09-01T05:27:37.725Z"
   },
   {
    "duration": 6,
    "start_time": "2022-09-01T05:27:37.731Z"
   },
   {
    "duration": 5,
    "start_time": "2022-09-01T05:27:37.739Z"
   },
   {
    "duration": 4,
    "start_time": "2022-09-01T05:27:37.745Z"
   },
   {
    "duration": 11,
    "start_time": "2022-09-01T05:27:37.751Z"
   },
   {
    "duration": 54,
    "start_time": "2022-09-01T05:27:37.763Z"
   },
   {
    "duration": 12,
    "start_time": "2022-09-01T05:27:37.818Z"
   },
   {
    "duration": 10,
    "start_time": "2022-09-01T05:27:37.832Z"
   },
   {
    "duration": 12,
    "start_time": "2022-09-01T05:27:37.844Z"
   },
   {
    "duration": 12,
    "start_time": "2022-09-01T05:27:37.857Z"
   },
   {
    "duration": 43,
    "start_time": "2022-09-01T05:27:37.871Z"
   },
   {
    "duration": 3,
    "start_time": "2022-09-01T05:27:37.916Z"
   },
   {
    "duration": 6,
    "start_time": "2022-09-01T05:27:37.921Z"
   },
   {
    "duration": 5,
    "start_time": "2022-09-01T05:27:37.928Z"
   },
   {
    "duration": 4,
    "start_time": "2022-09-01T05:32:01.451Z"
   },
   {
    "duration": 84,
    "start_time": "2022-09-01T05:32:01.457Z"
   },
   {
    "duration": 13,
    "start_time": "2022-09-01T05:32:01.543Z"
   },
   {
    "duration": 17,
    "start_time": "2022-09-01T05:32:01.557Z"
   },
   {
    "duration": 10,
    "start_time": "2022-09-01T05:32:01.575Z"
   },
   {
    "duration": 4,
    "start_time": "2022-09-01T05:32:01.586Z"
   },
   {
    "duration": 10,
    "start_time": "2022-09-01T05:32:01.592Z"
   },
   {
    "duration": 18,
    "start_time": "2022-09-01T05:32:01.605Z"
   },
   {
    "duration": 42,
    "start_time": "2022-09-01T05:32:01.624Z"
   },
   {
    "duration": 30,
    "start_time": "2022-09-01T05:32:01.667Z"
   },
   {
    "duration": 146,
    "start_time": "2022-09-01T05:32:01.699Z"
   },
   {
    "duration": 7,
    "start_time": "2022-09-01T05:32:01.847Z"
   },
   {
    "duration": 785,
    "start_time": "2022-09-01T05:32:01.856Z"
   },
   {
    "duration": 139,
    "start_time": "2022-09-01T05:32:02.642Z"
   },
   {
    "duration": 8,
    "start_time": "2022-09-01T05:32:02.782Z"
   },
   {
    "duration": 130,
    "start_time": "2022-09-01T05:32:02.791Z"
   },
   {
    "duration": 5,
    "start_time": "2022-09-01T05:32:02.922Z"
   },
   {
    "duration": 24,
    "start_time": "2022-09-01T05:32:02.928Z"
   },
   {
    "duration": 35,
    "start_time": "2022-09-01T05:32:02.954Z"
   },
   {
    "duration": 13,
    "start_time": "2022-09-01T05:32:02.990Z"
   },
   {
    "duration": 140,
    "start_time": "2022-09-01T05:32:03.004Z"
   },
   {
    "duration": 4,
    "start_time": "2022-09-01T05:32:03.145Z"
   },
   {
    "duration": 28,
    "start_time": "2022-09-01T05:32:03.150Z"
   },
   {
    "duration": 156,
    "start_time": "2022-09-01T05:32:03.179Z"
   },
   {
    "duration": 129,
    "start_time": "2022-09-01T05:32:03.337Z"
   },
   {
    "duration": 7,
    "start_time": "2022-09-01T05:32:03.467Z"
   },
   {
    "duration": 33,
    "start_time": "2022-09-01T05:32:03.475Z"
   },
   {
    "duration": 132,
    "start_time": "2022-09-01T05:32:03.509Z"
   },
   {
    "duration": 7,
    "start_time": "2022-09-01T05:32:03.644Z"
   },
   {
    "duration": 17,
    "start_time": "2022-09-01T05:32:03.652Z"
   },
   {
    "duration": 38,
    "start_time": "2022-09-01T05:32:03.670Z"
   },
   {
    "duration": 24,
    "start_time": "2022-09-01T05:32:03.709Z"
   },
   {
    "duration": 141,
    "start_time": "2022-09-01T05:32:03.734Z"
   },
   {
    "duration": 5,
    "start_time": "2022-09-01T05:32:03.876Z"
   },
   {
    "duration": 35,
    "start_time": "2022-09-01T05:32:03.882Z"
   },
   {
    "duration": 33,
    "start_time": "2022-09-01T05:32:03.918Z"
   },
   {
    "duration": 21,
    "start_time": "2022-09-01T05:32:03.952Z"
   },
   {
    "duration": 50,
    "start_time": "2022-09-01T05:32:03.976Z"
   },
   {
    "duration": 46,
    "start_time": "2022-09-01T05:32:04.028Z"
   },
   {
    "duration": 10,
    "start_time": "2022-09-01T05:32:04.076Z"
   },
   {
    "duration": 45,
    "start_time": "2022-09-01T05:32:04.088Z"
   },
   {
    "duration": 26,
    "start_time": "2022-09-01T05:32:04.135Z"
   },
   {
    "duration": 35,
    "start_time": "2022-09-01T05:32:04.163Z"
   },
   {
    "duration": 34,
    "start_time": "2022-09-01T05:32:04.199Z"
   },
   {
    "duration": 22,
    "start_time": "2022-09-01T05:32:04.234Z"
   },
   {
    "duration": 35,
    "start_time": "2022-09-01T05:32:04.258Z"
   },
   {
    "duration": 20,
    "start_time": "2022-09-01T05:32:04.294Z"
   },
   {
    "duration": 36,
    "start_time": "2022-09-01T05:32:04.315Z"
   },
   {
    "duration": 28,
    "start_time": "2022-09-01T05:32:04.353Z"
   },
   {
    "duration": 27,
    "start_time": "2022-09-01T05:32:04.382Z"
   },
   {
    "duration": 43,
    "start_time": "2022-09-01T05:32:04.411Z"
   },
   {
    "duration": 30,
    "start_time": "2022-09-01T05:32:04.456Z"
   },
   {
    "duration": 44,
    "start_time": "2022-09-01T05:32:04.488Z"
   },
   {
    "duration": 17,
    "start_time": "2022-09-01T05:32:04.534Z"
   },
   {
    "duration": 30,
    "start_time": "2022-09-01T05:32:04.553Z"
   },
   {
    "duration": 30,
    "start_time": "2022-09-01T05:32:04.585Z"
   },
   {
    "duration": 14,
    "start_time": "2022-09-01T05:32:04.616Z"
   },
   {
    "duration": 41,
    "start_time": "2022-09-01T05:32:04.632Z"
   },
   {
    "duration": 21,
    "start_time": "2022-09-01T05:32:04.675Z"
   },
   {
    "duration": 45,
    "start_time": "2022-09-01T05:32:04.698Z"
   },
   {
    "duration": 27,
    "start_time": "2022-09-01T05:32:04.744Z"
   },
   {
    "duration": 292,
    "start_time": "2022-09-01T05:32:04.772Z"
   },
   {
    "duration": 271,
    "start_time": "2022-09-01T05:32:05.065Z"
   },
   {
    "duration": 284,
    "start_time": "2022-09-01T05:32:20.996Z"
   },
   {
    "duration": 293,
    "start_time": "2022-09-01T05:33:19.535Z"
   },
   {
    "duration": 49504,
    "start_time": "2022-09-01T05:53:35.868Z"
   },
   {
    "duration": 35233,
    "start_time": "2022-09-01T05:55:44.636Z"
   },
   {
    "duration": 11852,
    "start_time": "2022-09-01T05:57:53.277Z"
   },
   {
    "duration": 4,
    "start_time": "2022-09-01T05:58:37.250Z"
   },
   {
    "duration": 91,
    "start_time": "2022-09-01T05:58:37.257Z"
   },
   {
    "duration": 15,
    "start_time": "2022-09-01T05:58:37.350Z"
   },
   {
    "duration": 15,
    "start_time": "2022-09-01T05:58:37.366Z"
   },
   {
    "duration": 11,
    "start_time": "2022-09-01T05:58:37.383Z"
   },
   {
    "duration": 5,
    "start_time": "2022-09-01T05:58:37.395Z"
   },
   {
    "duration": 4,
    "start_time": "2022-09-01T05:58:37.406Z"
   },
   {
    "duration": 4,
    "start_time": "2022-09-01T05:58:37.411Z"
   },
   {
    "duration": 11,
    "start_time": "2022-09-01T05:58:37.417Z"
   },
   {
    "duration": 7,
    "start_time": "2022-09-01T05:58:37.430Z"
   },
   {
    "duration": 190,
    "start_time": "2022-09-01T05:58:37.440Z"
   },
   {
    "duration": 9,
    "start_time": "2022-09-01T05:58:37.632Z"
   },
   {
    "duration": 952,
    "start_time": "2022-09-01T05:58:37.643Z"
   },
   {
    "duration": 350,
    "start_time": "2022-09-01T05:58:38.597Z"
   },
   {
    "duration": 8,
    "start_time": "2022-09-01T05:58:38.949Z"
   },
   {
    "duration": 150,
    "start_time": "2022-09-01T05:58:38.958Z"
   },
   {
    "duration": 4,
    "start_time": "2022-09-01T05:58:39.110Z"
   },
   {
    "duration": 6,
    "start_time": "2022-09-01T05:58:39.116Z"
   },
   {
    "duration": 6,
    "start_time": "2022-09-01T05:58:39.123Z"
   },
   {
    "duration": 6,
    "start_time": "2022-09-01T05:58:39.130Z"
   },
   {
    "duration": 156,
    "start_time": "2022-09-01T05:58:39.138Z"
   },
   {
    "duration": 11,
    "start_time": "2022-09-01T05:58:39.296Z"
   },
   {
    "duration": 13,
    "start_time": "2022-09-01T05:58:39.309Z"
   },
   {
    "duration": 157,
    "start_time": "2022-09-01T05:58:39.324Z"
   },
   {
    "duration": 154,
    "start_time": "2022-09-01T05:58:39.482Z"
   },
   {
    "duration": 7,
    "start_time": "2022-09-01T05:58:39.637Z"
   },
   {
    "duration": 8,
    "start_time": "2022-09-01T05:58:39.646Z"
   },
   {
    "duration": 164,
    "start_time": "2022-09-01T05:58:39.656Z"
   },
   {
    "duration": 7,
    "start_time": "2022-09-01T05:58:39.825Z"
   },
   {
    "duration": 7,
    "start_time": "2022-09-01T05:58:39.834Z"
   },
   {
    "duration": 6,
    "start_time": "2022-09-01T05:58:39.842Z"
   },
   {
    "duration": 9,
    "start_time": "2022-09-01T05:58:39.850Z"
   },
   {
    "duration": 182,
    "start_time": "2022-09-01T05:58:39.861Z"
   },
   {
    "duration": 6,
    "start_time": "2022-09-01T05:58:40.045Z"
   },
   {
    "duration": 21,
    "start_time": "2022-09-01T05:58:40.053Z"
   },
   {
    "duration": 22,
    "start_time": "2022-09-01T05:58:40.076Z"
   },
   {
    "duration": 11,
    "start_time": "2022-09-01T05:58:40.100Z"
   },
   {
    "duration": 12,
    "start_time": "2022-09-01T05:58:40.113Z"
   },
   {
    "duration": 13,
    "start_time": "2022-09-01T05:58:40.127Z"
   },
   {
    "duration": 4,
    "start_time": "2022-09-01T05:58:40.142Z"
   },
   {
    "duration": 5,
    "start_time": "2022-09-01T05:58:40.147Z"
   },
   {
    "duration": 16,
    "start_time": "2022-09-01T05:58:40.153Z"
   },
   {
    "duration": 8,
    "start_time": "2022-09-01T05:58:40.170Z"
   },
   {
    "duration": 17,
    "start_time": "2022-09-01T05:58:40.205Z"
   },
   {
    "duration": 8,
    "start_time": "2022-09-01T05:58:40.224Z"
   },
   {
    "duration": 7,
    "start_time": "2022-09-01T05:58:40.234Z"
   },
   {
    "duration": 6,
    "start_time": "2022-09-01T05:58:40.242Z"
   },
   {
    "duration": 6,
    "start_time": "2022-09-01T05:58:40.249Z"
   },
   {
    "duration": 5,
    "start_time": "2022-09-01T05:58:40.257Z"
   },
   {
    "duration": 5,
    "start_time": "2022-09-01T05:58:40.264Z"
   },
   {
    "duration": 4,
    "start_time": "2022-09-01T05:58:40.271Z"
   },
   {
    "duration": 36,
    "start_time": "2022-09-01T05:58:40.277Z"
   },
   {
    "duration": 15,
    "start_time": "2022-09-01T05:58:40.315Z"
   },
   {
    "duration": 11,
    "start_time": "2022-09-01T05:58:40.331Z"
   },
   {
    "duration": 12,
    "start_time": "2022-09-01T05:58:40.344Z"
   },
   {
    "duration": 13,
    "start_time": "2022-09-01T05:58:40.357Z"
   },
   {
    "duration": 46,
    "start_time": "2022-09-01T05:58:40.371Z"
   },
   {
    "duration": 12,
    "start_time": "2022-09-01T05:58:40.418Z"
   },
   {
    "duration": 3,
    "start_time": "2022-09-01T05:58:40.432Z"
   },
   {
    "duration": 6,
    "start_time": "2022-09-01T05:58:40.437Z"
   },
   {
    "duration": 5,
    "start_time": "2022-09-01T05:58:40.445Z"
   },
   {
    "duration": 12017,
    "start_time": "2022-09-01T05:58:40.451Z"
   },
   {
    "duration": 21,
    "start_time": "2022-09-01T05:58:52.469Z"
   },
   {
    "duration": 15,
    "start_time": "2022-09-01T05:58:52.491Z"
   },
   {
    "duration": 4,
    "start_time": "2022-09-01T05:58:52.508Z"
   },
   {
    "duration": 4,
    "start_time": "2022-09-01T05:58:52.513Z"
   },
   {
    "duration": 5,
    "start_time": "2022-09-01T05:58:52.519Z"
   },
   {
    "duration": 4,
    "start_time": "2022-09-01T05:58:52.525Z"
   },
   {
    "duration": 6,
    "start_time": "2022-09-01T06:11:53.635Z"
   },
   {
    "duration": 23709,
    "start_time": "2022-09-01T06:11:57.061Z"
   },
   {
    "duration": 136,
    "start_time": "2022-09-01T06:12:38.172Z"
   },
   {
    "duration": 6,
    "start_time": "2022-09-01T06:12:39.651Z"
   },
   {
    "duration": 16,
    "start_time": "2022-09-01T06:12:42.300Z"
   },
   {
    "duration": 5,
    "start_time": "2022-09-01T06:12:44.193Z"
   },
   {
    "duration": 173,
    "start_time": "2022-09-01T06:13:00.133Z"
   },
   {
    "duration": 5,
    "start_time": "2022-09-01T06:13:02.469Z"
   },
   {
    "duration": 262,
    "start_time": "2022-09-01T06:13:06.449Z"
   },
   {
    "duration": 6,
    "start_time": "2022-09-01T06:13:08.426Z"
   },
   {
    "duration": 11,
    "start_time": "2022-09-01T06:13:09.936Z"
   },
   {
    "duration": 6,
    "start_time": "2022-09-01T06:13:11.320Z"
   },
   {
    "duration": 20,
    "start_time": "2022-09-01T06:13:33.749Z"
   },
   {
    "duration": 123,
    "start_time": "2022-09-01T06:13:36.484Z"
   },
   {
    "duration": 31,
    "start_time": "2022-09-01T06:13:38.246Z"
   },
   {
    "duration": 20,
    "start_time": "2022-09-01T06:15:08.506Z"
   },
   {
    "duration": 5,
    "start_time": "2022-09-01T06:16:23.618Z"
   },
   {
    "duration": 10,
    "start_time": "2022-09-01T06:16:24.638Z"
   },
   {
    "duration": 4,
    "start_time": "2022-09-01T06:16:26.334Z"
   },
   {
    "duration": 4,
    "start_time": "2022-09-01T06:16:27.132Z"
   },
   {
    "duration": 5,
    "start_time": "2022-09-01T06:16:27.484Z"
   },
   {
    "duration": 4,
    "start_time": "2022-09-01T06:16:29.366Z"
   },
   {
    "duration": 374,
    "start_time": "2022-09-01T06:16:38.566Z"
   },
   {
    "duration": 11679,
    "start_time": "2022-09-01T06:17:43.459Z"
   },
   {
    "duration": 8,
    "start_time": "2022-09-01T06:28:33.937Z"
   },
   {
    "duration": 6,
    "start_time": "2022-09-01T06:28:41.755Z"
   },
   {
    "duration": 3,
    "start_time": "2022-09-01T06:28:52.107Z"
   },
   {
    "duration": 90,
    "start_time": "2022-09-01T06:28:52.113Z"
   },
   {
    "duration": 13,
    "start_time": "2022-09-01T06:28:52.204Z"
   },
   {
    "duration": 19,
    "start_time": "2022-09-01T06:28:52.218Z"
   },
   {
    "duration": 12,
    "start_time": "2022-09-01T06:28:52.239Z"
   },
   {
    "duration": 5,
    "start_time": "2022-09-01T06:28:52.252Z"
   },
   {
    "duration": 8,
    "start_time": "2022-09-01T06:28:52.258Z"
   },
   {
    "duration": 14,
    "start_time": "2022-09-01T06:28:52.268Z"
   },
   {
    "duration": 9,
    "start_time": "2022-09-01T06:28:52.284Z"
   },
   {
    "duration": 17,
    "start_time": "2022-09-01T06:28:52.294Z"
   },
   {
    "duration": 148,
    "start_time": "2022-09-01T06:28:52.314Z"
   },
   {
    "duration": 7,
    "start_time": "2022-09-01T06:28:52.464Z"
   },
   {
    "duration": 793,
    "start_time": "2022-09-01T06:28:52.473Z"
   },
   {
    "duration": 150,
    "start_time": "2022-09-01T06:28:53.268Z"
   },
   {
    "duration": 8,
    "start_time": "2022-09-01T06:28:53.419Z"
   },
   {
    "duration": 129,
    "start_time": "2022-09-01T06:28:53.428Z"
   },
   {
    "duration": 4,
    "start_time": "2022-09-01T06:28:53.559Z"
   },
   {
    "duration": 5,
    "start_time": "2022-09-01T06:28:53.565Z"
   },
   {
    "duration": 5,
    "start_time": "2022-09-01T06:28:53.571Z"
   },
   {
    "duration": 5,
    "start_time": "2022-09-01T06:28:53.577Z"
   },
   {
    "duration": 137,
    "start_time": "2022-09-01T06:28:53.583Z"
   },
   {
    "duration": 3,
    "start_time": "2022-09-01T06:28:53.722Z"
   },
   {
    "duration": 10,
    "start_time": "2022-09-01T06:28:53.727Z"
   },
   {
    "duration": 141,
    "start_time": "2022-09-01T06:28:53.738Z"
   },
   {
    "duration": 140,
    "start_time": "2022-09-01T06:28:53.880Z"
   },
   {
    "duration": 7,
    "start_time": "2022-09-01T06:28:54.021Z"
   },
   {
    "duration": 8,
    "start_time": "2022-09-01T06:28:54.029Z"
   },
   {
    "duration": 127,
    "start_time": "2022-09-01T06:28:54.040Z"
   },
   {
    "duration": 7,
    "start_time": "2022-09-01T06:28:54.171Z"
   },
   {
    "duration": 5,
    "start_time": "2022-09-01T06:28:54.180Z"
   },
   {
    "duration": 22,
    "start_time": "2022-09-01T06:28:54.187Z"
   },
   {
    "duration": 8,
    "start_time": "2022-09-01T06:28:54.211Z"
   },
   {
    "duration": 144,
    "start_time": "2022-09-01T06:28:54.221Z"
   },
   {
    "duration": 5,
    "start_time": "2022-09-01T06:28:54.367Z"
   },
   {
    "duration": 7,
    "start_time": "2022-09-01T06:28:54.374Z"
   },
   {
    "duration": 26,
    "start_time": "2022-09-01T06:28:54.383Z"
   },
   {
    "duration": 11,
    "start_time": "2022-09-01T06:28:54.410Z"
   },
   {
    "duration": 11,
    "start_time": "2022-09-01T06:28:54.423Z"
   },
   {
    "duration": 13,
    "start_time": "2022-09-01T06:28:54.436Z"
   },
   {
    "duration": 4,
    "start_time": "2022-09-01T06:28:54.451Z"
   },
   {
    "duration": 5,
    "start_time": "2022-09-01T06:28:54.457Z"
   },
   {
    "duration": 13,
    "start_time": "2022-09-01T06:28:54.464Z"
   },
   {
    "duration": 8,
    "start_time": "2022-09-01T06:28:54.505Z"
   },
   {
    "duration": 11,
    "start_time": "2022-09-01T06:28:54.515Z"
   },
   {
    "duration": 5,
    "start_time": "2022-09-01T06:28:54.527Z"
   },
   {
    "duration": 5,
    "start_time": "2022-09-01T06:28:54.533Z"
   },
   {
    "duration": 5,
    "start_time": "2022-09-01T06:28:54.539Z"
   },
   {
    "duration": 5,
    "start_time": "2022-09-01T06:28:54.545Z"
   },
   {
    "duration": 5,
    "start_time": "2022-09-01T06:28:54.551Z"
   },
   {
    "duration": 5,
    "start_time": "2022-09-01T06:28:54.557Z"
   },
   {
    "duration": 4,
    "start_time": "2022-09-01T06:28:54.563Z"
   },
   {
    "duration": 42,
    "start_time": "2022-09-01T06:28:54.568Z"
   },
   {
    "duration": 12,
    "start_time": "2022-09-01T06:28:54.612Z"
   },
   {
    "duration": 8,
    "start_time": "2022-09-01T06:28:54.625Z"
   },
   {
    "duration": 8,
    "start_time": "2022-09-01T06:28:54.635Z"
   },
   {
    "duration": 11,
    "start_time": "2022-09-01T06:28:54.644Z"
   },
   {
    "duration": 16,
    "start_time": "2022-09-01T06:28:54.656Z"
   },
   {
    "duration": 34,
    "start_time": "2022-09-01T06:28:54.674Z"
   },
   {
    "duration": 3,
    "start_time": "2022-09-01T06:28:54.710Z"
   },
   {
    "duration": 6,
    "start_time": "2022-09-01T06:28:54.714Z"
   },
   {
    "duration": 6,
    "start_time": "2022-09-01T06:28:54.721Z"
   },
   {
    "duration": 11806,
    "start_time": "2022-09-01T06:28:54.728Z"
   },
   {
    "duration": 24,
    "start_time": "2022-09-01T06:29:06.536Z"
   },
   {
    "duration": 5,
    "start_time": "2022-09-01T06:29:06.562Z"
   },
   {
    "duration": 8,
    "start_time": "2022-09-01T06:29:06.569Z"
   },
   {
    "duration": 4,
    "start_time": "2022-09-01T06:29:06.579Z"
   },
   {
    "duration": 25,
    "start_time": "2022-09-01T06:29:06.584Z"
   },
   {
    "duration": 5,
    "start_time": "2022-09-01T06:29:06.611Z"
   },
   {
    "duration": 23537,
    "start_time": "2022-09-01T06:29:06.617Z"
   },
   {
    "duration": 129,
    "start_time": "2022-09-01T06:29:30.156Z"
   },
   {
    "duration": 6,
    "start_time": "2022-09-01T06:29:30.287Z"
   },
   {
    "duration": 22,
    "start_time": "2022-09-01T06:29:30.295Z"
   },
   {
    "duration": 4,
    "start_time": "2022-09-01T06:29:30.319Z"
   },
   {
    "duration": 188,
    "start_time": "2022-09-01T06:29:30.324Z"
   },
   {
    "duration": 96,
    "start_time": "2022-09-01T06:29:30.514Z"
   },
   {
    "duration": 99,
    "start_time": "2022-09-01T06:29:30.611Z"
   },
   {
    "duration": 102,
    "start_time": "2022-09-01T06:29:30.712Z"
   },
   {
    "duration": 393,
    "start_time": "2022-09-01T06:29:30.816Z"
   },
   {
    "duration": 96,
    "start_time": "2022-09-01T06:29:31.211Z"
   },
   {
    "duration": 13,
    "start_time": "2022-09-01T06:29:31.308Z"
   },
   {
    "duration": 84,
    "start_time": "2022-09-01T06:29:31.323Z"
   },
   {
    "duration": 103,
    "start_time": "2022-09-01T06:29:31.408Z"
   },
   {
    "duration": 222,
    "start_time": "2022-09-01T06:29:31.517Z"
   },
   {
    "duration": 114,
    "start_time": "2022-09-01T06:29:31.809Z"
   },
   {
    "duration": 11,
    "start_time": "2022-09-01T06:30:59.138Z"
   },
   {
    "duration": 4,
    "start_time": "2022-09-01T06:31:54.755Z"
   },
   {
    "duration": 11,
    "start_time": "2022-09-01T06:32:17.220Z"
   },
   {
    "duration": 1269,
    "start_time": "2022-09-01T06:33:07.430Z"
   },
   {
    "duration": 76,
    "start_time": "2022-09-01T06:33:08.701Z"
   },
   {
    "duration": 17,
    "start_time": "2022-09-01T06:33:08.778Z"
   },
   {
    "duration": 15,
    "start_time": "2022-09-01T06:33:08.796Z"
   },
   {
    "duration": 9,
    "start_time": "2022-09-01T06:33:08.812Z"
   },
   {
    "duration": 4,
    "start_time": "2022-09-01T06:33:08.822Z"
   },
   {
    "duration": 5,
    "start_time": "2022-09-01T06:33:08.828Z"
   },
   {
    "duration": 6,
    "start_time": "2022-09-01T06:33:08.834Z"
   },
   {
    "duration": 8,
    "start_time": "2022-09-01T06:33:08.841Z"
   },
   {
    "duration": 7,
    "start_time": "2022-09-01T06:33:08.851Z"
   },
   {
    "duration": 150,
    "start_time": "2022-09-01T06:33:08.859Z"
   },
   {
    "duration": 7,
    "start_time": "2022-09-01T06:33:09.010Z"
   },
   {
    "duration": 783,
    "start_time": "2022-09-01T06:33:09.018Z"
   },
   {
    "duration": 150,
    "start_time": "2022-09-01T06:33:09.802Z"
   },
   {
    "duration": 8,
    "start_time": "2022-09-01T06:33:09.954Z"
   },
   {
    "duration": 195,
    "start_time": "2022-09-01T06:33:09.964Z"
   },
   {
    "duration": 4,
    "start_time": "2022-09-01T06:33:10.161Z"
   },
   {
    "duration": 7,
    "start_time": "2022-09-01T06:33:10.167Z"
   },
   {
    "duration": 6,
    "start_time": "2022-09-01T06:33:10.176Z"
   },
   {
    "duration": 23,
    "start_time": "2022-09-01T06:33:10.183Z"
   },
   {
    "duration": 121,
    "start_time": "2022-09-01T06:33:10.208Z"
   },
   {
    "duration": 3,
    "start_time": "2022-09-01T06:33:10.331Z"
   },
   {
    "duration": 9,
    "start_time": "2022-09-01T06:33:10.336Z"
   },
   {
    "duration": 133,
    "start_time": "2022-09-01T06:33:10.347Z"
   },
   {
    "duration": 125,
    "start_time": "2022-09-01T06:33:10.482Z"
   },
   {
    "duration": 6,
    "start_time": "2022-09-01T06:33:10.609Z"
   },
   {
    "duration": 6,
    "start_time": "2022-09-01T06:33:10.616Z"
   },
   {
    "duration": 128,
    "start_time": "2022-09-01T06:33:10.625Z"
   },
   {
    "duration": 6,
    "start_time": "2022-09-01T06:33:10.754Z"
   },
   {
    "duration": 9,
    "start_time": "2022-09-01T06:33:10.761Z"
   },
   {
    "duration": 5,
    "start_time": "2022-09-01T06:33:10.771Z"
   },
   {
    "duration": 7,
    "start_time": "2022-09-01T06:33:10.778Z"
   },
   {
    "duration": 152,
    "start_time": "2022-09-01T06:33:10.787Z"
   },
   {
    "duration": 4,
    "start_time": "2022-09-01T06:33:10.941Z"
   },
   {
    "duration": 8,
    "start_time": "2022-09-01T06:33:10.946Z"
   },
   {
    "duration": 12,
    "start_time": "2022-09-01T06:33:10.955Z"
   },
   {
    "duration": 10,
    "start_time": "2022-09-01T06:33:10.968Z"
   },
   {
    "duration": 9,
    "start_time": "2022-09-01T06:33:11.005Z"
   },
   {
    "duration": 11,
    "start_time": "2022-09-01T06:33:11.016Z"
   },
   {
    "duration": 3,
    "start_time": "2022-09-01T06:33:11.029Z"
   },
   {
    "duration": 4,
    "start_time": "2022-09-01T06:33:11.033Z"
   },
   {
    "duration": 11,
    "start_time": "2022-09-01T06:33:11.039Z"
   },
   {
    "duration": 6,
    "start_time": "2022-09-01T06:33:11.051Z"
   },
   {
    "duration": 10,
    "start_time": "2022-09-01T06:33:11.059Z"
   },
   {
    "duration": 4,
    "start_time": "2022-09-01T06:33:11.070Z"
   },
   {
    "duration": 31,
    "start_time": "2022-09-01T06:33:11.075Z"
   },
   {
    "duration": 3,
    "start_time": "2022-09-01T06:33:11.108Z"
   },
   {
    "duration": 6,
    "start_time": "2022-09-01T06:33:11.112Z"
   },
   {
    "duration": 5,
    "start_time": "2022-09-01T06:33:11.119Z"
   },
   {
    "duration": 7,
    "start_time": "2022-09-01T06:33:11.125Z"
   },
   {
    "duration": 4,
    "start_time": "2022-09-01T06:33:11.133Z"
   },
   {
    "duration": 10,
    "start_time": "2022-09-01T06:33:11.138Z"
   },
   {
    "duration": 13,
    "start_time": "2022-09-01T06:33:11.149Z"
   },
   {
    "duration": 43,
    "start_time": "2022-09-01T06:33:11.164Z"
   },
   {
    "duration": 10,
    "start_time": "2022-09-01T06:33:11.208Z"
   },
   {
    "duration": 11,
    "start_time": "2022-09-01T06:33:11.220Z"
   },
   {
    "duration": 11,
    "start_time": "2022-09-01T06:33:11.232Z"
   },
   {
    "duration": 12,
    "start_time": "2022-09-01T06:33:11.245Z"
   },
   {
    "duration": 4,
    "start_time": "2022-09-01T06:33:11.259Z"
   },
   {
    "duration": 7,
    "start_time": "2022-09-01T06:33:11.264Z"
   },
   {
    "duration": 36,
    "start_time": "2022-09-01T06:33:11.272Z"
   },
   {
    "duration": 11639,
    "start_time": "2022-09-01T06:33:11.310Z"
   },
   {
    "duration": 23,
    "start_time": "2022-09-01T06:33:22.950Z"
   },
   {
    "duration": 5,
    "start_time": "2022-09-01T06:33:22.974Z"
   },
   {
    "duration": 6,
    "start_time": "2022-09-01T06:33:22.981Z"
   },
   {
    "duration": 21,
    "start_time": "2022-09-01T06:33:22.988Z"
   },
   {
    "duration": 6,
    "start_time": "2022-09-01T06:33:23.010Z"
   },
   {
    "duration": 5,
    "start_time": "2022-09-01T06:33:23.018Z"
   },
   {
    "duration": 24510,
    "start_time": "2022-09-01T06:33:23.024Z"
   },
   {
    "duration": 129,
    "start_time": "2022-09-01T06:33:47.536Z"
   },
   {
    "duration": 6,
    "start_time": "2022-09-01T06:33:47.666Z"
   },
   {
    "duration": 16,
    "start_time": "2022-09-01T06:33:47.673Z"
   },
   {
    "duration": 19,
    "start_time": "2022-09-01T06:33:47.690Z"
   },
   {
    "duration": 102,
    "start_time": "2022-09-01T06:33:47.711Z"
   },
   {
    "duration": 6,
    "start_time": "2022-09-01T06:33:47.814Z"
   },
   {
    "duration": 100,
    "start_time": "2022-09-01T06:33:47.907Z"
   },
   {
    "duration": 100,
    "start_time": "2022-09-01T06:33:48.009Z"
   },
   {
    "duration": 297,
    "start_time": "2022-09-01T06:33:48.110Z"
   },
   {
    "duration": 5,
    "start_time": "2022-09-01T06:33:48.409Z"
   },
   {
    "duration": 10,
    "start_time": "2022-09-01T06:33:48.506Z"
   },
   {
    "duration": 197,
    "start_time": "2022-09-01T06:33:48.518Z"
   },
   {
    "duration": 18,
    "start_time": "2022-09-01T06:33:48.720Z"
   },
   {
    "duration": 181,
    "start_time": "2022-09-01T06:33:48.742Z"
   },
   {
    "duration": 189,
    "start_time": "2022-09-01T06:33:48.924Z"
   },
   {
    "duration": 4,
    "start_time": "2022-09-01T06:33:49.114Z"
   },
   {
    "duration": 203,
    "start_time": "2022-09-01T06:33:49.119Z"
   },
   {
    "duration": 7,
    "start_time": "2022-09-01T06:33:49.323Z"
   },
   {
    "duration": 20,
    "start_time": "2022-09-01T06:33:49.331Z"
   },
   {
    "duration": 5,
    "start_time": "2022-09-01T06:33:49.352Z"
   },
   {
    "duration": 5,
    "start_time": "2022-09-01T06:33:49.359Z"
   },
   {
    "duration": 4,
    "start_time": "2022-09-01T06:33:49.365Z"
   },
   {
    "duration": 11739,
    "start_time": "2022-09-01T06:33:49.371Z"
   },
   {
    "duration": 24,
    "start_time": "2022-09-01T06:34:01.112Z"
   },
   {
    "duration": 7,
    "start_time": "2022-09-01T06:34:01.137Z"
   },
   {
    "duration": 11,
    "start_time": "2022-09-01T06:34:01.145Z"
   },
   {
    "duration": 14,
    "start_time": "2022-09-01T06:34:01.157Z"
   },
   {
    "duration": 8,
    "start_time": "2022-09-01T06:34:01.173Z"
   },
   {
    "duration": 17546,
    "start_time": "2022-09-01T06:34:01.182Z"
   },
   {
    "duration": 344,
    "start_time": "2022-09-01T06:34:18.730Z"
   },
   {
    "duration": 30,
    "start_time": "2022-09-01T06:34:19.076Z"
   },
   {
    "duration": 5,
    "start_time": "2022-09-01T06:34:19.108Z"
   },
   {
    "duration": 23,
    "start_time": "2022-09-01T06:34:19.115Z"
   },
   {
    "duration": 5,
    "start_time": "2022-09-01T06:34:19.140Z"
   },
   {
    "duration": 461,
    "start_time": "2022-09-01T06:34:19.146Z"
   },
   {
    "duration": 96,
    "start_time": "2022-09-01T06:34:19.611Z"
   },
   {
    "duration": 11,
    "start_time": "2022-09-01T06:34:19.709Z"
   },
   {
    "duration": 89,
    "start_time": "2022-09-01T06:34:19.722Z"
   },
   {
    "duration": 94,
    "start_time": "2022-09-01T06:34:19.813Z"
   },
   {
    "duration": 13,
    "start_time": "2022-09-01T06:34:19.909Z"
   },
   {
    "duration": 3,
    "start_time": "2022-09-01T06:34:19.923Z"
   },
   {
    "duration": 8,
    "start_time": "2022-09-01T06:34:19.927Z"
   },
   {
    "duration": 6,
    "start_time": "2022-09-01T06:34:19.936Z"
   },
   {
    "duration": 157,
    "start_time": "2022-09-01T06:34:19.943Z"
   },
   {
    "duration": 7820,
    "start_time": "2022-09-01T06:34:20.105Z"
   },
   {
    "duration": 183,
    "start_time": "2022-09-01T06:34:27.926Z"
   },
   {
    "duration": 96,
    "start_time": "2022-09-01T06:34:28.110Z"
   },
   {
    "duration": 9,
    "start_time": "2022-09-01T06:34:28.208Z"
   },
   {
    "duration": 3,
    "start_time": "2022-09-01T06:34:28.218Z"
   },
   {
    "duration": 4,
    "start_time": "2022-09-01T06:34:28.223Z"
   },
   {
    "duration": 5,
    "start_time": "2022-09-01T06:34:28.229Z"
   },
   {
    "duration": 216,
    "start_time": "2022-09-01T06:34:28.235Z"
   },
   {
    "duration": 11669,
    "start_time": "2022-09-01T06:34:28.452Z"
   },
   {
    "duration": 404,
    "start_time": "2022-09-01T06:34:40.123Z"
   },
   {
    "duration": 28,
    "start_time": "2022-09-01T06:34:40.529Z"
   },
   {
    "duration": 6,
    "start_time": "2022-09-01T06:34:40.558Z"
   },
   {
    "duration": 44,
    "start_time": "2022-09-01T06:34:40.565Z"
   },
   {
    "duration": 5,
    "start_time": "2022-09-01T06:34:40.611Z"
   },
   {
    "duration": 11,
    "start_time": "2022-09-01T06:34:40.618Z"
   },
   {
    "duration": 4,
    "start_time": "2022-09-01T06:34:40.630Z"
   },
   {
    "duration": 9,
    "start_time": "2022-09-01T06:34:40.635Z"
   },
   {
    "duration": 13,
    "start_time": "2022-09-01T06:34:40.645Z"
   },
   {
    "duration": 11,
    "start_time": "2022-09-01T06:34:40.659Z"
   },
   {
    "duration": 5,
    "start_time": "2022-09-01T06:34:40.672Z"
   },
   {
    "duration": 30,
    "start_time": "2022-09-01T06:34:40.678Z"
   },
   {
    "duration": 4,
    "start_time": "2022-09-01T06:34:40.710Z"
   },
   {
    "duration": 17,
    "start_time": "2022-09-01T06:34:40.715Z"
   },
   {
    "duration": 7,
    "start_time": "2022-09-01T06:34:40.733Z"
   },
   {
    "duration": 8,
    "start_time": "2022-09-01T06:34:40.742Z"
   },
   {
    "duration": 3,
    "start_time": "2022-09-01T06:34:40.752Z"
   },
   {
    "duration": 169,
    "start_time": "2022-09-01T06:49:58.941Z"
   },
   {
    "duration": 95,
    "start_time": "2022-09-01T06:50:50.875Z"
   },
   {
    "duration": 12,
    "start_time": "2022-09-01T06:50:56.001Z"
   },
   {
    "duration": 12,
    "start_time": "2022-09-01T06:51:03.149Z"
   },
   {
    "duration": 12389,
    "start_time": "2022-09-01T06:51:33.292Z"
   },
   {
    "duration": 6,
    "start_time": "2022-09-01T06:53:36.481Z"
   },
   {
    "duration": 6,
    "start_time": "2022-09-01T06:53:52.572Z"
   },
   {
    "duration": 5,
    "start_time": "2022-09-01T06:54:06.412Z"
   },
   {
    "duration": 6,
    "start_time": "2022-09-01T06:54:15.577Z"
   },
   {
    "duration": 8,
    "start_time": "2022-09-01T06:56:00.987Z"
   },
   {
    "duration": 5,
    "start_time": "2022-09-01T06:56:01.873Z"
   },
   {
    "duration": 11659,
    "start_time": "2022-09-01T07:02:43.866Z"
   },
   {
    "duration": 11920,
    "start_time": "2022-09-01T07:29:49.297Z"
   },
   {
    "duration": 1313,
    "start_time": "2022-09-01T07:30:50.501Z"
   },
   {
    "duration": 73,
    "start_time": "2022-09-01T07:30:51.816Z"
   },
   {
    "duration": 18,
    "start_time": "2022-09-01T07:30:51.890Z"
   },
   {
    "duration": 12,
    "start_time": "2022-09-01T07:30:51.910Z"
   },
   {
    "duration": 10,
    "start_time": "2022-09-01T07:30:51.923Z"
   },
   {
    "duration": 4,
    "start_time": "2022-09-01T07:30:51.934Z"
   },
   {
    "duration": 4,
    "start_time": "2022-09-01T07:30:51.940Z"
   },
   {
    "duration": 5,
    "start_time": "2022-09-01T07:30:51.945Z"
   },
   {
    "duration": 9,
    "start_time": "2022-09-01T07:30:51.951Z"
   },
   {
    "duration": 7,
    "start_time": "2022-09-01T07:30:51.962Z"
   },
   {
    "duration": 168,
    "start_time": "2022-09-01T07:30:51.970Z"
   },
   {
    "duration": 7,
    "start_time": "2022-09-01T07:30:52.140Z"
   },
   {
    "duration": 808,
    "start_time": "2022-09-01T07:30:52.148Z"
   },
   {
    "duration": 135,
    "start_time": "2022-09-01T07:30:52.958Z"
   },
   {
    "duration": 18,
    "start_time": "2022-09-01T07:30:53.094Z"
   },
   {
    "duration": 196,
    "start_time": "2022-09-01T07:30:53.114Z"
   },
   {
    "duration": 5,
    "start_time": "2022-09-01T07:30:53.312Z"
   },
   {
    "duration": 5,
    "start_time": "2022-09-01T07:30:53.318Z"
   },
   {
    "duration": 4,
    "start_time": "2022-09-01T07:30:53.325Z"
   },
   {
    "duration": 6,
    "start_time": "2022-09-01T07:30:53.331Z"
   },
   {
    "duration": 142,
    "start_time": "2022-09-01T07:30:53.339Z"
   },
   {
    "duration": 4,
    "start_time": "2022-09-01T07:30:53.483Z"
   },
   {
    "duration": 19,
    "start_time": "2022-09-01T07:30:53.488Z"
   },
   {
    "duration": 139,
    "start_time": "2022-09-01T07:30:53.508Z"
   },
   {
    "duration": 132,
    "start_time": "2022-09-01T07:30:53.648Z"
   },
   {
    "duration": 7,
    "start_time": "2022-09-01T07:30:53.782Z"
   },
   {
    "duration": 19,
    "start_time": "2022-09-01T07:30:53.790Z"
   },
   {
    "duration": 121,
    "start_time": "2022-09-01T07:30:53.813Z"
   },
   {
    "duration": 8,
    "start_time": "2022-09-01T07:30:53.936Z"
   },
   {
    "duration": 6,
    "start_time": "2022-09-01T07:30:53.946Z"
   },
   {
    "duration": 7,
    "start_time": "2022-09-01T07:30:53.953Z"
   },
   {
    "duration": 9,
    "start_time": "2022-09-01T07:30:53.961Z"
   },
   {
    "duration": 170,
    "start_time": "2022-09-01T07:30:53.971Z"
   },
   {
    "duration": 5,
    "start_time": "2022-09-01T07:30:54.142Z"
   },
   {
    "duration": 8,
    "start_time": "2022-09-01T07:30:54.148Z"
   },
   {
    "duration": 11,
    "start_time": "2022-09-01T07:30:54.157Z"
   },
   {
    "duration": 11,
    "start_time": "2022-09-01T07:30:54.170Z"
   },
   {
    "duration": 31,
    "start_time": "2022-09-01T07:30:54.182Z"
   },
   {
    "duration": 12,
    "start_time": "2022-09-01T07:30:54.214Z"
   },
   {
    "duration": 3,
    "start_time": "2022-09-01T07:30:54.228Z"
   },
   {
    "duration": 5,
    "start_time": "2022-09-01T07:30:54.233Z"
   },
   {
    "duration": 11,
    "start_time": "2022-09-01T07:30:54.239Z"
   },
   {
    "duration": 8,
    "start_time": "2022-09-01T07:30:54.252Z"
   },
   {
    "duration": 12,
    "start_time": "2022-09-01T07:30:54.262Z"
   },
   {
    "duration": 3,
    "start_time": "2022-09-01T07:30:54.306Z"
   },
   {
    "duration": 7,
    "start_time": "2022-09-01T07:30:54.311Z"
   },
   {
    "duration": 5,
    "start_time": "2022-09-01T07:30:54.320Z"
   },
   {
    "duration": 10,
    "start_time": "2022-09-01T07:30:54.326Z"
   },
   {
    "duration": 6,
    "start_time": "2022-09-01T07:30:54.337Z"
   },
   {
    "duration": 5,
    "start_time": "2022-09-01T07:30:54.344Z"
   },
   {
    "duration": 4,
    "start_time": "2022-09-01T07:30:54.351Z"
   },
   {
    "duration": 11,
    "start_time": "2022-09-01T07:30:54.356Z"
   },
   {
    "duration": 40,
    "start_time": "2022-09-01T07:30:54.368Z"
   },
   {
    "duration": 11,
    "start_time": "2022-09-01T07:30:54.410Z"
   },
   {
    "duration": 10,
    "start_time": "2022-09-01T07:30:54.422Z"
   },
   {
    "duration": 12,
    "start_time": "2022-09-01T07:30:54.434Z"
   },
   {
    "duration": 12,
    "start_time": "2022-09-01T07:30:54.448Z"
   },
   {
    "duration": 14,
    "start_time": "2022-09-01T07:30:54.461Z"
   },
   {
    "duration": 31,
    "start_time": "2022-09-01T07:30:54.476Z"
   },
   {
    "duration": 4,
    "start_time": "2022-09-01T07:30:54.509Z"
   },
   {
    "duration": 5,
    "start_time": "2022-09-01T07:30:54.515Z"
   },
   {
    "duration": 12237,
    "start_time": "2022-09-01T07:30:54.521Z"
   },
   {
    "duration": 21,
    "start_time": "2022-09-01T07:31:06.760Z"
   },
   {
    "duration": 5,
    "start_time": "2022-09-01T07:31:06.783Z"
   },
   {
    "duration": 18,
    "start_time": "2022-09-01T07:31:06.789Z"
   },
   {
    "duration": 6,
    "start_time": "2022-09-01T07:31:06.809Z"
   },
   {
    "duration": 7,
    "start_time": "2022-09-01T07:31:06.817Z"
   },
   {
    "duration": 13,
    "start_time": "2022-09-01T07:31:06.825Z"
   },
   {
    "duration": 24381,
    "start_time": "2022-09-01T07:31:06.839Z"
   },
   {
    "duration": 142,
    "start_time": "2022-09-01T07:31:31.222Z"
   },
   {
    "duration": 6,
    "start_time": "2022-09-01T07:31:31.366Z"
   },
   {
    "duration": 36,
    "start_time": "2022-09-01T07:31:31.373Z"
   },
   {
    "duration": 6,
    "start_time": "2022-09-01T07:31:31.410Z"
   },
   {
    "duration": 194,
    "start_time": "2022-09-01T07:31:31.417Z"
   },
   {
    "duration": 98,
    "start_time": "2022-09-01T07:31:31.612Z"
   },
   {
    "duration": 95,
    "start_time": "2022-09-01T07:31:31.712Z"
   },
   {
    "duration": 101,
    "start_time": "2022-09-01T07:31:31.809Z"
   },
   {
    "duration": 298,
    "start_time": "2022-09-01T07:31:31.912Z"
   },
   {
    "duration": 96,
    "start_time": "2022-09-01T07:31:32.212Z"
   },
   {
    "duration": 10,
    "start_time": "2022-09-01T07:31:32.309Z"
   },
   {
    "duration": 90,
    "start_time": "2022-09-01T07:31:32.321Z"
   },
   {
    "duration": 26,
    "start_time": "2022-09-01T07:31:32.507Z"
   },
   {
    "duration": 126,
    "start_time": "2022-09-01T07:31:32.606Z"
   },
   {
    "duration": 182,
    "start_time": "2022-09-01T07:31:32.734Z"
   },
   {
    "duration": 89,
    "start_time": "2022-09-01T07:31:32.918Z"
   },
   {
    "duration": 107,
    "start_time": "2022-09-01T07:31:33.009Z"
   },
   {
    "duration": 3,
    "start_time": "2022-09-01T07:31:33.118Z"
   },
   {
    "duration": 14,
    "start_time": "2022-09-01T07:31:33.122Z"
   },
   {
    "duration": 3,
    "start_time": "2022-09-01T07:31:33.138Z"
   },
   {
    "duration": 6,
    "start_time": "2022-09-01T07:31:33.142Z"
   },
   {
    "duration": 5,
    "start_time": "2022-09-01T07:31:33.149Z"
   },
   {
    "duration": 12820,
    "start_time": "2022-09-01T07:31:33.156Z"
   },
   {
    "duration": 34,
    "start_time": "2022-09-01T07:31:45.977Z"
   },
   {
    "duration": 6,
    "start_time": "2022-09-01T07:31:46.012Z"
   },
   {
    "duration": 7,
    "start_time": "2022-09-01T07:31:46.020Z"
   },
   {
    "duration": 12,
    "start_time": "2022-09-01T07:31:46.029Z"
   },
   {
    "duration": 5,
    "start_time": "2022-09-01T07:31:46.042Z"
   },
   {
    "duration": 18054,
    "start_time": "2022-09-01T07:31:46.048Z"
   },
   {
    "duration": 345,
    "start_time": "2022-09-01T07:32:04.106Z"
   },
   {
    "duration": 28,
    "start_time": "2022-09-01T07:32:04.452Z"
   },
   {
    "duration": 6,
    "start_time": "2022-09-01T07:32:04.481Z"
   },
   {
    "duration": 44,
    "start_time": "2022-09-01T07:32:04.488Z"
   },
   {
    "duration": 6,
    "start_time": "2022-09-01T07:32:04.533Z"
   },
   {
    "duration": 173,
    "start_time": "2022-09-01T07:32:04.540Z"
   },
   {
    "duration": 192,
    "start_time": "2022-09-01T07:32:04.715Z"
   },
   {
    "duration": 7,
    "start_time": "2022-09-01T07:32:04.909Z"
   },
   {
    "duration": 6,
    "start_time": "2022-09-01T07:32:04.918Z"
   },
   {
    "duration": 84,
    "start_time": "2022-09-01T07:32:04.926Z"
   },
   {
    "duration": 101,
    "start_time": "2022-09-01T07:32:05.012Z"
   },
   {
    "duration": 10,
    "start_time": "2022-09-01T07:32:05.115Z"
   },
   {
    "duration": 19,
    "start_time": "2022-09-01T07:32:05.126Z"
   },
   {
    "duration": 7,
    "start_time": "2022-09-01T07:32:05.146Z"
   },
   {
    "duration": 6,
    "start_time": "2022-09-01T07:32:05.155Z"
   },
   {
    "duration": 12055,
    "start_time": "2022-09-01T07:32:05.162Z"
   },
   {
    "duration": 26,
    "start_time": "2022-09-01T07:32:17.218Z"
   },
   {
    "duration": 7,
    "start_time": "2022-09-01T07:32:17.245Z"
   },
   {
    "duration": 5,
    "start_time": "2022-09-01T07:32:17.254Z"
   },
   {
    "duration": 7,
    "start_time": "2022-09-01T07:32:17.260Z"
   },
   {
    "duration": 5,
    "start_time": "2022-09-01T07:32:17.268Z"
   },
   {
    "duration": 8176,
    "start_time": "2022-09-01T07:32:17.275Z"
   },
   {
    "duration": 420,
    "start_time": "2022-09-01T07:32:25.452Z"
   },
   {
    "duration": 36,
    "start_time": "2022-09-01T07:32:25.873Z"
   },
   {
    "duration": 5,
    "start_time": "2022-09-01T07:32:25.911Z"
   },
   {
    "duration": 31,
    "start_time": "2022-09-01T07:32:25.917Z"
   },
   {
    "duration": 5,
    "start_time": "2022-09-01T07:32:25.949Z"
   },
   {
    "duration": 65,
    "start_time": "2022-09-01T07:32:25.955Z"
   },
   {
    "duration": 6,
    "start_time": "2022-09-01T07:32:26.107Z"
   },
   {
    "duration": 103,
    "start_time": "2022-09-01T07:32:26.115Z"
   },
   {
    "duration": 184,
    "start_time": "2022-09-01T07:32:26.223Z"
   },
   {
    "duration": 9,
    "start_time": "2022-09-01T07:32:26.409Z"
   },
   {
    "duration": 11,
    "start_time": "2022-09-01T07:32:26.419Z"
   },
   {
    "duration": 4,
    "start_time": "2022-09-01T07:32:26.431Z"
   },
   {
    "duration": 8,
    "start_time": "2022-09-01T07:32:26.436Z"
   },
   {
    "duration": 6,
    "start_time": "2022-09-01T07:32:26.445Z"
   },
   {
    "duration": 12246,
    "start_time": "2022-09-01T07:32:26.452Z"
   },
   {
    "duration": 11754,
    "start_time": "2022-09-01T07:32:38.700Z"
   },
   {
    "duration": 336,
    "start_time": "2022-09-01T07:32:50.455Z"
   },
   {
    "duration": 33,
    "start_time": "2022-09-01T07:32:50.792Z"
   },
   {
    "duration": 5,
    "start_time": "2022-09-01T07:32:50.827Z"
   },
   {
    "duration": 27,
    "start_time": "2022-09-01T07:32:50.833Z"
   },
   {
    "duration": 5,
    "start_time": "2022-09-01T07:32:50.862Z"
   },
   {
    "duration": 6,
    "start_time": "2022-09-01T07:32:50.868Z"
   },
   {
    "duration": 30,
    "start_time": "2022-09-01T07:32:50.876Z"
   },
   {
    "duration": 6,
    "start_time": "2022-09-01T07:32:50.907Z"
   },
   {
    "duration": 12,
    "start_time": "2022-09-01T07:32:50.915Z"
   },
   {
    "duration": 9,
    "start_time": "2022-09-01T07:32:50.928Z"
   },
   {
    "duration": 7,
    "start_time": "2022-09-01T07:32:50.938Z"
   },
   {
    "duration": 7,
    "start_time": "2022-09-01T07:32:50.946Z"
   },
   {
    "duration": 4,
    "start_time": "2022-09-01T07:32:50.954Z"
   },
   {
    "duration": 11,
    "start_time": "2022-09-01T07:32:50.959Z"
   },
   {
    "duration": 6,
    "start_time": "2022-09-01T07:32:50.971Z"
   },
   {
    "duration": 11,
    "start_time": "2022-09-01T07:32:50.978Z"
   },
   {
    "duration": 3,
    "start_time": "2022-09-01T07:32:51.006Z"
   },
   {
    "duration": 105,
    "start_time": "2022-09-01T07:38:44.578Z"
   },
   {
    "duration": 18133,
    "start_time": "2022-09-01T07:40:43.900Z"
   },
   {
    "duration": 17,
    "start_time": "2022-09-01T07:41:40.634Z"
   },
   {
    "duration": 4,
    "start_time": "2022-09-01T07:41:50.197Z"
   },
   {
    "duration": 3,
    "start_time": "2022-09-01T07:42:25.832Z"
   },
   {
    "duration": 106,
    "start_time": "2022-09-01T07:42:36.074Z"
   },
   {
    "duration": 3,
    "start_time": "2022-09-01T07:42:53.672Z"
   },
   {
    "duration": 9,
    "start_time": "2022-09-01T07:42:54.266Z"
   },
   {
    "duration": 8,
    "start_time": "2022-09-01T07:43:02.618Z"
   },
   {
    "duration": 4,
    "start_time": "2022-09-01T07:43:09.270Z"
   },
   {
    "duration": 4,
    "start_time": "2022-09-01T07:43:44.540Z"
   },
   {
    "duration": 1377,
    "start_time": "2022-09-01T07:44:49.086Z"
   },
   {
    "duration": 77,
    "start_time": "2022-09-01T07:44:50.465Z"
   },
   {
    "duration": 17,
    "start_time": "2022-09-01T07:44:50.543Z"
   },
   {
    "duration": 12,
    "start_time": "2022-09-01T07:44:50.562Z"
   },
   {
    "duration": 10,
    "start_time": "2022-09-01T07:44:50.575Z"
   },
   {
    "duration": 5,
    "start_time": "2022-09-01T07:44:50.586Z"
   },
   {
    "duration": 5,
    "start_time": "2022-09-01T07:44:50.592Z"
   },
   {
    "duration": 9,
    "start_time": "2022-09-01T07:44:50.598Z"
   },
   {
    "duration": 9,
    "start_time": "2022-09-01T07:44:50.609Z"
   },
   {
    "duration": 9,
    "start_time": "2022-09-01T07:44:50.621Z"
   },
   {
    "duration": 159,
    "start_time": "2022-09-01T07:44:50.631Z"
   },
   {
    "duration": 15,
    "start_time": "2022-09-01T07:44:50.791Z"
   },
   {
    "duration": 814,
    "start_time": "2022-09-01T07:44:50.808Z"
   },
   {
    "duration": 149,
    "start_time": "2022-09-01T07:44:51.623Z"
   },
   {
    "duration": 9,
    "start_time": "2022-09-01T07:44:51.774Z"
   },
   {
    "duration": 202,
    "start_time": "2022-09-01T07:44:51.784Z"
   },
   {
    "duration": 4,
    "start_time": "2022-09-01T07:44:51.988Z"
   },
   {
    "duration": 14,
    "start_time": "2022-09-01T07:44:51.994Z"
   },
   {
    "duration": 11,
    "start_time": "2022-09-01T07:44:52.009Z"
   },
   {
    "duration": 14,
    "start_time": "2022-09-01T07:44:52.021Z"
   },
   {
    "duration": 115,
    "start_time": "2022-09-01T07:44:52.037Z"
   },
   {
    "duration": 19,
    "start_time": "2022-09-01T07:44:52.154Z"
   },
   {
    "duration": 17,
    "start_time": "2022-09-01T07:44:52.176Z"
   },
   {
    "duration": 171,
    "start_time": "2022-09-01T07:44:52.194Z"
   },
   {
    "duration": 123,
    "start_time": "2022-09-01T07:44:52.367Z"
   },
   {
    "duration": 14,
    "start_time": "2022-09-01T07:44:52.492Z"
   },
   {
    "duration": 6,
    "start_time": "2022-09-01T07:44:52.508Z"
   },
   {
    "duration": 124,
    "start_time": "2022-09-01T07:44:52.518Z"
   },
   {
    "duration": 7,
    "start_time": "2022-09-01T07:44:52.643Z"
   },
   {
    "duration": 5,
    "start_time": "2022-09-01T07:44:52.652Z"
   },
   {
    "duration": 19,
    "start_time": "2022-09-01T07:44:52.659Z"
   },
   {
    "duration": 9,
    "start_time": "2022-09-01T07:44:52.680Z"
   },
   {
    "duration": 145,
    "start_time": "2022-09-01T07:44:52.690Z"
   },
   {
    "duration": 6,
    "start_time": "2022-09-01T07:44:52.837Z"
   },
   {
    "duration": 7,
    "start_time": "2022-09-01T07:44:52.844Z"
   },
   {
    "duration": 11,
    "start_time": "2022-09-01T07:44:52.853Z"
   },
   {
    "duration": 10,
    "start_time": "2022-09-01T07:44:52.865Z"
   },
   {
    "duration": 35,
    "start_time": "2022-09-01T07:44:52.877Z"
   },
   {
    "duration": 14,
    "start_time": "2022-09-01T07:44:52.914Z"
   },
   {
    "duration": 4,
    "start_time": "2022-09-01T07:44:52.929Z"
   },
   {
    "duration": 5,
    "start_time": "2022-09-01T07:44:52.934Z"
   },
   {
    "duration": 12,
    "start_time": "2022-09-01T07:44:52.940Z"
   },
   {
    "duration": 7,
    "start_time": "2022-09-01T07:44:52.954Z"
   },
   {
    "duration": 11,
    "start_time": "2022-09-01T07:44:52.962Z"
   },
   {
    "duration": 36,
    "start_time": "2022-09-01T07:44:52.975Z"
   },
   {
    "duration": 8,
    "start_time": "2022-09-01T07:44:53.012Z"
   },
   {
    "duration": 8,
    "start_time": "2022-09-01T07:44:53.021Z"
   },
   {
    "duration": 7,
    "start_time": "2022-09-01T07:44:53.031Z"
   },
   {
    "duration": 8,
    "start_time": "2022-09-01T07:44:53.040Z"
   },
   {
    "duration": 11,
    "start_time": "2022-09-01T07:44:53.049Z"
   },
   {
    "duration": 7,
    "start_time": "2022-09-01T07:44:53.062Z"
   },
   {
    "duration": 13,
    "start_time": "2022-09-01T07:44:53.071Z"
   },
   {
    "duration": 12,
    "start_time": "2022-09-01T07:44:53.086Z"
   },
   {
    "duration": 14,
    "start_time": "2022-09-01T07:44:53.100Z"
   },
   {
    "duration": 12,
    "start_time": "2022-09-01T07:44:53.115Z"
   },
   {
    "duration": 12,
    "start_time": "2022-09-01T07:44:53.128Z"
   },
   {
    "duration": 16,
    "start_time": "2022-09-01T07:44:53.141Z"
   },
   {
    "duration": 14,
    "start_time": "2022-09-01T07:44:53.159Z"
   },
   {
    "duration": 8,
    "start_time": "2022-09-01T07:44:53.174Z"
   },
   {
    "duration": 23,
    "start_time": "2022-09-01T07:44:53.184Z"
   },
   {
    "duration": 9,
    "start_time": "2022-09-01T07:44:53.208Z"
   },
   {
    "duration": 12147,
    "start_time": "2022-09-01T07:44:53.218Z"
   },
   {
    "duration": 22,
    "start_time": "2022-09-01T07:45:05.367Z"
   },
   {
    "duration": 15,
    "start_time": "2022-09-01T07:45:05.391Z"
   },
   {
    "duration": 5,
    "start_time": "2022-09-01T07:45:05.408Z"
   },
   {
    "duration": 7,
    "start_time": "2022-09-01T07:45:05.414Z"
   },
   {
    "duration": 7,
    "start_time": "2022-09-01T07:45:05.423Z"
   },
   {
    "duration": 5,
    "start_time": "2022-09-01T07:45:05.432Z"
   },
   {
    "duration": 24491,
    "start_time": "2022-09-01T07:45:05.438Z"
   },
   {
    "duration": 144,
    "start_time": "2022-09-01T07:45:29.932Z"
   },
   {
    "duration": 6,
    "start_time": "2022-09-01T07:45:30.078Z"
   },
   {
    "duration": 28,
    "start_time": "2022-09-01T07:45:30.085Z"
   },
   {
    "duration": 5,
    "start_time": "2022-09-01T07:45:30.115Z"
   },
   {
    "duration": 189,
    "start_time": "2022-09-01T07:45:30.121Z"
   },
   {
    "duration": 98,
    "start_time": "2022-09-01T07:45:30.312Z"
   },
   {
    "duration": 100,
    "start_time": "2022-09-01T07:45:30.412Z"
   },
   {
    "duration": 192,
    "start_time": "2022-09-01T07:45:30.514Z"
   },
   {
    "duration": 302,
    "start_time": "2022-09-01T07:45:30.708Z"
   },
   {
    "duration": 98,
    "start_time": "2022-09-01T07:45:31.012Z"
   },
   {
    "duration": 97,
    "start_time": "2022-09-01T07:45:31.111Z"
   },
   {
    "duration": 108,
    "start_time": "2022-09-01T07:45:31.210Z"
   },
   {
    "duration": 18,
    "start_time": "2022-09-01T07:45:31.323Z"
   },
   {
    "duration": 185,
    "start_time": "2022-09-01T07:45:31.343Z"
   },
   {
    "duration": 187,
    "start_time": "2022-09-01T07:45:31.529Z"
   },
   {
    "duration": 93,
    "start_time": "2022-09-01T07:45:31.721Z"
   },
   {
    "duration": 13,
    "start_time": "2022-09-01T07:45:31.906Z"
   },
   {
    "duration": 11,
    "start_time": "2022-09-01T07:45:31.921Z"
   },
   {
    "duration": 23,
    "start_time": "2022-09-01T07:45:31.934Z"
   },
   {
    "duration": 21,
    "start_time": "2022-09-01T07:45:31.959Z"
   },
   {
    "duration": 15,
    "start_time": "2022-09-01T07:45:31.981Z"
   },
   {
    "duration": 19,
    "start_time": "2022-09-01T07:45:31.998Z"
   },
   {
    "duration": 13022,
    "start_time": "2022-09-01T07:45:32.018Z"
   },
   {
    "duration": 27,
    "start_time": "2022-09-01T07:45:45.041Z"
   },
   {
    "duration": 5,
    "start_time": "2022-09-01T07:45:45.069Z"
   },
   {
    "duration": 6,
    "start_time": "2022-09-01T07:45:45.076Z"
   },
   {
    "duration": 31,
    "start_time": "2022-09-01T07:45:45.084Z"
   },
   {
    "duration": 7,
    "start_time": "2022-09-01T07:45:45.117Z"
   },
   {
    "duration": 17968,
    "start_time": "2022-09-01T07:45:45.126Z"
   },
   {
    "duration": 356,
    "start_time": "2022-09-01T07:46:03.095Z"
   },
   {
    "duration": 25,
    "start_time": "2022-09-01T07:46:03.453Z"
   },
   {
    "duration": 4,
    "start_time": "2022-09-01T07:46:03.480Z"
   },
   {
    "duration": 39,
    "start_time": "2022-09-01T07:46:03.486Z"
   },
   {
    "duration": 5,
    "start_time": "2022-09-01T07:46:03.526Z"
   },
   {
    "duration": 177,
    "start_time": "2022-09-01T07:46:03.533Z"
   },
   {
    "duration": 98,
    "start_time": "2022-09-01T07:46:03.712Z"
   },
   {
    "duration": 8,
    "start_time": "2022-09-01T07:46:03.812Z"
   },
   {
    "duration": 9,
    "start_time": "2022-09-01T07:46:03.906Z"
   },
   {
    "duration": 5,
    "start_time": "2022-09-01T07:46:04.007Z"
   },
   {
    "duration": 15,
    "start_time": "2022-09-01T07:46:04.014Z"
   },
   {
    "duration": 7,
    "start_time": "2022-09-01T07:46:04.031Z"
   },
   {
    "duration": 15,
    "start_time": "2022-09-01T07:46:04.040Z"
   },
   {
    "duration": 25,
    "start_time": "2022-09-01T07:46:04.057Z"
   },
   {
    "duration": 20,
    "start_time": "2022-09-01T07:46:04.083Z"
   },
   {
    "duration": 11845,
    "start_time": "2022-09-01T07:46:04.105Z"
   },
   {
    "duration": 28,
    "start_time": "2022-09-01T07:46:15.952Z"
   },
   {
    "duration": 8,
    "start_time": "2022-09-01T07:46:15.981Z"
   },
   {
    "duration": 20,
    "start_time": "2022-09-01T07:46:15.991Z"
   },
   {
    "duration": 18,
    "start_time": "2022-09-01T07:46:16.013Z"
   },
   {
    "duration": 18,
    "start_time": "2022-09-01T07:46:16.033Z"
   },
   {
    "duration": 8050,
    "start_time": "2022-09-01T07:46:16.053Z"
   },
   {
    "duration": 416,
    "start_time": "2022-09-01T07:46:24.106Z"
   },
   {
    "duration": 26,
    "start_time": "2022-09-01T07:46:24.524Z"
   },
   {
    "duration": 5,
    "start_time": "2022-09-01T07:46:24.551Z"
   },
   {
    "duration": 37,
    "start_time": "2022-09-01T07:46:24.557Z"
   },
   {
    "duration": 6,
    "start_time": "2022-09-01T07:46:24.606Z"
   },
   {
    "duration": 97,
    "start_time": "2022-09-01T07:46:24.613Z"
   },
   {
    "duration": 99,
    "start_time": "2022-09-01T07:46:24.712Z"
   },
   {
    "duration": 26,
    "start_time": "2022-09-01T07:46:24.812Z"
   },
   {
    "duration": 102,
    "start_time": "2022-09-01T07:46:24.907Z"
   },
   {
    "duration": 19,
    "start_time": "2022-09-01T07:46:25.010Z"
   },
   {
    "duration": 21,
    "start_time": "2022-09-01T07:46:25.030Z"
   },
   {
    "duration": 12,
    "start_time": "2022-09-01T07:46:25.052Z"
   },
   {
    "duration": 23,
    "start_time": "2022-09-01T07:46:25.066Z"
   },
   {
    "duration": 13,
    "start_time": "2022-09-01T07:46:25.090Z"
   },
   {
    "duration": 11961,
    "start_time": "2022-09-01T07:46:25.104Z"
   },
   {
    "duration": 12061,
    "start_time": "2022-09-01T07:46:37.066Z"
   },
   {
    "duration": 354,
    "start_time": "2022-09-01T07:46:49.129Z"
   },
   {
    "duration": 28,
    "start_time": "2022-09-01T07:46:49.484Z"
   },
   {
    "duration": 6,
    "start_time": "2022-09-01T07:46:49.513Z"
   },
   {
    "duration": 26,
    "start_time": "2022-09-01T07:46:49.520Z"
   },
   {
    "duration": 5,
    "start_time": "2022-09-01T07:46:49.547Z"
   },
   {
    "duration": 4,
    "start_time": "2022-09-01T07:46:49.553Z"
   },
   {
    "duration": 6,
    "start_time": "2022-09-01T07:46:49.558Z"
   },
   {
    "duration": 5,
    "start_time": "2022-09-01T07:46:49.565Z"
   },
   {
    "duration": 18026,
    "start_time": "2022-09-01T07:46:49.571Z"
   },
   {
    "duration": 10,
    "start_time": "2022-09-01T07:47:07.599Z"
   },
   {
    "duration": 4,
    "start_time": "2022-09-01T07:47:07.611Z"
   },
   {
    "duration": 8,
    "start_time": "2022-09-01T07:47:07.616Z"
   },
   {
    "duration": 3,
    "start_time": "2022-09-01T07:47:07.626Z"
   },
   {
    "duration": 8,
    "start_time": "2022-09-01T07:47:07.630Z"
   },
   {
    "duration": 4,
    "start_time": "2022-09-01T07:47:07.639Z"
   },
   {
    "duration": 6,
    "start_time": "2022-09-01T07:47:07.645Z"
   },
   {
    "duration": 4,
    "start_time": "2022-09-01T07:47:07.652Z"
   },
   {
    "duration": 7,
    "start_time": "2022-09-01T07:47:07.657Z"
   },
   {
    "duration": 4,
    "start_time": "2022-09-01T07:47:07.705Z"
   },
   {
    "duration": 9,
    "start_time": "2022-09-01T07:47:07.711Z"
   },
   {
    "duration": 7,
    "start_time": "2022-09-01T07:47:07.721Z"
   },
   {
    "duration": 101,
    "start_time": "2022-09-01T07:48:57.901Z"
   },
   {
    "duration": 8,
    "start_time": "2022-09-01T07:49:23.013Z"
   },
   {
    "duration": 13,
    "start_time": "2022-09-01T07:49:40.627Z"
   },
   {
    "duration": 4,
    "start_time": "2022-09-01T07:49:41.561Z"
   },
   {
    "duration": 5,
    "start_time": "2022-09-01T07:49:42.331Z"
   },
   {
    "duration": 3,
    "start_time": "2022-09-01T07:49:57.237Z"
   },
   {
    "duration": 3,
    "start_time": "2022-09-01T07:50:04.008Z"
   },
   {
    "duration": 3,
    "start_time": "2022-09-01T07:50:04.719Z"
   },
   {
    "duration": 22281,
    "start_time": "2022-09-01T07:50:13.852Z"
   },
   {
    "duration": 22676,
    "start_time": "2022-09-01T07:51:28.178Z"
   },
   {
    "duration": 4,
    "start_time": "2022-09-01T07:54:53.844Z"
   },
   {
    "duration": 12,
    "start_time": "2022-09-01T07:55:11.671Z"
   },
   {
    "duration": 1319,
    "start_time": "2022-09-01T08:12:53.593Z"
   },
   {
    "duration": 73,
    "start_time": "2022-09-01T08:12:54.914Z"
   },
   {
    "duration": 18,
    "start_time": "2022-09-01T08:12:54.988Z"
   },
   {
    "duration": 12,
    "start_time": "2022-09-01T08:12:55.008Z"
   },
   {
    "duration": 10,
    "start_time": "2022-09-01T08:12:55.022Z"
   },
   {
    "duration": 5,
    "start_time": "2022-09-01T08:12:55.034Z"
   },
   {
    "duration": 5,
    "start_time": "2022-09-01T08:12:55.040Z"
   },
   {
    "duration": 12,
    "start_time": "2022-09-01T08:12:55.047Z"
   },
   {
    "duration": 10,
    "start_time": "2022-09-01T08:12:55.061Z"
   },
   {
    "duration": 11,
    "start_time": "2022-09-01T08:12:55.074Z"
   },
   {
    "duration": 132,
    "start_time": "2022-09-01T08:12:55.106Z"
   },
   {
    "duration": 8,
    "start_time": "2022-09-01T08:12:55.240Z"
   },
   {
    "duration": 777,
    "start_time": "2022-09-01T08:12:55.250Z"
   },
   {
    "duration": 164,
    "start_time": "2022-09-01T08:12:56.029Z"
   },
   {
    "duration": 14,
    "start_time": "2022-09-01T08:12:56.194Z"
   },
   {
    "duration": 179,
    "start_time": "2022-09-01T08:12:56.209Z"
   },
   {
    "duration": 4,
    "start_time": "2022-09-01T08:12:56.389Z"
   },
   {
    "duration": 11,
    "start_time": "2022-09-01T08:12:56.395Z"
   },
   {
    "duration": 3,
    "start_time": "2022-09-01T08:12:56.408Z"
   },
   {
    "duration": 6,
    "start_time": "2022-09-01T08:12:56.412Z"
   },
   {
    "duration": 139,
    "start_time": "2022-09-01T08:12:56.420Z"
   },
   {
    "duration": 4,
    "start_time": "2022-09-01T08:12:56.561Z"
   },
   {
    "duration": 14,
    "start_time": "2022-09-01T08:12:56.567Z"
   },
   {
    "duration": 136,
    "start_time": "2022-09-01T08:12:56.582Z"
   },
   {
    "duration": 129,
    "start_time": "2022-09-01T08:12:56.719Z"
   },
   {
    "duration": 7,
    "start_time": "2022-09-01T08:12:56.849Z"
   },
   {
    "duration": 9,
    "start_time": "2022-09-01T08:12:56.857Z"
   },
   {
    "duration": 125,
    "start_time": "2022-09-01T08:12:56.870Z"
   },
   {
    "duration": 14,
    "start_time": "2022-09-01T08:12:56.997Z"
   },
   {
    "duration": 9,
    "start_time": "2022-09-01T08:12:57.012Z"
   },
   {
    "duration": 8,
    "start_time": "2022-09-01T08:12:57.023Z"
   },
   {
    "duration": 8,
    "start_time": "2022-09-01T08:12:57.032Z"
   },
   {
    "duration": 165,
    "start_time": "2022-09-01T08:12:57.042Z"
   },
   {
    "duration": 5,
    "start_time": "2022-09-01T08:12:57.209Z"
   },
   {
    "duration": 8,
    "start_time": "2022-09-01T08:12:57.215Z"
   },
   {
    "duration": 12,
    "start_time": "2022-09-01T08:12:57.225Z"
   },
   {
    "duration": 11,
    "start_time": "2022-09-01T08:12:57.238Z"
   },
   {
    "duration": 15,
    "start_time": "2022-09-01T08:12:57.251Z"
   },
   {
    "duration": 15,
    "start_time": "2022-09-01T08:12:57.267Z"
   },
   {
    "duration": 24,
    "start_time": "2022-09-01T08:12:57.283Z"
   },
   {
    "duration": 9,
    "start_time": "2022-09-01T08:12:57.308Z"
   },
   {
    "duration": 17,
    "start_time": "2022-09-01T08:12:57.319Z"
   },
   {
    "duration": 7,
    "start_time": "2022-09-01T08:12:57.337Z"
   },
   {
    "duration": 11,
    "start_time": "2022-09-01T08:12:57.345Z"
   },
   {
    "duration": 6,
    "start_time": "2022-09-01T08:12:57.358Z"
   },
   {
    "duration": 6,
    "start_time": "2022-09-01T08:12:57.365Z"
   },
   {
    "duration": 12,
    "start_time": "2022-09-01T08:12:57.372Z"
   },
   {
    "duration": 20,
    "start_time": "2022-09-01T08:12:57.386Z"
   },
   {
    "duration": 3,
    "start_time": "2022-09-01T08:12:57.408Z"
   },
   {
    "duration": 5,
    "start_time": "2022-09-01T08:12:57.413Z"
   },
   {
    "duration": 4,
    "start_time": "2022-09-01T08:12:57.419Z"
   },
   {
    "duration": 12,
    "start_time": "2022-09-01T08:12:57.424Z"
   },
   {
    "duration": 13,
    "start_time": "2022-09-01T08:12:57.437Z"
   },
   {
    "duration": 10,
    "start_time": "2022-09-01T08:12:57.451Z"
   },
   {
    "duration": 44,
    "start_time": "2022-09-01T08:12:57.463Z"
   },
   {
    "duration": 12,
    "start_time": "2022-09-01T08:12:57.509Z"
   },
   {
    "duration": 11,
    "start_time": "2022-09-01T08:12:57.522Z"
   },
   {
    "duration": 11,
    "start_time": "2022-09-01T08:12:57.535Z"
   },
   {
    "duration": 3,
    "start_time": "2022-09-01T08:12:57.548Z"
   },
   {
    "duration": 5,
    "start_time": "2022-09-01T08:12:57.553Z"
   },
   {
    "duration": 5,
    "start_time": "2022-09-01T08:12:57.559Z"
   },
   {
    "duration": 11764,
    "start_time": "2022-09-01T08:12:57.566Z"
   },
   {
    "duration": 20,
    "start_time": "2022-09-01T08:13:09.331Z"
   },
   {
    "duration": 4,
    "start_time": "2022-09-01T08:13:09.353Z"
   },
   {
    "duration": 5,
    "start_time": "2022-09-01T08:13:09.359Z"
   },
   {
    "duration": 4,
    "start_time": "2022-09-01T08:13:09.365Z"
   },
   {
    "duration": 11,
    "start_time": "2022-09-01T08:13:09.370Z"
   },
   {
    "duration": 27,
    "start_time": "2022-09-01T08:13:09.382Z"
   },
   {
    "duration": 23551,
    "start_time": "2022-09-01T08:13:09.411Z"
   },
   {
    "duration": 129,
    "start_time": "2022-09-01T08:13:32.964Z"
   },
   {
    "duration": 12,
    "start_time": "2022-09-01T08:13:33.094Z"
   },
   {
    "duration": 15,
    "start_time": "2022-09-01T08:13:33.108Z"
   },
   {
    "duration": 4,
    "start_time": "2022-09-01T08:13:33.124Z"
   },
   {
    "duration": 180,
    "start_time": "2022-09-01T08:13:33.130Z"
   },
   {
    "duration": 99,
    "start_time": "2022-09-01T08:13:33.312Z"
   },
   {
    "duration": 21,
    "start_time": "2022-09-01T08:13:33.413Z"
   },
   {
    "duration": 102,
    "start_time": "2022-09-01T08:13:33.507Z"
   },
   {
    "duration": 300,
    "start_time": "2022-09-01T08:13:33.611Z"
   },
   {
    "duration": 99,
    "start_time": "2022-09-01T08:13:33.913Z"
   },
   {
    "duration": 97,
    "start_time": "2022-09-01T08:13:34.016Z"
   },
   {
    "duration": 192,
    "start_time": "2022-09-01T08:13:34.118Z"
   },
   {
    "duration": 28,
    "start_time": "2022-09-01T08:13:34.317Z"
   },
   {
    "duration": 192,
    "start_time": "2022-09-01T08:13:34.347Z"
   },
   {
    "duration": 173,
    "start_time": "2022-09-01T08:13:34.541Z"
   },
   {
    "duration": 95,
    "start_time": "2022-09-01T08:13:34.717Z"
   },
   {
    "duration": 107,
    "start_time": "2022-09-01T08:13:34.814Z"
   },
   {
    "duration": 3,
    "start_time": "2022-09-01T08:13:34.923Z"
   },
   {
    "duration": 28,
    "start_time": "2022-09-01T08:13:34.928Z"
   },
   {
    "duration": 23,
    "start_time": "2022-09-01T08:13:34.957Z"
   },
   {
    "duration": 10,
    "start_time": "2022-09-01T08:13:34.981Z"
   },
   {
    "duration": 16,
    "start_time": "2022-09-01T08:13:34.992Z"
   },
   {
    "duration": 13136,
    "start_time": "2022-09-01T08:13:35.010Z"
   },
   {
    "duration": 26,
    "start_time": "2022-09-01T08:13:48.147Z"
   },
   {
    "duration": 5,
    "start_time": "2022-09-01T08:13:48.174Z"
   },
   {
    "duration": 21,
    "start_time": "2022-09-01T08:13:48.180Z"
   },
   {
    "duration": 10,
    "start_time": "2022-09-01T08:13:48.205Z"
   },
   {
    "duration": 14,
    "start_time": "2022-09-01T08:13:48.217Z"
   },
   {
    "duration": 17647,
    "start_time": "2022-09-01T08:13:48.233Z"
   },
   {
    "duration": 359,
    "start_time": "2022-09-01T08:14:05.881Z"
   },
   {
    "duration": 26,
    "start_time": "2022-09-01T08:14:06.241Z"
   },
   {
    "duration": 5,
    "start_time": "2022-09-01T08:14:06.268Z"
   },
   {
    "duration": 47,
    "start_time": "2022-09-01T08:14:06.274Z"
   },
   {
    "duration": 5,
    "start_time": "2022-09-01T08:14:06.323Z"
   },
   {
    "duration": 180,
    "start_time": "2022-09-01T08:14:06.330Z"
   },
   {
    "duration": 99,
    "start_time": "2022-09-01T08:14:06.512Z"
   },
   {
    "duration": 95,
    "start_time": "2022-09-01T08:14:06.612Z"
   },
   {
    "duration": 103,
    "start_time": "2022-09-01T08:14:06.709Z"
   },
   {
    "duration": 11,
    "start_time": "2022-09-01T08:14:06.814Z"
   },
   {
    "duration": 16,
    "start_time": "2022-09-01T08:14:06.827Z"
   },
   {
    "duration": 4,
    "start_time": "2022-09-01T08:14:06.844Z"
   },
   {
    "duration": 14,
    "start_time": "2022-09-01T08:14:06.850Z"
   },
   {
    "duration": 7,
    "start_time": "2022-09-01T08:14:06.865Z"
   },
   {
    "duration": 10,
    "start_time": "2022-09-01T08:14:06.873Z"
   },
   {
    "duration": 11629,
    "start_time": "2022-09-01T08:14:06.885Z"
   },
   {
    "duration": 25,
    "start_time": "2022-09-01T08:14:18.516Z"
   },
   {
    "duration": 7,
    "start_time": "2022-09-01T08:14:18.542Z"
   },
   {
    "duration": 5,
    "start_time": "2022-09-01T08:14:18.550Z"
   },
   {
    "duration": 9,
    "start_time": "2022-09-01T08:14:18.557Z"
   },
   {
    "duration": 5,
    "start_time": "2022-09-01T08:14:18.567Z"
   },
   {
    "duration": 7879,
    "start_time": "2022-09-01T08:14:18.573Z"
   },
   {
    "duration": 431,
    "start_time": "2022-09-01T08:14:26.454Z"
   },
   {
    "duration": 36,
    "start_time": "2022-09-01T08:14:26.887Z"
   },
   {
    "duration": 4,
    "start_time": "2022-09-01T08:14:26.925Z"
   },
   {
    "duration": 44,
    "start_time": "2022-09-01T08:14:26.931Z"
   },
   {
    "duration": 5,
    "start_time": "2022-09-01T08:14:26.976Z"
   },
   {
    "duration": 124,
    "start_time": "2022-09-01T08:14:26.983Z"
   },
   {
    "duration": 110,
    "start_time": "2022-09-01T08:14:27.108Z"
   },
   {
    "duration": 33,
    "start_time": "2022-09-01T08:14:27.219Z"
   },
   {
    "duration": 154,
    "start_time": "2022-09-01T08:14:27.254Z"
   },
   {
    "duration": 15,
    "start_time": "2022-09-01T08:14:27.410Z"
   },
   {
    "duration": 21,
    "start_time": "2022-09-01T08:14:27.427Z"
   },
   {
    "duration": 11,
    "start_time": "2022-09-01T08:14:27.449Z"
   },
   {
    "duration": 16,
    "start_time": "2022-09-01T08:14:27.462Z"
   },
   {
    "duration": 13,
    "start_time": "2022-09-01T08:14:27.479Z"
   },
   {
    "duration": 11966,
    "start_time": "2022-09-01T08:14:27.493Z"
   },
   {
    "duration": 11584,
    "start_time": "2022-09-01T08:14:39.461Z"
   },
   {
    "duration": 360,
    "start_time": "2022-09-01T08:14:51.047Z"
   },
   {
    "duration": 26,
    "start_time": "2022-09-01T08:14:51.408Z"
   },
   {
    "duration": 5,
    "start_time": "2022-09-01T08:14:51.436Z"
   },
   {
    "duration": 34,
    "start_time": "2022-09-01T08:14:51.442Z"
   },
   {
    "duration": 5,
    "start_time": "2022-09-01T08:14:51.477Z"
   },
   {
    "duration": 31,
    "start_time": "2022-09-01T08:14:51.484Z"
   },
   {
    "duration": 7,
    "start_time": "2022-09-01T08:14:51.517Z"
   },
   {
    "duration": 22,
    "start_time": "2022-09-01T08:14:51.525Z"
   },
   {
    "duration": 13,
    "start_time": "2022-09-01T08:14:51.548Z"
   },
   {
    "duration": 21,
    "start_time": "2022-09-01T08:14:51.562Z"
   },
   {
    "duration": 23,
    "start_time": "2022-09-01T08:14:51.584Z"
   },
   {
    "duration": 27,
    "start_time": "2022-09-01T08:14:51.608Z"
   },
   {
    "duration": 22663,
    "start_time": "2022-09-01T08:14:51.636Z"
   },
   {
    "duration": 7,
    "start_time": "2022-09-01T08:15:14.306Z"
   },
   {
    "duration": 7,
    "start_time": "2022-09-01T08:15:14.314Z"
   },
   {
    "duration": 13,
    "start_time": "2022-09-01T08:15:14.322Z"
   },
   {
    "duration": 3,
    "start_time": "2022-09-01T08:15:14.336Z"
   },
   {
    "duration": 9,
    "start_time": "2022-09-01T08:15:14.341Z"
   },
   {
    "duration": 4,
    "start_time": "2022-09-01T08:15:14.351Z"
   },
   {
    "duration": 8,
    "start_time": "2022-09-01T08:15:14.356Z"
   },
   {
    "duration": 5,
    "start_time": "2022-09-01T08:15:14.365Z"
   },
   {
    "duration": 36,
    "start_time": "2022-09-01T08:15:14.371Z"
   },
   {
    "duration": 4,
    "start_time": "2022-09-01T08:15:14.408Z"
   },
   {
    "duration": 9,
    "start_time": "2022-09-01T08:15:14.413Z"
   },
   {
    "duration": 4,
    "start_time": "2022-09-01T08:15:14.423Z"
   },
   {
    "duration": 1615,
    "start_time": "2022-09-01T15:31:38.808Z"
   },
   {
    "duration": 105,
    "start_time": "2022-09-01T15:31:40.425Z"
   },
   {
    "duration": 17,
    "start_time": "2022-09-01T15:31:40.531Z"
   },
   {
    "duration": 12,
    "start_time": "2022-09-01T15:31:40.550Z"
   },
   {
    "duration": 9,
    "start_time": "2022-09-01T15:31:40.564Z"
   },
   {
    "duration": 5,
    "start_time": "2022-09-01T15:31:40.574Z"
   },
   {
    "duration": 7,
    "start_time": "2022-09-01T15:31:40.580Z"
   },
   {
    "duration": 6,
    "start_time": "2022-09-01T15:31:40.589Z"
   },
   {
    "duration": 10,
    "start_time": "2022-09-01T15:31:40.596Z"
   },
   {
    "duration": 34,
    "start_time": "2022-09-01T15:31:40.608Z"
   },
   {
    "duration": 135,
    "start_time": "2022-09-01T15:31:40.643Z"
   },
   {
    "duration": 7,
    "start_time": "2022-09-01T15:31:40.780Z"
   },
   {
    "duration": 779,
    "start_time": "2022-09-01T15:31:40.788Z"
   },
   {
    "duration": 143,
    "start_time": "2022-09-01T15:31:41.569Z"
   },
   {
    "duration": 7,
    "start_time": "2022-09-01T15:31:41.714Z"
   },
   {
    "duration": 185,
    "start_time": "2022-09-01T15:31:41.723Z"
   },
   {
    "duration": 4,
    "start_time": "2022-09-01T15:31:41.909Z"
   },
   {
    "duration": 5,
    "start_time": "2022-09-01T15:31:41.915Z"
   },
   {
    "duration": 16,
    "start_time": "2022-09-01T15:31:41.922Z"
   },
   {
    "duration": 4,
    "start_time": "2022-09-01T15:31:41.940Z"
   },
   {
    "duration": 119,
    "start_time": "2022-09-01T15:31:41.945Z"
   },
   {
    "duration": 3,
    "start_time": "2022-09-01T15:31:42.066Z"
   },
   {
    "duration": 10,
    "start_time": "2022-09-01T15:31:42.071Z"
   },
   {
    "duration": 140,
    "start_time": "2022-09-01T15:31:42.082Z"
   },
   {
    "duration": 122,
    "start_time": "2022-09-01T15:31:42.224Z"
   },
   {
    "duration": 6,
    "start_time": "2022-09-01T15:31:42.348Z"
   },
   {
    "duration": 15,
    "start_time": "2022-09-01T15:31:42.355Z"
   },
   {
    "duration": 120,
    "start_time": "2022-09-01T15:31:42.374Z"
   },
   {
    "duration": 6,
    "start_time": "2022-09-01T15:31:42.495Z"
   },
   {
    "duration": 7,
    "start_time": "2022-09-01T15:31:42.503Z"
   },
   {
    "duration": 7,
    "start_time": "2022-09-01T15:31:42.511Z"
   },
   {
    "duration": 23,
    "start_time": "2022-09-01T15:31:42.520Z"
   },
   {
    "duration": 137,
    "start_time": "2022-09-01T15:31:42.545Z"
   },
   {
    "duration": 5,
    "start_time": "2022-09-01T15:31:42.683Z"
   },
   {
    "duration": 8,
    "start_time": "2022-09-01T15:31:42.689Z"
   },
   {
    "duration": 11,
    "start_time": "2022-09-01T15:31:42.698Z"
   },
   {
    "duration": 28,
    "start_time": "2022-09-01T15:31:42.710Z"
   },
   {
    "duration": 8,
    "start_time": "2022-09-01T15:31:42.740Z"
   },
   {
    "duration": 11,
    "start_time": "2022-09-01T15:31:42.750Z"
   },
   {
    "duration": 3,
    "start_time": "2022-09-01T15:31:42.762Z"
   },
   {
    "duration": 5,
    "start_time": "2022-09-01T15:31:42.767Z"
   },
   {
    "duration": 11,
    "start_time": "2022-09-01T15:31:42.773Z"
   },
   {
    "duration": 7,
    "start_time": "2022-09-01T15:31:42.785Z"
   },
   {
    "duration": 10,
    "start_time": "2022-09-01T15:31:42.793Z"
   },
   {
    "duration": 35,
    "start_time": "2022-09-01T15:31:42.804Z"
   },
   {
    "duration": 6,
    "start_time": "2022-09-01T15:31:42.841Z"
   },
   {
    "duration": 5,
    "start_time": "2022-09-01T15:31:42.849Z"
   },
   {
    "duration": 5,
    "start_time": "2022-09-01T15:31:42.855Z"
   },
   {
    "duration": 7,
    "start_time": "2022-09-01T15:31:42.862Z"
   },
   {
    "duration": 8,
    "start_time": "2022-09-01T15:31:42.870Z"
   },
   {
    "duration": 7,
    "start_time": "2022-09-01T15:31:42.879Z"
   },
   {
    "duration": 17,
    "start_time": "2022-09-01T15:31:42.887Z"
   },
   {
    "duration": 33,
    "start_time": "2022-09-01T15:31:42.906Z"
   },
   {
    "duration": 12,
    "start_time": "2022-09-01T15:31:42.940Z"
   },
   {
    "duration": 9,
    "start_time": "2022-09-01T15:31:42.953Z"
   },
   {
    "duration": 12,
    "start_time": "2022-09-01T15:31:42.964Z"
   },
   {
    "duration": 12,
    "start_time": "2022-09-01T15:31:42.978Z"
   },
   {
    "duration": 13,
    "start_time": "2022-09-01T15:31:42.991Z"
   },
   {
    "duration": 3,
    "start_time": "2022-09-01T15:31:43.006Z"
   },
   {
    "duration": 29,
    "start_time": "2022-09-01T15:31:43.010Z"
   },
   {
    "duration": 3,
    "start_time": "2022-09-01T15:31:43.041Z"
   },
   {
    "duration": 12424,
    "start_time": "2022-09-01T15:31:43.045Z"
   },
   {
    "duration": 21,
    "start_time": "2022-09-01T15:31:55.470Z"
   },
   {
    "duration": 5,
    "start_time": "2022-09-01T15:31:55.493Z"
   },
   {
    "duration": 10,
    "start_time": "2022-09-01T15:31:55.500Z"
   },
   {
    "duration": 3,
    "start_time": "2022-09-01T15:31:55.512Z"
   },
   {
    "duration": 22,
    "start_time": "2022-09-01T15:31:55.517Z"
   },
   {
    "duration": 5,
    "start_time": "2022-09-01T15:31:55.540Z"
   },
   {
    "duration": 24486,
    "start_time": "2022-09-01T15:31:55.546Z"
   },
   {
    "duration": 132,
    "start_time": "2022-09-01T15:32:20.038Z"
   },
   {
    "duration": 4,
    "start_time": "2022-09-01T15:32:20.172Z"
   },
   {
    "duration": 16,
    "start_time": "2022-09-01T15:32:20.177Z"
   },
   {
    "duration": 6,
    "start_time": "2022-09-01T15:32:20.195Z"
   },
   {
    "duration": 242,
    "start_time": "2022-09-01T15:32:20.202Z"
   },
   {
    "duration": 98,
    "start_time": "2022-09-01T15:32:20.446Z"
   },
   {
    "duration": 100,
    "start_time": "2022-09-01T15:32:20.546Z"
   },
   {
    "duration": 96,
    "start_time": "2022-09-01T15:32:20.648Z"
   },
   {
    "duration": 305,
    "start_time": "2022-09-01T15:32:20.837Z"
   },
   {
    "duration": 7,
    "start_time": "2022-09-01T15:32:21.144Z"
   },
   {
    "duration": 95,
    "start_time": "2022-09-01T15:32:21.153Z"
   },
   {
    "duration": 189,
    "start_time": "2022-09-01T15:32:21.250Z"
   },
   {
    "duration": 19,
    "start_time": "2022-09-01T15:32:21.446Z"
   },
   {
    "duration": 200,
    "start_time": "2022-09-01T15:32:21.540Z"
   },
   {
    "duration": 117,
    "start_time": "2022-09-01T15:32:21.742Z"
   },
   {
    "duration": 78,
    "start_time": "2022-09-01T15:32:21.861Z"
   },
   {
    "duration": 102,
    "start_time": "2022-09-01T15:32:21.942Z"
   },
   {
    "duration": 3,
    "start_time": "2022-09-01T15:32:22.046Z"
   },
   {
    "duration": 12,
    "start_time": "2022-09-01T15:32:22.051Z"
   },
   {
    "duration": 4,
    "start_time": "2022-09-01T15:32:22.064Z"
   },
   {
    "duration": 10,
    "start_time": "2022-09-01T15:32:22.069Z"
   },
   {
    "duration": 9,
    "start_time": "2022-09-01T15:32:22.081Z"
   },
   {
    "duration": 12552,
    "start_time": "2022-09-01T15:32:22.092Z"
   },
   {
    "duration": 28,
    "start_time": "2022-09-01T15:32:34.645Z"
   },
   {
    "duration": 6,
    "start_time": "2022-09-01T15:32:34.675Z"
   },
   {
    "duration": 5,
    "start_time": "2022-09-01T15:32:34.683Z"
   },
   {
    "duration": 8,
    "start_time": "2022-09-01T15:32:34.689Z"
   },
   {
    "duration": 5,
    "start_time": "2022-09-01T15:32:34.698Z"
   },
   {
    "duration": 18641,
    "start_time": "2022-09-01T15:32:34.704Z"
   },
   {
    "duration": 402,
    "start_time": "2022-09-01T15:32:53.346Z"
   },
   {
    "duration": 27,
    "start_time": "2022-09-01T15:32:53.750Z"
   },
   {
    "duration": 5,
    "start_time": "2022-09-01T15:32:53.779Z"
   },
   {
    "duration": 53,
    "start_time": "2022-09-01T15:32:53.785Z"
   },
   {
    "duration": 6,
    "start_time": "2022-09-01T15:32:53.839Z"
   },
   {
    "duration": 394,
    "start_time": "2022-09-01T15:32:53.846Z"
   },
   {
    "duration": 98,
    "start_time": "2022-09-01T15:32:54.242Z"
   },
   {
    "duration": 10,
    "start_time": "2022-09-01T15:32:54.342Z"
   },
   {
    "duration": 188,
    "start_time": "2022-09-01T15:32:54.354Z"
   },
   {
    "duration": 5,
    "start_time": "2022-09-01T15:32:54.544Z"
   },
   {
    "duration": 20,
    "start_time": "2022-09-01T15:32:54.551Z"
   },
   {
    "duration": 3,
    "start_time": "2022-09-01T15:32:54.573Z"
   },
   {
    "duration": 13,
    "start_time": "2022-09-01T15:32:54.578Z"
   },
   {
    "duration": 6,
    "start_time": "2022-09-01T15:32:54.592Z"
   },
   {
    "duration": 7,
    "start_time": "2022-09-01T15:32:54.600Z"
   },
   {
    "duration": 12702,
    "start_time": "2022-09-01T15:32:54.609Z"
   },
   {
    "duration": 32,
    "start_time": "2022-09-01T15:33:07.313Z"
   },
   {
    "duration": 7,
    "start_time": "2022-09-01T15:33:07.346Z"
   },
   {
    "duration": 5,
    "start_time": "2022-09-01T15:33:07.354Z"
   },
   {
    "duration": 6,
    "start_time": "2022-09-01T15:33:07.360Z"
   },
   {
    "duration": 5,
    "start_time": "2022-09-01T15:33:07.368Z"
   },
   {
    "duration": 8116,
    "start_time": "2022-09-01T15:33:07.374Z"
   },
   {
    "duration": 441,
    "start_time": "2022-09-01T15:33:15.492Z"
   },
   {
    "duration": 31,
    "start_time": "2022-09-01T15:33:15.934Z"
   },
   {
    "duration": 4,
    "start_time": "2022-09-01T15:33:15.967Z"
   },
   {
    "duration": 32,
    "start_time": "2022-09-01T15:33:15.973Z"
   },
   {
    "duration": 5,
    "start_time": "2022-09-01T15:33:16.006Z"
   },
   {
    "duration": 131,
    "start_time": "2022-09-01T15:33:16.013Z"
   },
   {
    "duration": 100,
    "start_time": "2022-09-01T15:33:16.145Z"
   },
   {
    "duration": 96,
    "start_time": "2022-09-01T15:33:16.248Z"
   },
   {
    "duration": 94,
    "start_time": "2022-09-01T15:33:16.346Z"
   },
   {
    "duration": 109,
    "start_time": "2022-09-01T15:33:16.442Z"
   },
   {
    "duration": 8,
    "start_time": "2022-09-01T15:33:16.553Z"
   },
   {
    "duration": 3,
    "start_time": "2022-09-01T15:33:16.563Z"
   },
   {
    "duration": 6,
    "start_time": "2022-09-01T15:33:16.567Z"
   },
   {
    "duration": 5,
    "start_time": "2022-09-01T15:33:16.574Z"
   },
   {
    "duration": 12086,
    "start_time": "2022-09-01T15:33:16.581Z"
   },
   {
    "duration": 11838,
    "start_time": "2022-09-01T15:33:28.668Z"
   },
   {
    "duration": 351,
    "start_time": "2022-09-01T15:33:40.507Z"
   },
   {
    "duration": 25,
    "start_time": "2022-09-01T15:33:40.860Z"
   },
   {
    "duration": 4,
    "start_time": "2022-09-01T15:33:40.886Z"
   },
   {
    "duration": 27,
    "start_time": "2022-09-01T15:33:40.891Z"
   },
   {
    "duration": 21,
    "start_time": "2022-09-01T15:33:40.920Z"
   },
   {
    "duration": 11,
    "start_time": "2022-09-01T15:33:40.942Z"
   },
   {
    "duration": 3,
    "start_time": "2022-09-01T15:33:40.954Z"
   },
   {
    "duration": 8,
    "start_time": "2022-09-01T15:33:40.958Z"
   },
   {
    "duration": 6,
    "start_time": "2022-09-01T15:33:40.967Z"
   },
   {
    "duration": 8,
    "start_time": "2022-09-01T15:33:40.974Z"
   },
   {
    "duration": 14,
    "start_time": "2022-09-01T15:33:40.983Z"
   },
   {
    "duration": 7,
    "start_time": "2022-09-01T15:33:40.998Z"
   },
   {
    "duration": 23079,
    "start_time": "2022-09-01T15:33:41.007Z"
   },
   {
    "duration": 6,
    "start_time": "2022-09-01T15:34:04.088Z"
   },
   {
    "duration": 8,
    "start_time": "2022-09-01T15:34:04.096Z"
   },
   {
    "duration": 9,
    "start_time": "2022-09-01T15:34:04.106Z"
   },
   {
    "duration": 10,
    "start_time": "2022-09-01T15:34:04.116Z"
   },
   {
    "duration": 6,
    "start_time": "2022-09-01T15:34:04.138Z"
   },
   {
    "duration": 21,
    "start_time": "2022-09-01T15:34:04.145Z"
   },
   {
    "duration": 13,
    "start_time": "2022-09-01T15:34:04.168Z"
   },
   {
    "duration": 28,
    "start_time": "2022-09-01T15:34:04.183Z"
   },
   {
    "duration": 23,
    "start_time": "2022-09-01T15:34:04.212Z"
   },
   {
    "duration": 25,
    "start_time": "2022-09-01T15:34:04.237Z"
   },
   {
    "duration": 23,
    "start_time": "2022-09-01T15:34:04.264Z"
   },
   {
    "duration": 11,
    "start_time": "2022-09-01T15:34:04.289Z"
   }
  ],
  "kernelspec": {
   "display_name": "Python 3 (ipykernel)",
   "language": "python",
   "name": "python3"
  },
  "language_info": {
   "codemirror_mode": {
    "name": "ipython",
    "version": 3
   },
   "file_extension": ".py",
   "mimetype": "text/x-python",
   "name": "python",
   "nbconvert_exporter": "python",
   "pygments_lexer": "ipython3",
   "version": "3.9.0"
  },
  "toc": {
   "base_numbering": 1,
   "nav_menu": {},
   "number_sections": true,
   "sideBar": true,
   "skip_h1_title": true,
   "title_cell": "Table of Contents",
   "title_sidebar": "Contents",
   "toc_cell": false,
   "toc_position": {
    "height": "calc(100% - 180px)",
    "left": "10px",
    "top": "150px",
    "width": "270.594px"
   },
   "toc_section_display": true,
   "toc_window_display": true
  }
 },
 "nbformat": 4,
 "nbformat_minor": 5
}
